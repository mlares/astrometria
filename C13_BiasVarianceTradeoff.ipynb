{
 "cells": [
  {
   "cell_type": "code",
   "execution_count": 4,
   "metadata": {},
   "outputs": [],
   "source": [
    "import numpy as np\n",
    "from matplotlib import pyplot as plt\n",
    "%matplotlib inline"
   ]
  },
  {
   "cell_type": "markdown",
   "metadata": {},
   "source": [
    "### Modelo y muestras aleatorias"
   ]
  },
  {
   "cell_type": "code",
   "execution_count": 5,
   "metadata": {
    "scrolled": true
   },
   "outputs": [],
   "source": [
    "def f(x):\n",
    "    '''\n",
    "    Returns a sample with instances without noise.\n",
    "    '''\n",
    "    y = 4*np.sin(x) + np.cos(3*x)\n",
    "    return (y)\n",
    "\n",
    "def sample(x, f, noise):\n",
    "    '''\n",
    "    Returns a sample with 'size' instances.\n",
    "    '''\n",
    "    mn = np.min(f(x))\n",
    "    mx = np.max(f(x))\n",
    "    y = f(x) + np.random.normal(loc=f(x), scale=noise*(mx-mn))\n",
    "    return (y)\n",
    "    "
   ]
  },
  {
   "cell_type": "code",
   "execution_count": 9,
   "metadata": {
    "scrolled": true
   },
   "outputs": [
    {
     "data": {
      "text/plain": [
       "[<matplotlib.lines.Line2D at 0xa6f3be68>]"
      ]
     },
     "execution_count": 9,
     "metadata": {},
     "output_type": "execute_result"
    },
    {
     "data": {
      "image/png": "[encoded data removed]",
      "text/plain": [
       "<Figure size 1152x432 with 1 Axes>"
      ]
     },
     "metadata": {
      "needs_background": "light"
     },
     "output_type": "display_data"
    }
   ],
   "source": [
    "fig = plt.figure(figsize=(16, 6))\n",
    "ax = fig.add_subplot()\n",
    "xmax = 8\n",
    "x = np.linspace(0, xmax, 100)\n",
    "y = f(x)\n",
    "ax.plot(x, y)\n",
    "\n",
    "xs = np.linspace(0, xmax, 24)\n",
    "ys = sample(xs, f, .15)\n",
    "ax.plot(xs, ys, 'k.')"
   ]
  },
  {
   "cell_type": "markdown",
   "metadata": {},
   "source": [
    "### Ajuste de modelos anidados"
   ]
  },
  {
   "cell_type": "code",
   "execution_count": null,
   "metadata": {},
   "outputs": [],
   "source": [
    "from sklearn.linear_model import LinearRegression\n",
    "\n",
    "def fit_polynomial(x, y, degree):\n",
    "    '''\n",
    "    Fits a polynomial to the input sample.\n",
    "    (x,y): input sample\n",
    "    degree: polynomial degree\n",
    "    '''\n",
    "    model = LinearRegression()\n",
    "    model.fit(np.vander(x, degree + 1), y)\n",
    "    return model\n",
    "\n",
    "def apply_polynomial(model, x):\n",
    "    '''\n",
    "    Evaluates a linear regression model in an input sample\n",
    "    model: linear regression model\n",
    "    x: input sample\n",
    "    '''\n",
    "    degree = model.coef_.size - 1\n",
    "    y = model.predict(np.vander(x, degree + 1))\n",
    "    return y"
   ]
  },
  {
   "cell_type": "code",
   "execution_count": null,
   "metadata": {},
   "outputs": [],
   "source": [
    "for i in range(10):\n",
    "    model = fit_polynomial(xs, ys, i)\n",
    "    p_y = apply_polynomial(model, x)\n",
    "\n",
    "    pl.plot(x, p_y)\n",
    "\n",
    "pl.plot(xs, ys, \"o\")"
   ]
  },
  {
   "cell_type": "markdown",
   "metadata": {},
   "source": [
    "### Promedio de ajustes"
   ]
  },
  {
   "cell_type": "code",
   "execution_count": null,
   "metadata": {},
   "outputs": [],
   "source": [
    "degree = 4\n",
    "n_samples = 20\n",
    "n_models = 10\n",
    "\n",
    "avg_y = np.zeros(n_samples)\n",
    "\n",
    "xd = np.linspace(0, xmax, 100)\n",
    "xs = np.linspace(0, xmax, n_samples)\n",
    "\n",
    "for i in xrange(n_models):\n",
    "    ys = sample(xs, f, 0.15)\n",
    "    model = fit_polynomial(xs, ys, degree)\n",
    "    p_y = apply_polynomial(model, xs)\n",
    "    avg_y = avg_y + p_y\n",
    "    p_y = apply_polynomial(model, xd)\n",
    "    pl.plot(xd, p_y, 'b-', lw=0.4)\n",
    "avg_y = avg_y / n_models\n",
    "\n",
    "pl.plot(xs, avg_y, '*-y',lw=3)\n",
    "pl.plot(xd, f(xd), 'k--', lw=1)\n",
    "pl.plot(xs, ys, 'o')"
   ]
  },
  {
   "cell_type": "markdown",
   "metadata": {},
   "source": [
    "### Sesgo y varianza teóricos\n",
    "Vamos a hacer una estimacion de la varianza y del sesgo"
   ]
  },
  {
   "cell_type": "code",
   "execution_count": null,
   "metadata": {},
   "outputs": [],
   "source": [
    "from numpy.linalg import norm\n",
    "\n",
    "n_samples = 40\n",
    "xs = np.linspace(0, xmax, n_samples)\n",
    "yt = f(xs)\n",
    "n_models = 100\n",
    "max_degree = 15\n",
    "var_vals =[]\n",
    "bias_vals = []\n",
    "error_vals = []"
   ]
  },
  {
   "cell_type": "code",
   "execution_count": null,
   "metadata": {},
   "outputs": [],
   "source": [
    "for degree in xrange(1, max_degree):\n",
    "    \n",
    "    avg_y = np.zeros(n_samples)\n",
    "    models = []\n",
    "    for i in xrange(n_models):\n",
    "        \n",
    "        ys = sample(xs, f, 0.15)\n",
    "        model = fit_polynomial(xs, ys, degree)\n",
    "        p_y = apply_polynomial(model, xs)\n",
    "        \n",
    "        avg_y = avg_y + p_y\n",
    "        models.append(p_y)\n",
    "        \n",
    "    avg_y = avg_y / n_models\n",
    "    bias_2 = norm(avg_y - yt)/ys.size\n",
    "    bias_vals.append(bias_2)\n",
    "    variance = 0\n",
    "    for p_y in models:\n",
    "        variance += norm(avg_y - p_y)\n",
    "    variance /= ys.size * n_models\n",
    "    var_vals.append(variance)\n",
    "    error_vals.append(variance + bias_2)"
   ]
  },
  {
   "cell_type": "code",
   "execution_count": null,
   "metadata": {},
   "outputs": [],
   "source": [
    "pl.plot(range(1, max_degree), bias_vals, label='bias')\n",
    "pl.plot(range(1, max_degree), var_vals, label='variance')\n",
    "pl.plot(range(1, max_degree), error_vals, label='error')\n",
    "pl.legend()"
   ]
  },
  {
   "cell_type": "markdown",
   "metadata": {},
   "source": [
    "### Validación cruzada\n",
    "\n",
    "En la vida real no tenemos la función, la idea es que tenemos una muestra, de la cual separamos dos submuestras, una de entrenamiento y una de validación."
   ]
  },
  {
   "cell_type": "code",
   "execution_count": null,
   "metadata": {},
   "outputs": [],
   "source": [
    "n_samples = 30\n",
    "n_train = 15\n",
    "\n",
    "# simulamos una muestra:\n",
    "x_all = np.linspace(0, xmax, n_samples)\n",
    "y_all = sample(x_all, f, 0.15)\n",
    "\n",
    "# muestras de entrenamiento y validacion:\n",
    "import random\n",
    "\n",
    "ids = random.sample(range(n_samples), n_train)\n",
    "\n",
    "x_train = [x_all[k] for k in range(len(x_all)) if k in ids]\n",
    "y_train = [y_all[k] for k in range(len(x_all)) if k in ids]\n",
    "\n",
    "x_test = [x_all[k] for k in range(len(x_all)) if k not in ids]\n",
    "y_test = [y_all[k] for k in range(len(x_all)) if k not in ids]"
   ]
  },
  {
   "cell_type": "code",
   "execution_count": null,
   "metadata": {},
   "outputs": [],
   "source": [
    "pl.plot(x_all, y_all, \"ok\")\n",
    "pl.plot(x_train, y_train, \".b\")\n",
    "pl.plot(x_test, y_test, \".r\")"
   ]
  },
  {
   "cell_type": "code",
   "execution_count": null,
   "metadata": {},
   "outputs": [],
   "source": [
    "max_degree = 10\n",
    "\n",
    "test_error_vals = []\n",
    "train_error_vals = []\n",
    "\n",
    "for degree in xrange(1, max_degree):\n",
    "    \n",
    "    model = fit_polynomial(x_train, y_train, degree)\n",
    "    \n",
    "    y_model = apply_polynomial(model, x_train)\n",
    "    train_error_vals.append(pl.norm(y_train - y_model)**2)\n",
    "    \n",
    "    y_model = apply_polynomial(model, x_test)\n",
    "    test_error_vals.append(pl.norm(y_test - y_model)**2)"
   ]
  },
  {
   "cell_type": "code",
   "execution_count": null,
   "metadata": {},
   "outputs": [],
   "source": [
    "pl.plot(range(1, max_degree), test_error_vals, label='test error')\n",
    "pl.plot(range(1, max_degree), train_error_vals, label='train error')\n",
    "pl.legend()"
   ]
  },
  {
   "cell_type": "markdown",
   "metadata": {},
   "source": [
    "Si hubiéramos tomado las muestras de entrenamiento y de validación de manera diferente, tendríamos seguramente otras curvas...."
   ]
  },
  {
   "cell_type": "code",
   "execution_count": null,
   "metadata": {},
   "outputs": [],
   "source": [
    "n_experiments = 100\n",
    "n_samples = 20\n",
    "n_train = 10\n",
    "max_degree = 8\n",
    "\n",
    "x_all = np.linspace(0, xmax, n_samples)\n",
    "y_all = sample(x_all, f, 0.3)\n",
    "\n",
    "for e in range(n_experiments):\n",
    "\n",
    "    ids = random.sample(range(n_samples), n_train)\n",
    "    x_train = [x_all[k] for k in range(len(x_all)) if k in ids]\n",
    "    y_train = [y_all[k] for k in range(len(x_all)) if k in ids]\n",
    "    x_test = [x_all[k] for k in range(len(x_all)) if k not in ids]\n",
    "    y_test = [y_all[k] for k in range(len(x_all)) if k not in ids]\n",
    "    \n",
    "    test_error_vals = []\n",
    "    train_error_vals = []\n",
    "\n",
    "    for degree in xrange(1, max_degree):\n",
    "    \n",
    "        model = fit_polynomial(x_train, y_train, degree)\n",
    "    \n",
    "        y_model = apply_polynomial(model, x_train)\n",
    "        train_error_vals.append(pl.norm(y_train - y_model)**2)\n",
    "        \n",
    "        y_model = apply_polynomial(model, x_test)\n",
    "        test_error_vals.append(pl.norm(y_test - y_model)**2)\n",
    "        \n",
    "    pl.plot(range(1, max_degree), test_error_vals, 'b',lw=0.1)\n",
    "    pl.plot(range(1, max_degree), train_error_vals, 'r', lw=0.1)\n",
    "    pl.xlim(1,max_degree-1)\n",
    "    pl.ylim(0,70)"
   ]
  }
 ],
 "metadata": {
  "kernelspec": {
   "display_name": "Python 3 (ipykernel)",
   "language": "python",
   "name": "python3"
  },
  "language_info": {
   "codemirror_mode": {
    "name": "ipython",
    "version": 3
   },
   "file_extension": ".py",
   "mimetype": "text/x-python",
   "name": "python",
   "nbconvert_exporter": "python",
   "pygments_lexer": "ipython3",
   "version": "3.9.2"
  }
 },
 "nbformat": 4,
 "nbformat_minor": 4
}
