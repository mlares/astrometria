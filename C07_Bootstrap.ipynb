{
 "cells": [
  {
   "cell_type": "code",
   "execution_count": 2,
   "metadata": {
    "tags": []
   },
   "outputs": [],
   "source": [
    "from scipy import stats\n",
    "import numpy as np\n",
    "import matplotlib.pyplot as plt\n",
    "\n",
    "import itertools as itt\n",
    "import math\n",
    "\n",
    "## Propiedad reproductiva de la Normal"
   ]
  },
  {
   "cell_type": "markdown",
   "metadata": {},
   "source": [
    "# Varianza conocida"
   ]
  },
  {
   "cell_type": "markdown",
   "metadata": {},
   "source": [
    "*Generamos puntos random con una distribución normal:*"
   ]
  },
  {
   "cell_type": "code",
   "execution_count": 3,
   "metadata": {
    "tags": []
   },
   "outputs": [],
   "source": [
    "X = stats.norm.rvs(loc=0., scale=5., size=100)"
   ]
  },
  {
   "cell_type": "code",
   "execution_count": 4,
   "metadata": {},
   "outputs": [
    {
     "data": {
      "text/plain": [
       "-0.3550832560280917"
      ]
     },
     "execution_count": 4,
     "metadata": {},
     "output_type": "execute_result"
    }
   ],
   "source": [
    "X.mean()"
   ]
  },
  {
   "cell_type": "markdown",
   "metadata": {},
   "source": [
    "*Ahora muchas veces!*"
   ]
  },
  {
   "cell_type": "code",
   "execution_count": 5,
   "metadata": {
    "tags": []
   },
   "outputs": [],
   "source": [
    "Nexperiments = 50\n",
    "\n",
    "mu = 0.\n",
    "sd = 5.\n",
    "n = 100\n",
    "\n",
    "means = []\n",
    "for _ in range(Nexperiments):\n",
    "    X = stats.norm.rvs(loc=mu, scale=sd, size=n)\n",
    "    means.append(X.mean())"
   ]
  },
  {
   "cell_type": "code",
   "execution_count": 6,
   "metadata": {},
   "outputs": [
    {
     "data": {
      "image/png": "[encoded data removed]",
      "text/plain": [
       "<Figure size 432x288 with 1 Axes>"
      ]
     },
     "metadata": {
      "needs_background": "light"
     },
     "output_type": "display_data"
    }
   ],
   "source": [
    "plt.hist(means)\n",
    "plt.show()"
   ]
  },
  {
   "cell_type": "markdown",
   "metadata": {},
   "source": [
    "y ahora MAS veces!"
   ]
  },
  {
   "cell_type": "code",
   "execution_count": 7,
   "metadata": {
    "tags": []
   },
   "outputs": [],
   "source": [
    "Nexperiments = 500\n",
    "\n",
    "mu = 0.\n",
    "sd = 5.\n",
    "n = 100\n",
    "\n",
    "means = []\n",
    "for _ in range(Nexperiments):\n",
    "    X = stats.norm.rvs(loc=mu, scale=sd, size=n)\n",
    "    means.append(X.mean())"
   ]
  },
  {
   "cell_type": "code",
   "execution_count": 9,
   "metadata": {},
   "outputs": [
    {
     "data": {
      "image/png": "[encoded data removed]",
      "text/plain": [
       "<Figure size 432x288 with 1 Axes>"
      ]
     },
     "metadata": {
      "needs_background": "light"
     },
     "output_type": "display_data"
    }
   ],
   "source": [
    "plt.hist(means, bins=50, density=True)\n",
    "plt.show()"
   ]
  },
  {
   "cell_type": "markdown",
   "metadata": {},
   "source": [
    "Comparación con la teoría:"
   ]
  },
  {
   "cell_type": "code",
   "execution_count": 16,
   "metadata": {},
   "outputs": [
    {
     "data": {
      "image/png": "[encoded data removed]",
      "text/plain": [
       "<Figure size 432x288 with 1 Axes>"
      ]
     },
     "metadata": {
      "needs_background": "light"
     },
     "output_type": "display_data"
    }
   ],
   "source": [
    "x = np.arange(-3, 3, 0.1)\n",
    "sd_avg = sd/np.sqrt(n)\n",
    "f = stats.norm(loc=mu, scale=sd_avg)\n",
    "y = f.pdf(x)\n",
    "\n",
    "plt.hist(means, bins=50, density=True)\n",
    "plt.plot(x, y, 'k-', linewidth=4)\n",
    "plt.show()"
   ]
  },
  {
   "cell_type": "markdown",
   "metadata": {},
   "source": [
    "# BOOTSTRAP"
   ]
  },
  {
   "cell_type": "markdown",
   "metadata": {},
   "source": [
    "#### Sorteo una muestra de randoms y quiero estimar la media y el error estándar de la estimación de la media con bootstrap"
   ]
  },
  {
   "cell_type": "code",
   "execution_count": 135,
   "metadata": {
    "tags": []
   },
   "outputs": [],
   "source": [
    "mu = np.pi\n",
    "sd = 3.\n",
    "Nsample = 5\n",
    "\n",
    "X = stats.norm.rvs(loc=mu, scale=sd, size=Nsample)"
   ]
  },
  {
   "cell_type": "code",
   "execution_count": 136,
   "metadata": {},
   "outputs": [
    {
     "data": {
      "text/plain": [
       "array([2.4597934 , 3.61854043, 5.23719504, 8.81861407, 2.48778853])"
      ]
     },
     "execution_count": 136,
     "metadata": {},
     "output_type": "execute_result"
    }
   ],
   "source": [
    "X"
   ]
  },
  {
   "cell_type": "markdown",
   "metadata": {},
   "source": [
    "#### ...pero hacerlo para n más grande requiere mucho tiempo de cómputo\n",
    "#### WARNING!  Si se corren las celdas que siguen con Nsample grande (aprox. > 8) se cuelga la laptop!"
   ]
  },
  {
   "cell_type": "code",
   "execution_count": 137,
   "metadata": {},
   "outputs": [
    {
     "data": {
      "text/plain": [
       "126"
      ]
     },
     "execution_count": 137,
     "metadata": {},
     "output_type": "execute_result"
    }
   ],
   "source": [
    "L = list(itt.combinations_with_replacement(range(Nsample),Nsample))\n",
    "len(L)"
   ]
  },
  {
   "cell_type": "markdown",
   "metadata": {},
   "source": [
    "... el numero de combinaciones con repetición y sin orden:"
   ]
  },
  {
   "cell_type": "code",
   "execution_count": 138,
   "metadata": {},
   "outputs": [
    {
     "data": {
      "text/plain": [
       "126.0"
      ]
     },
     "execution_count": 138,
     "metadata": {},
     "output_type": "execute_result"
    }
   ],
   "source": [
    "math.factorial(2*Nsample-1)/math.factorial(Nsample)/math.factorial(Nsample-1)"
   ]
  },
  {
   "cell_type": "code",
   "execution_count": null,
   "metadata": {},
   "outputs": [],
   "source": []
  },
  {
   "cell_type": "markdown",
   "metadata": {},
   "source": [
    "Ahora hacemos la cuenta con TODAS las combinaciones posibles (Cuidado!  que Nsample sea chico):"
   ]
  },
  {
   "cell_type": "code",
   "execution_count": 139,
   "metadata": {},
   "outputs": [],
   "source": [
    "#print L[2342]\n",
    "#print X[list(L[2342])]"
   ]
  },
  {
   "cell_type": "code",
   "execution_count": 140,
   "metadata": {
    "tags": []
   },
   "outputs": [],
   "source": [
    "means = []\n",
    "\n",
    "for i in list(itt.combinations_with_replacement(range(Nsample),Nsample)):\n",
    "    S = X[list(i)]\n",
    "    means.append(S.mean())"
   ]
  },
  {
   "cell_type": "code",
   "execution_count": 141,
   "metadata": {},
   "outputs": [
    {
     "data": {
      "image/png": "[encoded data removed]",
      "text/plain": [
       "<Figure size 432x288 with 1 Axes>"
      ]
     },
     "metadata": {
      "needs_background": "light"
     },
     "output_type": "display_data"
    }
   ],
   "source": [
    "plt.hist(means,  density=True)\n",
    "plt.show()"
   ]
  },
  {
   "cell_type": "code",
   "execution_count": 142,
   "metadata": {},
   "outputs": [
    {
     "name": "stdout",
     "output_type": "stream",
     "text": [
      "1.370628067953805\n"
     ]
    }
   ],
   "source": [
    "print(np.std(means))"
   ]
  },
  {
   "cell_type": "code",
   "execution_count": 143,
   "metadata": {},
   "outputs": [
    {
     "name": "stdout",
     "output_type": "stream",
     "text": [
      "1.3416407864998738\n"
     ]
    }
   ],
   "source": [
    "print(sd/np.sqrt(Nsample))"
   ]
  },
  {
   "cell_type": "code",
   "execution_count": 153,
   "metadata": {},
   "outputs": [
    {
     "name": "stdout",
     "output_type": "stream",
     "text": [
      "1.3416407864998738 0.394108282056054\n",
      "1.3416407864998738 1.0308650995530784\n",
      "1.3416407864998738 1.20240014187365\n",
      "1.3416407864998738 1.4607424809043388\n",
      "1.3416407864998738 1.4663367054263998\n",
      "1.3416407864998738 1.920687923170692\n",
      "1.3416407864998738 2.0409276315521963\n",
      "1.3416407864998738 0.9084687185861591\n",
      "1.3416407864998738 0.6771424384501006\n",
      "1.3416407864998738 1.1111188709095476\n",
      "1.3416407864998738 1.0281557380205955\n",
      "1.3416407864998738 0.7812447984049156\n",
      "1.3416407864998738 1.823492767087927\n",
      "1.3416407864998738 1.362674805340726\n",
      "1.3416407864998738 0.3987381263448771\n",
      "1.3416407864998738 2.2228821958332676\n",
      "1.3416407864998738 0.6279913736389674\n",
      "1.3416407864998738 0.9055300059240096\n",
      "1.3416407864998738 2.227598858311255\n",
      "1.3416407864998738 1.5800681112402977\n"
     ]
    }
   ],
   "source": [
    "mu = np.pi\n",
    "sd = 3.\n",
    "Nsample = 5\n",
    "\n",
    "Nexperiments = 20\n",
    "\n",
    "for k in range(Nexperiments):\n",
    "    X = stats.norm.rvs(loc=mu, scale=sd, size=Nsample)\n",
    "    means = []\n",
    "\n",
    "    for i in list(itt.combinations_with_replacement(range(Nsample),Nsample)):\n",
    "        S = X[list(i)]\n",
    "        means.append(S.mean())\n",
    "    print(sd/np.sqrt(Nsample), np.std(means))"
   ]
  },
  {
   "cell_type": "code",
   "execution_count": null,
   "metadata": {},
   "outputs": [],
   "source": []
  },
  {
   "cell_type": "code",
   "execution_count": null,
   "metadata": {},
   "outputs": [],
   "source": []
  },
  {
   "cell_type": "code",
   "execution_count": null,
   "metadata": {},
   "outputs": [],
   "source": []
  },
  {
   "cell_type": "code",
   "execution_count": null,
   "metadata": {},
   "outputs": [],
   "source": []
  },
  {
   "cell_type": "markdown",
   "metadata": {},
   "source": [
    "y ahora hacemos la estimación de la \"media\" con randoms (MonteCarlo):"
   ]
  },
  {
   "cell_type": "code",
   "execution_count": 154,
   "metadata": {
    "tags": []
   },
   "outputs": [],
   "source": [
    "means_B = []\n",
    "Nboot = 100\n",
    "\n",
    "for i in range(Nboot):\n",
    "    l = np.random.choice(Nsample, size=Nsample)\n",
    "    S = X[list(l)]\n",
    "    means_B.append(S.mean())"
   ]
  },
  {
   "cell_type": "code",
   "execution_count": 155,
   "metadata": {},
   "outputs": [
    {
     "data": {
      "text/plain": [
       "array([1, 2, 1, 4, 3])"
      ]
     },
     "execution_count": 155,
     "metadata": {},
     "output_type": "execute_result"
    }
   ],
   "source": [
    "np.random.choice(Nsample, size=Nsample)"
   ]
  },
  {
   "cell_type": "code",
   "execution_count": 156,
   "metadata": {},
   "outputs": [
    {
     "data": {
      "image/png": "[encoded data removed]",
      "text/plain": [
       "<Figure size 432x288 with 1 Axes>"
      ]
     },
     "metadata": {
      "needs_background": "light"
     },
     "output_type": "display_data"
    }
   ],
   "source": [
    "plt.hist(means_B, density=True)\n",
    "plt.show()"
   ]
  },
  {
   "cell_type": "code",
   "execution_count": 157,
   "metadata": {},
   "outputs": [
    {
     "data": {
      "image/png": "[encoded data removed]",
      "text/plain": [
       "<Figure size 432x288 with 1 Axes>"
      ]
     },
     "metadata": {
      "needs_background": "light"
     },
     "output_type": "display_data"
    }
   ],
   "source": [
    "plt.hist(means, bins=15, alpha=0.5, density=True, label='x')\n",
    "plt.hist(means_B, bins=15, alpha=0.5, density=True, label='y')\n",
    "plt.legend(loc='upper right')\n",
    "plt.show()"
   ]
  },
  {
   "cell_type": "markdown",
   "metadata": {},
   "source": [
    "### Cuando la muestra es más grande, sólo se puede hacer la estimación..."
   ]
  },
  {
   "cell_type": "code",
   "execution_count": 158,
   "metadata": {
    "tags": []
   },
   "outputs": [],
   "source": [
    "Nsample = 12"
   ]
  },
  {
   "cell_type": "code",
   "execution_count": 159,
   "metadata": {
    "tags": []
   },
   "outputs": [],
   "source": [
    "mu = 12.\n",
    "sd = 3.\n",
    "\n",
    "X = stats.norm.rvs(loc=mu, scale=sd, size=Nsample)"
   ]
  },
  {
   "cell_type": "code",
   "execution_count": 161,
   "metadata": {},
   "outputs": [
    {
     "data": {
      "image/png": "[encoded data removed]",
      "text/plain": [
       "<Figure size 432x288 with 1 Axes>"
      ]
     },
     "metadata": {
      "needs_background": "light"
     },
     "output_type": "display_data"
    }
   ],
   "source": [
    "s = np.linspace(mu-3*sd, mu+3*sd)\n",
    "f = stats.norm.pdf(s, mu, sd)\n",
    "plt.plot(s, f)\n",
    "plt.hist(X, density=True, color='lightgray')\n",
    "plt.plot(X, [0.01]*len(X), '|', color='k')\n",
    "plt.show()"
   ]
  },
  {
   "cell_type": "code",
   "execution_count": 162,
   "metadata": {
    "tags": []
   },
   "outputs": [],
   "source": [
    "means_B = []\n",
    "Nboot = 500\n",
    "\n",
    "for i in range(Nboot):\n",
    "    l = np.random.choice(Nsample, size=Nsample)\n",
    "    S = X[list(l)]\n",
    "    means_B.append(S.mean())"
   ]
  },
  {
   "cell_type": "code",
   "execution_count": 164,
   "metadata": {},
   "outputs": [
    {
     "data": {
      "image/png": "[encoded data removed]",
      "text/plain": [
       "<Figure size 432x288 with 1 Axes>"
      ]
     },
     "metadata": {
      "needs_background": "light"
     },
     "output_type": "display_data"
    }
   ],
   "source": [
    "s = np.linspace(mu-sd, mu+sd, num=200)\n",
    "f = stats.t.pdf(s, df=Nsample-1, loc=mu, scale=sd/math.sqrt(Nsample))\n",
    "f2 = stats.norm.pdf(s, loc=mu, scale=sd/math.sqrt(Nsample))\n",
    "\n",
    "plt.plot(s, f)\n",
    "plt.plot(s, f2)\n",
    "plt.hist(means_B,  density=True)\n",
    "plt.show()"
   ]
  },
  {
   "cell_type": "code",
   "execution_count": null,
   "metadata": {
    "collapsed": true,
    "jupyter": {
     "outputs_hidden": true
    }
   },
   "outputs": [],
   "source": []
  },
  {
   "cell_type": "code",
   "execution_count": null,
   "metadata": {
    "collapsed": true,
    "jupyter": {
     "outputs_hidden": true
    }
   },
   "outputs": [],
   "source": []
  },
  {
   "cell_type": "code",
   "execution_count": null,
   "metadata": {},
   "outputs": [],
   "source": []
  }
 ],
 "metadata": {
  "kernelspec": {
   "display_name": "Python 3 (ipykernel)",
   "language": "python",
   "name": "python3"
  },
  "language_info": {
   "codemirror_mode": {
    "name": "ipython",
    "version": 3
   },
   "file_extension": ".py",
   "mimetype": "text/x-python",
   "name": "python",
   "nbconvert_exporter": "python",
   "pygments_lexer": "ipython3",
   "version": "3.8.5"
  }
 },
 "nbformat": 4,
 "nbformat_minor": 4
}
