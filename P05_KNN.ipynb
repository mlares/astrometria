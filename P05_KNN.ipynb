{
 "cells": [
  {
   "cell_type": "code",
   "execution_count": 4,
   "metadata": {},
   "outputs": [],
   "source": [
    "import numpy as np\n",
    "import pandas as pd\n",
    "\n",
    "import requests\n",
    "import json,os,datetime\n",
    "import csv\n",
    "from pandas import DataFrame\n",
    "from pprint import pprint\n",
    "import matplotlib.pyplot as plt\n",
    "import seaborn as sns #for beautiful plots\n",
    "%matplotlib inline\n",
    "import os"
   ]
  },
  {
   "cell_type": "code",
   "execution_count": 5,
   "metadata": {},
   "outputs": [],
   "source": [
    "data = pd.read_csv('clean_data.csv')"
   ]
  },
  {
   "cell_type": "code",
   "execution_count": 6,
   "metadata": {},
   "outputs": [
    {
     "data": {
      "text/html": [
       "<div>\n",
       "<style scoped>\n",
       "    .dataframe tbody tr th:only-of-type {\n",
       "        vertical-align: middle;\n",
       "    }\n",
       "\n",
       "    .dataframe tbody tr th {\n",
       "        vertical-align: top;\n",
       "    }\n",
       "\n",
       "    .dataframe thead th {\n",
       "        text-align: right;\n",
       "    }\n",
       "</style>\n",
       "<table border=\"1\" class=\"dataframe\">\n",
       "  <thead>\n",
       "    <tr style=\"text-align: right;\">\n",
       "      <th></th>\n",
       "      <th>Absolute Magnitude</th>\n",
       "      <th>Est Dia in KM(min)</th>\n",
       "      <th>Close Approach Date</th>\n",
       "      <th>Epoch Date Close Approach</th>\n",
       "      <th>Relative Velocity km per sec</th>\n",
       "      <th>Miss Dist.(Astronomical)</th>\n",
       "      <th>Orbit ID</th>\n",
       "      <th>Orbit Uncertainity</th>\n",
       "      <th>Minimum Orbit Intersection</th>\n",
       "      <th>Jupiter Tisserand Invariant</th>\n",
       "      <th>...</th>\n",
       "      <th>Inclination</th>\n",
       "      <th>Asc Node Longitude</th>\n",
       "      <th>Orbital Period</th>\n",
       "      <th>Perihelion Distance</th>\n",
       "      <th>Perihelion Arg</th>\n",
       "      <th>Aphelion Dist</th>\n",
       "      <th>Perihelion Time</th>\n",
       "      <th>Mean Anomaly</th>\n",
       "      <th>Mean Motion</th>\n",
       "      <th>Hazardous</th>\n",
       "    </tr>\n",
       "  </thead>\n",
       "  <tbody>\n",
       "    <tr>\n",
       "      <th>0</th>\n",
       "      <td>21.600</td>\n",
       "      <td>0.127220</td>\n",
       "      <td>16436</td>\n",
       "      <td>788947200000</td>\n",
       "      <td>6.115834</td>\n",
       "      <td>0.419483</td>\n",
       "      <td>17</td>\n",
       "      <td>5</td>\n",
       "      <td>0.025282</td>\n",
       "      <td>4.634</td>\n",
       "      <td>...</td>\n",
       "      <td>6.025981</td>\n",
       "      <td>314.373913</td>\n",
       "      <td>609.599786</td>\n",
       "      <td>0.808259</td>\n",
       "      <td>57.257470</td>\n",
       "      <td>2.005764</td>\n",
       "      <td>2.458162e+06</td>\n",
       "      <td>264.837533</td>\n",
       "      <td>0.590551</td>\n",
       "      <td>True</td>\n",
       "    </tr>\n",
       "    <tr>\n",
       "      <th>1</th>\n",
       "      <td>21.300</td>\n",
       "      <td>0.146068</td>\n",
       "      <td>16436</td>\n",
       "      <td>788947200000</td>\n",
       "      <td>18.113985</td>\n",
       "      <td>0.383014</td>\n",
       "      <td>21</td>\n",
       "      <td>3</td>\n",
       "      <td>0.186935</td>\n",
       "      <td>5.457</td>\n",
       "      <td>...</td>\n",
       "      <td>28.412996</td>\n",
       "      <td>136.717242</td>\n",
       "      <td>425.869294</td>\n",
       "      <td>0.718200</td>\n",
       "      <td>313.091975</td>\n",
       "      <td>1.497352</td>\n",
       "      <td>2.457795e+06</td>\n",
       "      <td>173.741112</td>\n",
       "      <td>0.845330</td>\n",
       "      <td>False</td>\n",
       "    </tr>\n",
       "    <tr>\n",
       "      <th>2</th>\n",
       "      <td>20.300</td>\n",
       "      <td>0.231502</td>\n",
       "      <td>16443</td>\n",
       "      <td>789552000000</td>\n",
       "      <td>7.590711</td>\n",
       "      <td>0.050956</td>\n",
       "      <td>22</td>\n",
       "      <td>0</td>\n",
       "      <td>0.043058</td>\n",
       "      <td>4.557</td>\n",
       "      <td>...</td>\n",
       "      <td>4.237961</td>\n",
       "      <td>259.475979</td>\n",
       "      <td>643.580228</td>\n",
       "      <td>0.950791</td>\n",
       "      <td>248.415038</td>\n",
       "      <td>1.966857</td>\n",
       "      <td>2.458120e+06</td>\n",
       "      <td>292.893654</td>\n",
       "      <td>0.559371</td>\n",
       "      <td>True</td>\n",
       "    </tr>\n",
       "    <tr>\n",
       "      <th>3</th>\n",
       "      <td>27.400</td>\n",
       "      <td>0.008801</td>\n",
       "      <td>16450</td>\n",
       "      <td>790156800000</td>\n",
       "      <td>11.173874</td>\n",
       "      <td>0.285322</td>\n",
       "      <td>7</td>\n",
       "      <td>6</td>\n",
       "      <td>0.005512</td>\n",
       "      <td>5.093</td>\n",
       "      <td>...</td>\n",
       "      <td>7.905894</td>\n",
       "      <td>57.173266</td>\n",
       "      <td>514.082140</td>\n",
       "      <td>0.983902</td>\n",
       "      <td>18.707701</td>\n",
       "      <td>1.527904</td>\n",
       "      <td>2.457902e+06</td>\n",
       "      <td>68.741007</td>\n",
       "      <td>0.700277</td>\n",
       "      <td>False</td>\n",
       "    </tr>\n",
       "    <tr>\n",
       "      <th>4</th>\n",
       "      <td>21.600</td>\n",
       "      <td>0.127220</td>\n",
       "      <td>16450</td>\n",
       "      <td>790156800000</td>\n",
       "      <td>9.840831</td>\n",
       "      <td>0.407832</td>\n",
       "      <td>25</td>\n",
       "      <td>1</td>\n",
       "      <td>0.034798</td>\n",
       "      <td>5.154</td>\n",
       "      <td>...</td>\n",
       "      <td>16.793382</td>\n",
       "      <td>84.629307</td>\n",
       "      <td>495.597821</td>\n",
       "      <td>0.967687</td>\n",
       "      <td>158.263596</td>\n",
       "      <td>1.483543</td>\n",
       "      <td>2.457814e+06</td>\n",
       "      <td>135.142133</td>\n",
       "      <td>0.726395</td>\n",
       "      <td>True</td>\n",
       "    </tr>\n",
       "    <tr>\n",
       "      <th>...</th>\n",
       "      <td>...</td>\n",
       "      <td>...</td>\n",
       "      <td>...</td>\n",
       "      <td>...</td>\n",
       "      <td>...</td>\n",
       "      <td>...</td>\n",
       "      <td>...</td>\n",
       "      <td>...</td>\n",
       "      <td>...</td>\n",
       "      <td>...</td>\n",
       "      <td>...</td>\n",
       "      <td>...</td>\n",
       "      <td>...</td>\n",
       "      <td>...</td>\n",
       "      <td>...</td>\n",
       "      <td>...</td>\n",
       "      <td>...</td>\n",
       "      <td>...</td>\n",
       "      <td>...</td>\n",
       "      <td>...</td>\n",
       "      <td>...</td>\n",
       "    </tr>\n",
       "    <tr>\n",
       "      <th>4682</th>\n",
       "      <td>23.900</td>\n",
       "      <td>0.044112</td>\n",
       "      <td>24357</td>\n",
       "      <td>1473318000000</td>\n",
       "      <td>22.154265</td>\n",
       "      <td>0.041361</td>\n",
       "      <td>4</td>\n",
       "      <td>8</td>\n",
       "      <td>0.019777</td>\n",
       "      <td>5.156</td>\n",
       "      <td>...</td>\n",
       "      <td>39.880491</td>\n",
       "      <td>164.183305</td>\n",
       "      <td>457.179984</td>\n",
       "      <td>0.741558</td>\n",
       "      <td>276.395697</td>\n",
       "      <td>1.581299</td>\n",
       "      <td>2.457708e+06</td>\n",
       "      <td>304.306025</td>\n",
       "      <td>0.787436</td>\n",
       "      <td>False</td>\n",
       "    </tr>\n",
       "    <tr>\n",
       "      <th>4683</th>\n",
       "      <td>28.200</td>\n",
       "      <td>0.006089</td>\n",
       "      <td>24357</td>\n",
       "      <td>1473318000000</td>\n",
       "      <td>3.225150</td>\n",
       "      <td>0.006469</td>\n",
       "      <td>2</td>\n",
       "      <td>6</td>\n",
       "      <td>0.006451</td>\n",
       "      <td>5.742</td>\n",
       "      <td>...</td>\n",
       "      <td>5.360249</td>\n",
       "      <td>345.225230</td>\n",
       "      <td>407.185767</td>\n",
       "      <td>0.996434</td>\n",
       "      <td>42.111064</td>\n",
       "      <td>1.153835</td>\n",
       "      <td>2.458088e+06</td>\n",
       "      <td>282.978786</td>\n",
       "      <td>0.884117</td>\n",
       "      <td>False</td>\n",
       "    </tr>\n",
       "    <tr>\n",
       "      <th>4684</th>\n",
       "      <td>22.700</td>\n",
       "      <td>0.076658</td>\n",
       "      <td>24357</td>\n",
       "      <td>1473318000000</td>\n",
       "      <td>7.191642</td>\n",
       "      <td>0.061009</td>\n",
       "      <td>17</td>\n",
       "      <td>6</td>\n",
       "      <td>0.059973</td>\n",
       "      <td>4.410</td>\n",
       "      <td>...</td>\n",
       "      <td>4.405467</td>\n",
       "      <td>37.026468</td>\n",
       "      <td>690.054279</td>\n",
       "      <td>0.965760</td>\n",
       "      <td>274.692712</td>\n",
       "      <td>2.090708</td>\n",
       "      <td>2.458300e+06</td>\n",
       "      <td>203.501147</td>\n",
       "      <td>0.521698</td>\n",
       "      <td>False</td>\n",
       "    </tr>\n",
       "    <tr>\n",
       "      <th>4685</th>\n",
       "      <td>21.800</td>\n",
       "      <td>0.116026</td>\n",
       "      <td>24357</td>\n",
       "      <td>1473318000000</td>\n",
       "      <td>11.352090</td>\n",
       "      <td>0.260760</td>\n",
       "      <td>6</td>\n",
       "      <td>5</td>\n",
       "      <td>0.177510</td>\n",
       "      <td>4.477</td>\n",
       "      <td>...</td>\n",
       "      <td>21.080244</td>\n",
       "      <td>163.802910</td>\n",
       "      <td>662.048343</td>\n",
       "      <td>1.185467</td>\n",
       "      <td>180.346090</td>\n",
       "      <td>1.787733</td>\n",
       "      <td>2.458288e+06</td>\n",
       "      <td>203.524965</td>\n",
       "      <td>0.543767</td>\n",
       "      <td>False</td>\n",
       "    </tr>\n",
       "    <tr>\n",
       "      <th>4686</th>\n",
       "      <td>19.109</td>\n",
       "      <td>0.400641</td>\n",
       "      <td>24357</td>\n",
       "      <td>1473318000000</td>\n",
       "      <td>35.946852</td>\n",
       "      <td>0.462372</td>\n",
       "      <td>13</td>\n",
       "      <td>6</td>\n",
       "      <td>0.051777</td>\n",
       "      <td>4.108</td>\n",
       "      <td>...</td>\n",
       "      <td>53.574923</td>\n",
       "      <td>187.642183</td>\n",
       "      <td>653.679098</td>\n",
       "      <td>0.876110</td>\n",
       "      <td>222.436688</td>\n",
       "      <td>2.071980</td>\n",
       "      <td>2.458319e+06</td>\n",
       "      <td>184.820424</td>\n",
       "      <td>0.550729</td>\n",
       "      <td>False</td>\n",
       "    </tr>\n",
       "  </tbody>\n",
       "</table>\n",
       "<p>4687 rows × 23 columns</p>\n",
       "</div>"
      ],
      "text/plain": [
       "      Absolute Magnitude  Est Dia in KM(min)  Close Approach Date  \\\n",
       "0                 21.600            0.127220                16436   \n",
       "1                 21.300            0.146068                16436   \n",
       "2                 20.300            0.231502                16443   \n",
       "3                 27.400            0.008801                16450   \n",
       "4                 21.600            0.127220                16450   \n",
       "...                  ...                 ...                  ...   \n",
       "4682              23.900            0.044112                24357   \n",
       "4683              28.200            0.006089                24357   \n",
       "4684              22.700            0.076658                24357   \n",
       "4685              21.800            0.116026                24357   \n",
       "4686              19.109            0.400641                24357   \n",
       "\n",
       "      Epoch Date Close Approach  Relative Velocity km per sec  \\\n",
       "0                  788947200000                      6.115834   \n",
       "1                  788947200000                     18.113985   \n",
       "2                  789552000000                      7.590711   \n",
       "3                  790156800000                     11.173874   \n",
       "4                  790156800000                      9.840831   \n",
       "...                         ...                           ...   \n",
       "4682              1473318000000                     22.154265   \n",
       "4683              1473318000000                      3.225150   \n",
       "4684              1473318000000                      7.191642   \n",
       "4685              1473318000000                     11.352090   \n",
       "4686              1473318000000                     35.946852   \n",
       "\n",
       "      Miss Dist.(Astronomical)  Orbit ID  Orbit Uncertainity  \\\n",
       "0                     0.419483        17                   5   \n",
       "1                     0.383014        21                   3   \n",
       "2                     0.050956        22                   0   \n",
       "3                     0.285322         7                   6   \n",
       "4                     0.407832        25                   1   \n",
       "...                        ...       ...                 ...   \n",
       "4682                  0.041361         4                   8   \n",
       "4683                  0.006469         2                   6   \n",
       "4684                  0.061009        17                   6   \n",
       "4685                  0.260760         6                   5   \n",
       "4686                  0.462372        13                   6   \n",
       "\n",
       "      Minimum Orbit Intersection  Jupiter Tisserand Invariant  ...  \\\n",
       "0                       0.025282                        4.634  ...   \n",
       "1                       0.186935                        5.457  ...   \n",
       "2                       0.043058                        4.557  ...   \n",
       "3                       0.005512                        5.093  ...   \n",
       "4                       0.034798                        5.154  ...   \n",
       "...                          ...                          ...  ...   \n",
       "4682                    0.019777                        5.156  ...   \n",
       "4683                    0.006451                        5.742  ...   \n",
       "4684                    0.059973                        4.410  ...   \n",
       "4685                    0.177510                        4.477  ...   \n",
       "4686                    0.051777                        4.108  ...   \n",
       "\n",
       "      Inclination  Asc Node Longitude  Orbital Period  Perihelion Distance  \\\n",
       "0        6.025981          314.373913      609.599786             0.808259   \n",
       "1       28.412996          136.717242      425.869294             0.718200   \n",
       "2        4.237961          259.475979      643.580228             0.950791   \n",
       "3        7.905894           57.173266      514.082140             0.983902   \n",
       "4       16.793382           84.629307      495.597821             0.967687   \n",
       "...           ...                 ...             ...                  ...   \n",
       "4682    39.880491          164.183305      457.179984             0.741558   \n",
       "4683     5.360249          345.225230      407.185767             0.996434   \n",
       "4684     4.405467           37.026468      690.054279             0.965760   \n",
       "4685    21.080244          163.802910      662.048343             1.185467   \n",
       "4686    53.574923          187.642183      653.679098             0.876110   \n",
       "\n",
       "      Perihelion Arg  Aphelion Dist  Perihelion Time  Mean Anomaly  \\\n",
       "0          57.257470       2.005764     2.458162e+06    264.837533   \n",
       "1         313.091975       1.497352     2.457795e+06    173.741112   \n",
       "2         248.415038       1.966857     2.458120e+06    292.893654   \n",
       "3          18.707701       1.527904     2.457902e+06     68.741007   \n",
       "4         158.263596       1.483543     2.457814e+06    135.142133   \n",
       "...              ...            ...              ...           ...   \n",
       "4682      276.395697       1.581299     2.457708e+06    304.306025   \n",
       "4683       42.111064       1.153835     2.458088e+06    282.978786   \n",
       "4684      274.692712       2.090708     2.458300e+06    203.501147   \n",
       "4685      180.346090       1.787733     2.458288e+06    203.524965   \n",
       "4686      222.436688       2.071980     2.458319e+06    184.820424   \n",
       "\n",
       "      Mean Motion  Hazardous  \n",
       "0        0.590551       True  \n",
       "1        0.845330      False  \n",
       "2        0.559371       True  \n",
       "3        0.700277      False  \n",
       "4        0.726395       True  \n",
       "...           ...        ...  \n",
       "4682     0.787436      False  \n",
       "4683     0.884117      False  \n",
       "4684     0.521698      False  \n",
       "4685     0.543767      False  \n",
       "4686     0.550729      False  \n",
       "\n",
       "[4687 rows x 23 columns]"
      ]
     },
     "execution_count": 6,
     "metadata": {},
     "output_type": "execute_result"
    }
   ],
   "source": [
    "data"
   ]
  },
  {
   "cell_type": "code",
   "execution_count": 7,
   "metadata": {},
   "outputs": [],
   "source": [
    "labels = np.array(data['Hazardous'])"
   ]
  },
  {
   "cell_type": "code",
   "execution_count": 8,
   "metadata": {},
   "outputs": [
    {
     "data": {
      "text/plain": [
       "array([ True, False,  True, ..., False, False, False])"
      ]
     },
     "execution_count": 8,
     "metadata": {},
     "output_type": "execute_result"
    }
   ],
   "source": [
    "labels"
   ]
  },
  {
   "cell_type": "code",
   "execution_count": 9,
   "metadata": {},
   "outputs": [],
   "source": [
    "y = [1 if L else 0 for L in labels]"
   ]
  },
  {
   "cell_type": "code",
   "execution_count": 10,
   "metadata": {},
   "outputs": [],
   "source": [
    "X = data.drop(columns=['Hazardous'])"
   ]
  },
  {
   "cell_type": "code",
   "execution_count": 11,
   "metadata": {},
   "outputs": [
    {
     "data": {
      "text/plain": [
       "Index(['Absolute Magnitude', 'Est Dia in KM(min)', 'Close Approach Date',\n",
       "       'Epoch Date Close Approach', 'Relative Velocity km per sec',\n",
       "       'Miss Dist.(Astronomical)', 'Orbit ID', 'Orbit Uncertainity',\n",
       "       'Minimum Orbit Intersection', 'Jupiter Tisserand Invariant',\n",
       "       'Epoch Osculation', 'Eccentricity', 'Semi Major Axis', 'Inclination',\n",
       "       'Asc Node Longitude', 'Orbital Period', 'Perihelion Distance',\n",
       "       'Perihelion Arg', 'Aphelion Dist', 'Perihelion Time', 'Mean Anomaly',\n",
       "       'Mean Motion', 'Hazardous'],\n",
       "      dtype='object')"
      ]
     },
     "execution_count": 11,
     "metadata": {},
     "output_type": "execute_result"
    }
   ],
   "source": [
    "data.keys()"
   ]
  },
  {
   "cell_type": "markdown",
   "metadata": {},
   "source": [
    "OK, ahora tenemos los features y las etiquetas por separado.\n",
    "Armemos los conjuntos de datos de entrenamiento, validación y test.m"
   ]
  },
  {
   "cell_type": "code",
   "execution_count": 12,
   "metadata": {},
   "outputs": [],
   "source": [
    "from sklearn.neighbors import KNeighborsClassifier"
   ]
  },
  {
   "cell_type": "code",
   "execution_count": 13,
   "metadata": {},
   "outputs": [],
   "source": [
    "from sklearn.model_selection import train_test_split\n",
    "from sklearn.metrics import roc_curve\n",
    "from sklearn.metrics import roc_auc_score"
   ]
  },
  {
   "cell_type": "code",
   "execution_count": 14,
   "metadata": {},
   "outputs": [],
   "source": [
    "trainX, testX, trainy, testy = train_test_split(X, y, test_size=0.5, random_state=2)"
   ]
  },
  {
   "cell_type": "code",
   "execution_count": 16,
   "metadata": {},
   "outputs": [],
   "source": [
    "model = KNeighborsClassifier()"
   ]
  },
  {
   "cell_type": "code",
   "execution_count": 17,
   "metadata": {},
   "outputs": [
    {
     "data": {
      "text/plain": [
       "KNeighborsClassifier()"
      ]
     },
     "execution_count": 17,
     "metadata": {},
     "output_type": "execute_result"
    }
   ],
   "source": [
    "model.fit(trainX, trainy)\n",
    "# predict probabilities\n",
    "#lr_probs = model.predict_proba(testX)"
   ]
  },
  {
   "cell_type": "code",
   "execution_count": 18,
   "metadata": {},
   "outputs": [],
   "source": [
    "probs = model.predict_proba(testX)[:,1]"
   ]
  },
  {
   "cell_type": "code",
   "execution_count": 19,
   "metadata": {},
   "outputs": [],
   "source": [
    "from sklearn.metrics import roc_curve"
   ]
  },
  {
   "cell_type": "code",
   "execution_count": 20,
   "metadata": {},
   "outputs": [],
   "source": [
    "a, b, c = roc_curve(testy, probs)"
   ]
  },
  {
   "cell_type": "code",
   "execution_count": 21,
   "metadata": {},
   "outputs": [
    {
     "data": {
      "text/plain": [
       "[<matplotlib.lines.Line2D at 0x7fe964bb5668>]"
      ]
     },
     "execution_count": 21,
     "metadata": {},
     "output_type": "execute_result"
    },
    {
     "data": {
      "image/png": "[encoded data removed]",
      "text/plain": [
       "<Figure size 432x288 with 1 Axes>"
      ]
     },
     "metadata": {
      "needs_background": "light"
     },
     "output_type": "display_data"
    }
   ],
   "source": [
    "plt.plot(a, b)"
   ]
  },
  {
   "cell_type": "code",
   "execution_count": null,
   "metadata": {},
   "outputs": [],
   "source": []
  }
 ],
 "metadata": {
  "kernelspec": {
   "display_name": "Python 3",
   "language": "python",
   "name": "python3"
  },
  "language_info": {
   "codemirror_mode": {
    "name": "ipython",
    "version": 3
   },
   "file_extension": ".py",
   "mimetype": "text/x-python",
   "name": "python",
   "nbconvert_exporter": "python",
   "pygments_lexer": "ipython3",
   "version": "3.7.3"
  }
 },
 "nbformat": 4,
 "nbformat_minor": 4
}
