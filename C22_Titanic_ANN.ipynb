{
 "cells": [
  {
   "cell_type": "code",
   "execution_count": 2,
   "id": "6230f689-a112-47d4-8f30-bd1696249b26",
   "metadata": {},
   "outputs": [],
   "source": [
    "import numpy as np\n",
    "import pandas as pd\n",
    "from matplotlib import pyplot as plt\n",
    "import seaborn as sns"
   ]
  },
  {
   "cell_type": "code",
   "execution_count": 3,
   "id": "e7c9850f-7386-4c7c-b016-3087d2d7ca2f",
   "metadata": {},
   "outputs": [],
   "source": [
    "import pickle"
   ]
  },
  {
   "cell_type": "code",
   "execution_count": 4,
   "id": "07d4830d-f083-414b-a9c3-7f52451c3c28",
   "metadata": {},
   "outputs": [],
   "source": [
    "filein = 'data/titanic_train.pk'\n",
    "with open(filein, 'rb') as f:\n",
    "    train_data = pickle.load(f)\n",
    "\n",
    "filein = 'data/titanic_test.pk'\n",
    "with open(filein, 'rb') as f:\n",
    "    test_data = pickle.load(f)"
   ]
  },
  {
   "cell_type": "code",
   "execution_count": 6,
   "id": "84722c7d-2560-4d5d-9248-3905a08c491d",
   "metadata": {},
   "outputs": [
    {
     "data": {
      "text/html": [
       "<div>\n",
       "<style scoped>\n",
       "    .dataframe tbody tr th:only-of-type {\n",
       "        vertical-align: middle;\n",
       "    }\n",
       "\n",
       "    .dataframe tbody tr th {\n",
       "        vertical-align: top;\n",
       "    }\n",
       "\n",
       "    .dataframe thead th {\n",
       "        text-align: right;\n",
       "    }\n",
       "</style>\n",
       "<table border=\"1\" class=\"dataframe\">\n",
       "  <thead>\n",
       "    <tr style=\"text-align: right;\">\n",
       "      <th></th>\n",
       "      <th>Survived</th>\n",
       "      <th>Pclass</th>\n",
       "      <th>Sex</th>\n",
       "      <th>Age</th>\n",
       "      <th>SibSp</th>\n",
       "      <th>Parch</th>\n",
       "      <th>Fare</th>\n",
       "    </tr>\n",
       "  </thead>\n",
       "  <tbody>\n",
       "    <tr>\n",
       "      <th>0</th>\n",
       "      <td>0</td>\n",
       "      <td>3</td>\n",
       "      <td>0</td>\n",
       "      <td>22.0</td>\n",
       "      <td>1</td>\n",
       "      <td>0</td>\n",
       "      <td>7.2500</td>\n",
       "    </tr>\n",
       "    <tr>\n",
       "      <th>1</th>\n",
       "      <td>1</td>\n",
       "      <td>1</td>\n",
       "      <td>1</td>\n",
       "      <td>38.0</td>\n",
       "      <td>1</td>\n",
       "      <td>0</td>\n",
       "      <td>71.2833</td>\n",
       "    </tr>\n",
       "    <tr>\n",
       "      <th>2</th>\n",
       "      <td>1</td>\n",
       "      <td>3</td>\n",
       "      <td>1</td>\n",
       "      <td>26.0</td>\n",
       "      <td>0</td>\n",
       "      <td>0</td>\n",
       "      <td>7.9250</td>\n",
       "    </tr>\n",
       "    <tr>\n",
       "      <th>3</th>\n",
       "      <td>1</td>\n",
       "      <td>1</td>\n",
       "      <td>1</td>\n",
       "      <td>35.0</td>\n",
       "      <td>1</td>\n",
       "      <td>0</td>\n",
       "      <td>53.1000</td>\n",
       "    </tr>\n",
       "    <tr>\n",
       "      <th>4</th>\n",
       "      <td>0</td>\n",
       "      <td>3</td>\n",
       "      <td>0</td>\n",
       "      <td>35.0</td>\n",
       "      <td>0</td>\n",
       "      <td>0</td>\n",
       "      <td>8.0500</td>\n",
       "    </tr>\n",
       "    <tr>\n",
       "      <th>...</th>\n",
       "      <td>...</td>\n",
       "      <td>...</td>\n",
       "      <td>...</td>\n",
       "      <td>...</td>\n",
       "      <td>...</td>\n",
       "      <td>...</td>\n",
       "      <td>...</td>\n",
       "    </tr>\n",
       "    <tr>\n",
       "      <th>885</th>\n",
       "      <td>0</td>\n",
       "      <td>3</td>\n",
       "      <td>1</td>\n",
       "      <td>39.0</td>\n",
       "      <td>0</td>\n",
       "      <td>5</td>\n",
       "      <td>29.1250</td>\n",
       "    </tr>\n",
       "    <tr>\n",
       "      <th>886</th>\n",
       "      <td>0</td>\n",
       "      <td>2</td>\n",
       "      <td>0</td>\n",
       "      <td>27.0</td>\n",
       "      <td>0</td>\n",
       "      <td>0</td>\n",
       "      <td>13.0000</td>\n",
       "    </tr>\n",
       "    <tr>\n",
       "      <th>887</th>\n",
       "      <td>1</td>\n",
       "      <td>1</td>\n",
       "      <td>1</td>\n",
       "      <td>19.0</td>\n",
       "      <td>0</td>\n",
       "      <td>0</td>\n",
       "      <td>30.0000</td>\n",
       "    </tr>\n",
       "    <tr>\n",
       "      <th>889</th>\n",
       "      <td>1</td>\n",
       "      <td>1</td>\n",
       "      <td>0</td>\n",
       "      <td>26.0</td>\n",
       "      <td>0</td>\n",
       "      <td>0</td>\n",
       "      <td>30.0000</td>\n",
       "    </tr>\n",
       "    <tr>\n",
       "      <th>890</th>\n",
       "      <td>0</td>\n",
       "      <td>3</td>\n",
       "      <td>0</td>\n",
       "      <td>32.0</td>\n",
       "      <td>0</td>\n",
       "      <td>0</td>\n",
       "      <td>7.7500</td>\n",
       "    </tr>\n",
       "  </tbody>\n",
       "</table>\n",
       "<p>714 rows × 7 columns</p>\n",
       "</div>"
      ],
      "text/plain": [
       "     Survived  Pclass  Sex   Age  SibSp  Parch     Fare\n",
       "0           0       3    0  22.0      1      0   7.2500\n",
       "1           1       1    1  38.0      1      0  71.2833\n",
       "2           1       3    1  26.0      0      0   7.9250\n",
       "3           1       1    1  35.0      1      0  53.1000\n",
       "4           0       3    0  35.0      0      0   8.0500\n",
       "..        ...     ...  ...   ...    ...    ...      ...\n",
       "885         0       3    1  39.0      0      5  29.1250\n",
       "886         0       2    0  27.0      0      0  13.0000\n",
       "887         1       1    1  19.0      0      0  30.0000\n",
       "889         1       1    0  26.0      0      0  30.0000\n",
       "890         0       3    0  32.0      0      0   7.7500\n",
       "\n",
       "[714 rows x 7 columns]"
      ]
     },
     "execution_count": 6,
     "metadata": {},
     "output_type": "execute_result"
    }
   ],
   "source": [
    "train_data"
   ]
  },
  {
   "cell_type": "code",
   "execution_count": 7,
   "id": "0449dd27-b360-4ae7-99d0-c21225eec73b",
   "metadata": {},
   "outputs": [],
   "source": [
    "X_train = train_data.drop('Survived', axis=1)"
   ]
  },
  {
   "cell_type": "code",
   "execution_count": 8,
   "id": "fa367ff1-5377-4845-8736-503d2f4f757b",
   "metadata": {},
   "outputs": [],
   "source": [
    "X_train = X_train.values"
   ]
  },
  {
   "cell_type": "code",
   "execution_count": 9,
   "id": "d7c693ab-ba37-4194-99d4-ab7aec813931",
   "metadata": {},
   "outputs": [
    {
     "data": {
      "text/plain": [
       "array([[ 3.    ,  0.    , 22.    ,  1.    ,  0.    ,  7.25  ],\n",
       "       [ 1.    ,  1.    , 38.    ,  1.    ,  0.    , 71.2833],\n",
       "       [ 3.    ,  1.    , 26.    ,  0.    ,  0.    ,  7.925 ],\n",
       "       ...,\n",
       "       [ 1.    ,  1.    , 19.    ,  0.    ,  0.    , 30.    ],\n",
       "       [ 1.    ,  0.    , 26.    ,  0.    ,  0.    , 30.    ],\n",
       "       [ 3.    ,  0.    , 32.    ,  0.    ,  0.    ,  7.75  ]])"
      ]
     },
     "execution_count": 9,
     "metadata": {},
     "output_type": "execute_result"
    }
   ],
   "source": [
    "X_train"
   ]
  },
  {
   "cell_type": "code",
   "execution_count": 10,
   "id": "6368e1d7-21bc-44bf-a589-d9c92bc8f49b",
   "metadata": {},
   "outputs": [
    {
     "data": {
      "text/plain": [
       "(714, 6)"
      ]
     },
     "execution_count": 10,
     "metadata": {},
     "output_type": "execute_result"
    }
   ],
   "source": [
    "X_train.shape"
   ]
  },
  {
   "cell_type": "code",
   "execution_count": 11,
   "id": "56bf3bd5-5f6b-4827-bc39-01d784546178",
   "metadata": {},
   "outputs": [],
   "source": [
    "y_train = train_data.Survived"
   ]
  },
  {
   "cell_type": "code",
   "execution_count": 12,
   "id": "8473df32-2333-423c-ab0d-d181ba1b038e",
   "metadata": {},
   "outputs": [],
   "source": [
    "y_train = y_train.values"
   ]
  },
  {
   "cell_type": "code",
   "execution_count": 13,
   "id": "35c6fe5b-9e1a-4e8f-8b34-f82b44462b64",
   "metadata": {},
   "outputs": [
    {
     "data": {
      "text/plain": [
       "array([0, 1, 1, 1, 0, 0, 0, 1, 1, 1, 1, 0, 0, 0, 1, 0, 0, 0, 1, 1, 1, 0,\n",
       "       1, 0, 0, 0, 0, 0, 0, 0, 1, 0, 0, 1, 1, 0, 0, 0, 1, 1, 0, 1, 0, 1,\n",
       "       0, 0, 1, 0, 0, 1, 0, 1, 0, 0, 0, 0, 0, 1, 0, 1, 1, 0, 1, 0, 1, 1,\n",
       "       0, 1, 0, 0, 0, 0, 0, 0, 0, 1, 1, 0, 0, 0, 0, 0, 0, 1, 0, 0, 0, 0,\n",
       "       0, 0, 0, 0, 0, 0, 0, 0, 0, 1, 0, 1, 1, 0, 0, 0, 0, 1, 0, 0, 1, 0,\n",
       "       0, 0, 1, 1, 0, 0, 0, 1, 0, 0, 0, 0, 1, 0, 0, 0, 1, 0, 0, 1, 0, 0,\n",
       "       0, 1, 0, 0, 0, 0, 1, 0, 0, 0, 0, 0, 0, 0, 1, 1, 1, 0, 0, 1, 0, 1,\n",
       "       1, 1, 1, 0, 0, 0, 0, 0, 1, 0, 0, 1, 1, 1, 0, 1, 0, 0, 1, 1, 0, 1,\n",
       "       0, 1, 0, 0, 1, 0, 1, 0, 0, 1, 0, 0, 1, 0, 0, 1, 0, 0, 0, 0, 0, 0,\n",
       "       0, 1, 1, 0, 0, 0, 0, 0, 1, 1, 1, 1, 1, 0, 0, 0, 0, 1, 1, 1, 1, 1,\n",
       "       0, 1, 0, 0, 1, 0, 0, 0, 1, 0, 1, 0, 1, 1, 1, 1, 0, 0, 0, 0, 0, 1,\n",
       "       0, 1, 1, 0, 1, 1, 1, 0, 0, 0, 1, 1, 0, 1, 1, 0, 0, 1, 1, 1, 0, 1,\n",
       "       1, 1, 0, 0, 0, 0, 1, 1, 0, 1, 1, 0, 0, 0, 1, 1, 1, 0, 0, 0, 0, 0,\n",
       "       1, 0, 0, 0, 0, 0, 0, 1, 1, 1, 0, 0, 0, 0, 1, 0, 0, 0, 1, 1, 0, 1,\n",
       "       0, 0, 1, 1, 1, 1, 0, 1, 1, 0, 0, 0, 0, 1, 1, 0, 0, 0, 0, 0, 0, 1,\n",
       "       0, 1, 1, 1, 1, 0, 0, 0, 0, 0, 0, 1, 1, 1, 1, 1, 0, 0, 1, 0, 1, 0,\n",
       "       0, 1, 0, 0, 1, 1, 1, 1, 1, 1, 0, 0, 1, 1, 0, 1, 1, 0, 0, 0, 0, 0,\n",
       "       1, 0, 1, 1, 0, 0, 0, 0, 1, 0, 0, 1, 1, 1, 0, 0, 1, 0, 0, 0, 0, 1,\n",
       "       0, 0, 0, 0, 0, 1, 0, 1, 0, 1, 1, 1, 1, 0, 0, 1, 1, 0, 1, 0, 1, 0,\n",
       "       1, 0, 0, 1, 0, 0, 1, 0, 1, 1, 1, 0, 0, 1, 0, 0, 1, 0, 1, 1, 0, 1,\n",
       "       1, 0, 1, 1, 1, 0, 0, 0, 0, 0, 1, 1, 1, 1, 0, 0, 1, 1, 1, 1, 1, 0,\n",
       "       0, 1, 0, 1, 0, 0, 1, 0, 0, 0, 0, 1, 1, 0, 1, 0, 0, 1, 1, 1, 0, 0,\n",
       "       1, 0, 0, 1, 0, 0, 1, 1, 0, 0, 0, 0, 1, 0, 1, 0, 1, 0, 1, 0, 0, 0,\n",
       "       0, 1, 0, 1, 1, 0, 1, 1, 1, 0, 0, 0, 0, 0, 0, 1, 0, 0, 0, 1, 0, 0,\n",
       "       0, 1, 0, 0, 1, 0, 0, 1, 0, 1, 1, 0, 0, 0, 0, 0, 0, 0, 1, 1, 1, 0,\n",
       "       0, 0, 0, 0, 0, 1, 1, 0, 0, 0, 0, 1, 1, 1, 1, 1, 0, 0, 0, 1, 1, 0,\n",
       "       1, 0, 0, 0, 1, 0, 1, 0, 0, 1, 0, 0, 0, 0, 0, 1, 0, 1, 0, 1, 0, 0,\n",
       "       1, 0, 0, 1, 1, 0, 0, 1, 1, 0, 0, 0, 1, 0, 1, 1, 0, 1, 0, 0, 0, 0,\n",
       "       0, 1, 0, 1, 1, 1, 1, 0, 0, 0, 1, 0, 1, 0, 0, 0, 0, 1, 1, 0, 0, 0,\n",
       "       1, 1, 1, 1, 0, 0, 0, 0, 1, 0, 0, 0, 0, 0, 0, 0, 0, 0, 1, 1, 0, 1,\n",
       "       0, 1, 1, 1, 1, 0, 0, 1, 0, 1, 0, 0, 1, 0, 0, 0, 0, 0, 0, 0, 0, 1,\n",
       "       0, 1, 1, 1, 1, 0, 0, 1, 0, 1, 1, 0, 1, 0, 1, 0, 0, 1, 1, 0, 0, 1,\n",
       "       1, 0, 0, 0, 0, 0, 0, 1, 1, 0])"
      ]
     },
     "execution_count": 13,
     "metadata": {},
     "output_type": "execute_result"
    }
   ],
   "source": [
    "y_train"
   ]
  },
  {
   "cell_type": "code",
   "execution_count": 14,
   "id": "93b8ba06-403c-4855-91fa-58008593c693",
   "metadata": {},
   "outputs": [],
   "source": [
    "X_test = test_data.values"
   ]
  },
  {
   "cell_type": "code",
   "execution_count": 15,
   "id": "3b29ec4b-491a-4983-99c2-5bec4c8e2767",
   "metadata": {},
   "outputs": [
    {
     "data": {
      "text/plain": [
       "array([[  3.    ,   0.    ,  34.5   ,   0.    ,   0.    ,   7.8292],\n",
       "       [  3.    ,   1.    ,  47.    ,   1.    ,   0.    ,   7.    ],\n",
       "       [  2.    ,   0.    ,  62.    ,   0.    ,   0.    ,   9.6875],\n",
       "       ...,\n",
       "       [  3.    ,   1.    ,  28.    ,   0.    ,   0.    ,   7.775 ],\n",
       "       [  1.    ,   1.    ,  39.    ,   0.    ,   0.    , 108.9   ],\n",
       "       [  3.    ,   0.    ,  38.5   ,   0.    ,   0.    ,   7.25  ]])"
      ]
     },
     "execution_count": 15,
     "metadata": {},
     "output_type": "execute_result"
    }
   ],
   "source": [
    "X_test"
   ]
  },
  {
   "cell_type": "code",
   "execution_count": 16,
   "id": "883c7fff-725e-4331-a5d4-600e18202760",
   "metadata": {},
   "outputs": [
    {
     "name": "stderr",
     "output_type": "stream",
     "text": [
      "2021-11-02 21:47:45.666414: W tensorflow/stream_executor/platform/default/dso_loader.cc:64] Could not load dynamic library 'libcudart.so.11.0'; dlerror: libcudart.so.11.0: cannot open shared object file: No such file or directory; LD_LIBRARY_PATH: /usr/lib\n",
      "2021-11-02 21:47:45.666431: I tensorflow/stream_executor/cuda/cudart_stub.cc:29] Ignore above cudart dlerror if you do not have a GPU set up on your machine.\n"
     ]
    }
   ],
   "source": [
    "import keras \n",
    "from keras.models import Sequential \n",
    "from keras.layers import Dense"
   ]
  },
  {
   "cell_type": "code",
   "execution_count": 17,
   "id": "4bcd890b-0457-4a7a-9c8b-e895b5354835",
   "metadata": {},
   "outputs": [],
   "source": [
    "from keras_visualizer import visualizer"
   ]
  },
  {
   "cell_type": "code",
   "execution_count": 18,
   "id": "f8b348d8-a2b6-444b-8c8a-4b3a1c8683e5",
   "metadata": {},
   "outputs": [
    {
     "name": "stderr",
     "output_type": "stream",
     "text": [
      "2021-11-02 21:47:48.328466: W tensorflow/stream_executor/platform/default/dso_loader.cc:64] Could not load dynamic library 'libcuda.so.1'; dlerror: libcuda.so.1: cannot open shared object file: No such file or directory; LD_LIBRARY_PATH: /usr/lib\n",
      "2021-11-02 21:47:48.328483: W tensorflow/stream_executor/cuda/cuda_driver.cc:269] failed call to cuInit: UNKNOWN ERROR (303)\n",
      "2021-11-02 21:47:48.328510: I tensorflow/stream_executor/cuda/cuda_diagnostics.cc:156] kernel driver does not appear to be running on this host (dellpc): /proc/driver/nvidia/version does not exist\n",
      "2021-11-02 21:47:48.328651: I tensorflow/core/platform/cpu_feature_guard.cc:142] This TensorFlow binary is optimized with oneAPI Deep Neural Network Library (oneDNN) to use the following CPU instructions in performance-critical operations:  AVX2 FMA\n",
      "To enable them in other operations, rebuild TensorFlow with the appropriate compiler flags.\n"
     ]
    }
   ],
   "source": [
    "# Hagamos una red neuronal:\n",
    "model = Sequential()\n",
    "\n",
    "# layers\n",
    "model.add(Dense(9, kernel_initializer = 'uniform', activation = 'relu', input_dim = 6))\n",
    "model.add(Dense(9, kernel_initializer = 'uniform', activation = 'relu'))\n",
    "model.add(Dense(5, kernel_initializer = 'uniform', activation = 'relu'))\n",
    "model.add(Dense(1, kernel_initializer = 'uniform', activation = 'sigmoid'))"
   ]
  },
  {
   "cell_type": "code",
   "execution_count": 19,
   "id": "992b947c-6d31-40be-aef8-d5444cd76c87",
   "metadata": {},
   "outputs": [
    {
     "name": "stdout",
     "output_type": "stream",
     "text": [
      "Model: \"sequential\"\n",
      "_________________________________________________________________\n",
      "Layer (type)                 Output Shape              Param #   \n",
      "=================================================================\n",
      "dense (Dense)                (None, 9)                 63        \n",
      "_________________________________________________________________\n",
      "dense_1 (Dense)              (None, 9)                 90        \n",
      "_________________________________________________________________\n",
      "dense_2 (Dense)              (None, 5)                 50        \n",
      "_________________________________________________________________\n",
      "dense_3 (Dense)              (None, 1)                 6         \n",
      "=================================================================\n",
      "Total params: 209\n",
      "Trainable params: 209\n",
      "Non-trainable params: 0\n",
      "_________________________________________________________________\n"
     ]
    }
   ],
   "source": [
    "# summary\n",
    "model.summary()"
   ]
  },
  {
   "cell_type": "code",
   "execution_count": 20,
   "id": "94d86ba8-c6e5-4406-a98b-8430fdb3de28",
   "metadata": {},
   "outputs": [],
   "source": [
    "# visualizer(model, format='png', view=True)"
   ]
  },
  {
   "cell_type": "code",
   "execution_count": 21,
   "id": "84564e7a-2808-4676-bff8-f3f49ed7396c",
   "metadata": {},
   "outputs": [],
   "source": [
    "# Compiling the NN\n",
    "model.compile(optimizer = 'adam', loss = 'binary_crossentropy', metrics = ['accuracy'])"
   ]
  },
  {
   "cell_type": "code",
   "execution_count": 22,
   "id": "c0879339-5c9f-432c-a6e3-26d8253701f7",
   "metadata": {},
   "outputs": [
    {
     "name": "stderr",
     "output_type": "stream",
     "text": [
      "2021-11-02 21:47:52.568528: I tensorflow/compiler/mlir/mlir_graph_optimization_pass.cc:185] None of the MLIR Optimization Passes are enabled (registered 2)\n"
     ]
    },
    {
     "name": "stdout",
     "output_type": "stream",
     "text": [
      "Epoch 1/100\n",
      "23/23 [==============================] - 0s 675us/step - loss: 0.6922 - accuracy: 0.5938\n",
      "Epoch 2/100\n",
      "23/23 [==============================] - 0s 693us/step - loss: 0.6904 - accuracy: 0.5938\n",
      "Epoch 3/100\n",
      "23/23 [==============================] - 0s 953us/step - loss: 0.6880 - accuracy: 0.5938\n",
      "Epoch 4/100\n",
      "23/23 [==============================] - 0s 724us/step - loss: 0.6838 - accuracy: 0.6008\n",
      "Epoch 5/100\n",
      "23/23 [==============================] - 0s 1ms/step - loss: 0.6733 - accuracy: 0.6415\n",
      "Epoch 6/100\n",
      "23/23 [==============================] - 0s 744us/step - loss: 0.6539 - accuracy: 0.6667\n",
      "Epoch 7/100\n",
      "23/23 [==============================] - 0s 772us/step - loss: 0.6309 - accuracy: 0.6639\n",
      "Epoch 8/100\n",
      "23/23 [==============================] - 0s 709us/step - loss: 0.6134 - accuracy: 0.6891\n",
      "Epoch 9/100\n",
      "23/23 [==============================] - 0s 874us/step - loss: 0.6017 - accuracy: 0.6933\n",
      "Epoch 10/100\n",
      "23/23 [==============================] - 0s 1ms/step - loss: 0.5963 - accuracy: 0.6947\n",
      "Epoch 11/100\n",
      "23/23 [==============================] - 0s 873us/step - loss: 0.5929 - accuracy: 0.6905\n",
      "Epoch 12/100\n",
      "23/23 [==============================] - 0s 559us/step - loss: 0.5899 - accuracy: 0.6849\n",
      "Epoch 13/100\n",
      "23/23 [==============================] - 0s 952us/step - loss: 0.5859 - accuracy: 0.6947\n",
      "Epoch 14/100\n",
      "23/23 [==============================] - 0s 710us/step - loss: 0.5836 - accuracy: 0.6989\n",
      "Epoch 15/100\n",
      "23/23 [==============================] - 0s 726us/step - loss: 0.5812 - accuracy: 0.6975\n",
      "Epoch 16/100\n",
      "23/23 [==============================] - 0s 783us/step - loss: 0.5765 - accuracy: 0.7017\n",
      "Epoch 17/100\n",
      "23/23 [==============================] - 0s 665us/step - loss: 0.5732 - accuracy: 0.7129\n",
      "Epoch 18/100\n",
      "23/23 [==============================] - 0s 883us/step - loss: 0.5724 - accuracy: 0.7115\n",
      "Epoch 19/100\n",
      "23/23 [==============================] - 0s 1ms/step - loss: 0.5672 - accuracy: 0.7101\n",
      "Epoch 20/100\n",
      "23/23 [==============================] - 0s 1ms/step - loss: 0.5622 - accuracy: 0.7185\n",
      "Epoch 21/100\n",
      "23/23 [==============================] - 0s 1ms/step - loss: 0.5573 - accuracy: 0.7101\n",
      "Epoch 22/100\n",
      "23/23 [==============================] - 0s 838us/step - loss: 0.5557 - accuracy: 0.7241\n",
      "Epoch 23/100\n",
      "23/23 [==============================] - 0s 1ms/step - loss: 0.5496 - accuracy: 0.7157\n",
      "Epoch 24/100\n",
      "23/23 [==============================] - 0s 1ms/step - loss: 0.5441 - accuracy: 0.7255\n",
      "Epoch 25/100\n",
      "23/23 [==============================] - 0s 752us/step - loss: 0.5442 - accuracy: 0.7255\n",
      "Epoch 26/100\n",
      "23/23 [==============================] - 0s 585us/step - loss: 0.5367 - accuracy: 0.7199\n",
      "Epoch 27/100\n",
      "23/23 [==============================] - 0s 719us/step - loss: 0.5311 - accuracy: 0.7353\n",
      "Epoch 28/100\n",
      "23/23 [==============================] - 0s 872us/step - loss: 0.5251 - accuracy: 0.7423\n",
      "Epoch 29/100\n",
      "23/23 [==============================] - 0s 1ms/step - loss: 0.5205 - accuracy: 0.7521\n",
      "Epoch 30/100\n",
      "23/23 [==============================] - 0s 1ms/step - loss: 0.5185 - accuracy: 0.7437\n",
      "Epoch 31/100\n",
      "23/23 [==============================] - 0s 913us/step - loss: 0.5131 - accuracy: 0.7605\n",
      "Epoch 32/100\n",
      "23/23 [==============================] - 0s 927us/step - loss: 0.5070 - accuracy: 0.7759\n",
      "Epoch 33/100\n",
      "23/23 [==============================] - 0s 963us/step - loss: 0.5021 - accuracy: 0.7717\n",
      "Epoch 34/100\n",
      "23/23 [==============================] - 0s 1ms/step - loss: 0.4985 - accuracy: 0.7815\n",
      "Epoch 35/100\n",
      "23/23 [==============================] - 0s 1ms/step - loss: 0.4901 - accuracy: 0.7815\n",
      "Epoch 36/100\n",
      "23/23 [==============================] - 0s 1ms/step - loss: 0.4871 - accuracy: 0.7899\n",
      "Epoch 37/100\n",
      "23/23 [==============================] - 0s 956us/step - loss: 0.4946 - accuracy: 0.7675\n",
      "Epoch 38/100\n",
      "23/23 [==============================] - 0s 1ms/step - loss: 0.4833 - accuracy: 0.7941\n",
      "Epoch 39/100\n",
      "23/23 [==============================] - 0s 943us/step - loss: 0.4775 - accuracy: 0.7843\n",
      "Epoch 40/100\n",
      "23/23 [==============================] - 0s 848us/step - loss: 0.4726 - accuracy: 0.7829\n",
      "Epoch 41/100\n",
      "23/23 [==============================] - 0s 1ms/step - loss: 0.4704 - accuracy: 0.7857\n",
      "Epoch 42/100\n",
      "23/23 [==============================] - 0s 1ms/step - loss: 0.4710 - accuracy: 0.7927\n",
      "Epoch 43/100\n",
      "23/23 [==============================] - 0s 988us/step - loss: 0.4690 - accuracy: 0.7983\n",
      "Epoch 44/100\n",
      "23/23 [==============================] - 0s 1ms/step - loss: 0.4775 - accuracy: 0.8011\n",
      "Epoch 45/100\n",
      "23/23 [==============================] - 0s 1ms/step - loss: 0.4631 - accuracy: 0.7885\n",
      "Epoch 46/100\n",
      "23/23 [==============================] - 0s 812us/step - loss: 0.4625 - accuracy: 0.7843\n",
      "Epoch 47/100\n",
      "23/23 [==============================] - 0s 857us/step - loss: 0.4599 - accuracy: 0.7913\n",
      "Epoch 48/100\n",
      "23/23 [==============================] - 0s 1ms/step - loss: 0.4557 - accuracy: 0.7997\n",
      "Epoch 49/100\n",
      "23/23 [==============================] - 0s 848us/step - loss: 0.4665 - accuracy: 0.7941\n",
      "Epoch 50/100\n",
      "23/23 [==============================] - 0s 988us/step - loss: 0.4604 - accuracy: 0.7801\n",
      "Epoch 51/100\n",
      "23/23 [==============================] - 0s 878us/step - loss: 0.4545 - accuracy: 0.7997\n",
      "Epoch 52/100\n",
      "23/23 [==============================] - 0s 977us/step - loss: 0.4616 - accuracy: 0.7745\n",
      "Epoch 53/100\n",
      "23/23 [==============================] - 0s 1ms/step - loss: 0.4503 - accuracy: 0.7955\n",
      "Epoch 54/100\n",
      "23/23 [==============================] - 0s 817us/step - loss: 0.4533 - accuracy: 0.7955\n",
      "Epoch 55/100\n",
      "23/23 [==============================] - 0s 876us/step - loss: 0.4494 - accuracy: 0.7969\n",
      "Epoch 56/100\n",
      "23/23 [==============================] - 0s 1ms/step - loss: 0.4516 - accuracy: 0.7983\n",
      "Epoch 57/100\n",
      "23/23 [==============================] - 0s 1ms/step - loss: 0.4492 - accuracy: 0.7969\n",
      "Epoch 58/100\n",
      "23/23 [==============================] - 0s 961us/step - loss: 0.4503 - accuracy: 0.7955\n",
      "Epoch 59/100\n",
      "23/23 [==============================] - 0s 945us/step - loss: 0.4450 - accuracy: 0.8011\n",
      "Epoch 60/100\n",
      "23/23 [==============================] - 0s 1ms/step - loss: 0.4442 - accuracy: 0.7997\n",
      "Epoch 61/100\n",
      "23/23 [==============================] - 0s 1ms/step - loss: 0.4447 - accuracy: 0.7913\n",
      "Epoch 62/100\n",
      "23/23 [==============================] - 0s 1ms/step - loss: 0.4451 - accuracy: 0.7885\n",
      "Epoch 63/100\n",
      "23/23 [==============================] - 0s 1ms/step - loss: 0.4460 - accuracy: 0.7955\n",
      "Epoch 64/100\n",
      "23/23 [==============================] - 0s 799us/step - loss: 0.4462 - accuracy: 0.7941\n",
      "Epoch 65/100\n",
      "23/23 [==============================] - 0s 890us/step - loss: 0.4473 - accuracy: 0.7997\n",
      "Epoch 66/100\n",
      "23/23 [==============================] - 0s 1ms/step - loss: 0.4448 - accuracy: 0.8011\n",
      "Epoch 67/100\n",
      "23/23 [==============================] - 0s 1ms/step - loss: 0.4423 - accuracy: 0.7941\n",
      "Epoch 68/100\n",
      "23/23 [==============================] - 0s 974us/step - loss: 0.4406 - accuracy: 0.8039\n",
      "Epoch 69/100\n",
      "23/23 [==============================] - 0s 962us/step - loss: 0.4413 - accuracy: 0.8011\n",
      "Epoch 70/100\n",
      "23/23 [==============================] - 0s 879us/step - loss: 0.4393 - accuracy: 0.7997\n",
      "Epoch 71/100\n",
      "23/23 [==============================] - 0s 861us/step - loss: 0.4403 - accuracy: 0.7997\n",
      "Epoch 72/100\n",
      "23/23 [==============================] - 0s 955us/step - loss: 0.4404 - accuracy: 0.7997\n",
      "Epoch 73/100\n",
      "23/23 [==============================] - 0s 849us/step - loss: 0.4425 - accuracy: 0.7955\n",
      "Epoch 74/100\n",
      "23/23 [==============================] - 0s 888us/step - loss: 0.4400 - accuracy: 0.8053\n",
      "Epoch 75/100\n",
      "23/23 [==============================] - 0s 1ms/step - loss: 0.4548 - accuracy: 0.7955\n",
      "Epoch 76/100\n",
      "23/23 [==============================] - 0s 917us/step - loss: 0.4417 - accuracy: 0.7955\n",
      "Epoch 77/100\n",
      "23/23 [==============================] - 0s 842us/step - loss: 0.4401 - accuracy: 0.7997\n",
      "Epoch 78/100\n",
      "23/23 [==============================] - 0s 1ms/step - loss: 0.4460 - accuracy: 0.7871\n",
      "Epoch 79/100\n",
      "23/23 [==============================] - 0s 1ms/step - loss: 0.4430 - accuracy: 0.7927\n",
      "Epoch 80/100\n",
      "23/23 [==============================] - 0s 1ms/step - loss: 0.4404 - accuracy: 0.7983\n",
      "Epoch 81/100\n",
      "23/23 [==============================] - 0s 1ms/step - loss: 0.4376 - accuracy: 0.8053\n",
      "Epoch 82/100\n",
      "23/23 [==============================] - 0s 1ms/step - loss: 0.4368 - accuracy: 0.8039\n",
      "Epoch 83/100\n",
      "23/23 [==============================] - 0s 832us/step - loss: 0.4374 - accuracy: 0.8067\n",
      "Epoch 84/100\n",
      "23/23 [==============================] - 0s 797us/step - loss: 0.4405 - accuracy: 0.8011\n",
      "Epoch 85/100\n",
      "23/23 [==============================] - 0s 932us/step - loss: 0.4419 - accuracy: 0.7955\n",
      "Epoch 86/100\n",
      "23/23 [==============================] - 0s 1ms/step - loss: 0.4409 - accuracy: 0.7969\n",
      "Epoch 87/100\n",
      "23/23 [==============================] - 0s 943us/step - loss: 0.4397 - accuracy: 0.8053\n",
      "Epoch 88/100\n",
      "23/23 [==============================] - 0s 1ms/step - loss: 0.4357 - accuracy: 0.8011\n",
      "Epoch 89/100\n",
      "23/23 [==============================] - 0s 1ms/step - loss: 0.4356 - accuracy: 0.8095\n",
      "Epoch 90/100\n",
      "23/23 [==============================] - 0s 1ms/step - loss: 0.4474 - accuracy: 0.7927\n",
      "Epoch 91/100\n",
      "23/23 [==============================] - 0s 1ms/step - loss: 0.4562 - accuracy: 0.8011\n",
      "Epoch 92/100\n",
      "23/23 [==============================] - 0s 1ms/step - loss: 0.4377 - accuracy: 0.8081\n",
      "Epoch 93/100\n",
      "23/23 [==============================] - 0s 1ms/step - loss: 0.4364 - accuracy: 0.8039\n",
      "Epoch 94/100\n",
      "23/23 [==============================] - 0s 1ms/step - loss: 0.4383 - accuracy: 0.8011\n",
      "Epoch 95/100\n",
      "23/23 [==============================] - 0s 1ms/step - loss: 0.4355 - accuracy: 0.8053\n",
      "Epoch 96/100\n",
      "23/23 [==============================] - 0s 1ms/step - loss: 0.4373 - accuracy: 0.7997\n",
      "Epoch 97/100\n",
      "23/23 [==============================] - 0s 1ms/step - loss: 0.4307 - accuracy: 0.8039\n",
      "Epoch 98/100\n",
      "23/23 [==============================] - 0s 1ms/step - loss: 0.4347 - accuracy: 0.8011\n",
      "Epoch 99/100\n",
      "23/23 [==============================] - 0s 1ms/step - loss: 0.4461 - accuracy: 0.7983\n",
      "Epoch 100/100\n",
      "23/23 [==============================] - 0s 1ms/step - loss: 0.4367 - accuracy: 0.8039\n"
     ]
    },
    {
     "data": {
      "text/plain": [
       "<keras.callbacks.History at 0x7f7ca82ad6d0>"
      ]
     },
     "execution_count": 22,
     "metadata": {},
     "output_type": "execute_result"
    }
   ],
   "source": [
    "# Train the NN\n",
    "model.fit(X_train, y_train, batch_size = 32, epochs = 100)"
   ]
  },
  {
   "cell_type": "code",
   "execution_count": 23,
   "id": "bbe7adce-9d79-471b-9e91-28ff5f33c4f4",
   "metadata": {},
   "outputs": [],
   "source": [
    "y_pred = model.predict(X_test)"
   ]
  },
  {
   "cell_type": "code",
   "execution_count": 24,
   "id": "51a3d6ee-aca7-4adc-9a07-8293f6dedefb",
   "metadata": {},
   "outputs": [],
   "source": [
    "y_final = (y_pred > 0.5).astype(int).reshape(X_test.shape[0])"
   ]
  },
  {
   "cell_type": "code",
   "execution_count": 25,
   "id": "6feef9fb-2b48-419c-bd98-42edd95d3519",
   "metadata": {},
   "outputs": [
    {
     "data": {
      "text/plain": [
       "array([0, 0, 0, 0, 0, 0, 1, 0, 1, 0, 0, 1, 0, 1, 1, 0, 0, 1, 1, 0, 0, 0,\n",
       "       1, 0, 1, 0, 0, 0, 0, 0, 0, 0, 1, 0, 0, 0, 1, 1, 0, 0, 1, 0, 0, 0,\n",
       "       1, 1, 0, 0, 0, 1, 0, 0, 0, 1, 1, 1, 0, 0, 1, 1, 0, 1, 0, 1, 1, 1,\n",
       "       0, 1, 0, 0, 0, 1, 1, 0, 1, 1, 0, 0, 1, 0, 1, 0, 1, 0, 0, 1, 0, 0,\n",
       "       0, 0, 1, 1, 1, 0, 1, 0, 1, 1, 1, 0, 1, 0, 0, 0, 0, 0, 0, 0, 0, 0,\n",
       "       1, 0, 0, 1, 0, 0, 0, 0, 0, 0, 1, 0, 0, 0, 1, 1, 0, 1, 0, 1, 0, 0,\n",
       "       0, 0, 1, 0, 0, 0, 1, 1, 0, 1, 1, 0, 0, 1, 1, 0, 1, 0, 0, 0, 0, 0,\n",
       "       0, 0, 1, 1, 0, 0, 0, 1, 0, 1, 0, 1, 0, 0, 0, 1, 0, 0, 0, 1, 1, 0,\n",
       "       1, 0, 1, 0, 0, 0, 0, 1, 0, 0, 0, 0, 0, 1, 1, 1, 1, 0, 0, 1, 0, 1,\n",
       "       1, 0, 0, 0, 0, 0, 1, 0, 0, 0, 1, 1, 0, 0, 0, 1, 1, 0, 0, 0, 0, 1,\n",
       "       0, 1, 1, 0, 0, 1, 0, 0, 0, 1, 0, 0, 0, 0, 0, 1, 0, 0, 0, 0, 0, 0,\n",
       "       1, 1, 1, 0, 0, 0, 0, 0, 0, 0, 0, 1, 0, 1, 0, 0, 0, 1, 0, 1, 0, 0,\n",
       "       0, 0, 0, 0, 0, 1, 1, 0, 1, 0, 1, 1, 0, 0, 0, 1, 0, 1, 1, 0, 1, 1,\n",
       "       0, 1, 1, 1, 0, 0, 1, 0, 0, 1, 1, 0, 0, 0, 0, 0, 1, 1, 0, 0, 0, 0,\n",
       "       0, 1, 0, 0, 0, 1, 0, 1, 0, 0, 1, 0, 1, 0, 0, 0, 0, 0, 1, 1, 1, 1,\n",
       "       0])"
      ]
     },
     "execution_count": 25,
     "metadata": {},
     "output_type": "execute_result"
    }
   ],
   "source": [
    "y_final"
   ]
  },
  {
   "cell_type": "code",
   "execution_count": null,
   "id": "b190c037-eabc-43d5-b295-97ac17ec04f4",
   "metadata": {},
   "outputs": [],
   "source": []
  }
 ],
 "metadata": {
  "kernelspec": {
   "display_name": "Python 3 (ipykernel)",
   "language": "python",
   "name": "python3"
  },
  "language_info": {
   "codemirror_mode": {
    "name": "ipython",
    "version": 3
   },
   "file_extension": ".py",
   "mimetype": "text/x-python",
   "name": "python",
   "nbconvert_exporter": "python",
   "pygments_lexer": "ipython3",
   "version": "3.8.5"
  }
 },
 "nbformat": 4,
 "nbformat_minor": 5
}
