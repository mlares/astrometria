{
 "cells": [
  {
   "cell_type": "code",
   "execution_count": 52,
   "id": "2b0a67b0-1715-4f68-ad63-26f6abcb0e25",
   "metadata": {},
   "outputs": [],
   "source": [
    "from scipy import stats as st\n",
    "from matplotlib import pyplot as plt\n",
    "import numpy as np"
   ]
  },
  {
   "cell_type": "code",
   "execution_count": 4,
   "id": "17249b0c-4497-4c4a-bb73-16d5a54ba303",
   "metadata": {},
   "outputs": [],
   "source": [
    "N = st.norm(loc=5, scale=2)"
   ]
  },
  {
   "cell_type": "code",
   "execution_count": 6,
   "id": "c58100f1-9b02-4cb2-b1ce-33bf9761acef",
   "metadata": {},
   "outputs": [
    {
     "data": {
      "text/plain": [
       "5.0"
      ]
     },
     "execution_count": 6,
     "metadata": {},
     "output_type": "execute_result"
    }
   ],
   "source": [
    "N.ppf(0.5)"
   ]
  },
  {
   "cell_type": "code",
   "execution_count": 7,
   "id": "f0b44bd0-2907-47bc-a23d-98d479bc4325",
   "metadata": {},
   "outputs": [],
   "source": [
    "N = st.norm(loc=0, scale=1)"
   ]
  },
  {
   "cell_type": "code",
   "execution_count": 8,
   "id": "54178720-6b43-4056-9c77-3741e0b87a56",
   "metadata": {},
   "outputs": [
    {
     "data": {
      "text/plain": [
       "0.0"
      ]
     },
     "execution_count": 8,
     "metadata": {},
     "output_type": "execute_result"
    }
   ],
   "source": [
    "N.ppf(0.5)"
   ]
  },
  {
   "cell_type": "code",
   "execution_count": 9,
   "id": "1e2868e9-bec8-4fbc-aaf9-674a6a376ccf",
   "metadata": {},
   "outputs": [],
   "source": [
    "alpha = 0.2"
   ]
  },
  {
   "cell_type": "code",
   "execution_count": 10,
   "id": "12ed1826-c086-4cd7-90d0-8d0285b2cc43",
   "metadata": {},
   "outputs": [
    {
     "data": {
      "text/plain": [
       "-1.2815515655446004"
      ]
     },
     "execution_count": 10,
     "metadata": {},
     "output_type": "execute_result"
    }
   ],
   "source": [
    "N.ppf(0.1)"
   ]
  },
  {
   "cell_type": "code",
   "execution_count": 11,
   "id": "ae7e52e6-a3a1-49d1-aded-05d08b1db2db",
   "metadata": {},
   "outputs": [
    {
     "data": {
      "text/plain": [
       "1.2815515655446004"
      ]
     },
     "execution_count": 11,
     "metadata": {},
     "output_type": "execute_result"
    }
   ],
   "source": [
    "N.ppf(0.9)"
   ]
  },
  {
   "cell_type": "code",
   "execution_count": 12,
   "id": "ab007ec7-678b-43da-be86-5fc0e31a53c6",
   "metadata": {},
   "outputs": [
    {
     "data": {
      "text/plain": [
       "0.7999999999999998"
      ]
     },
     "execution_count": 12,
     "metadata": {},
     "output_type": "execute_result"
    }
   ],
   "source": [
    "N.cdf(1.2815515655446004) - N.cdf(-1.2815515655446004)"
   ]
  },
  {
   "cell_type": "code",
   "execution_count": 13,
   "id": "b301380a-a325-493f-a70e-130c9a2361f4",
   "metadata": {},
   "outputs": [],
   "source": [
    "alpha = 0.05"
   ]
  },
  {
   "cell_type": "code",
   "execution_count": 14,
   "id": "2a4e4eaf-937b-4182-9a49-12970bb8abf3",
   "metadata": {},
   "outputs": [
    {
     "data": {
      "text/plain": [
       "-1.9599639845400545"
      ]
     },
     "execution_count": 14,
     "metadata": {},
     "output_type": "execute_result"
    }
   ],
   "source": [
    "N.ppf(alpha/2)"
   ]
  },
  {
   "cell_type": "code",
   "execution_count": 16,
   "id": "44f4ded1-eddc-465b-86a2-ac263c1d62f9",
   "metadata": {},
   "outputs": [
    {
     "data": {
      "text/plain": [
       "1.959963984540054"
      ]
     },
     "execution_count": 16,
     "metadata": {},
     "output_type": "execute_result"
    }
   ],
   "source": [
    "N.ppf(1 - alpha/2)"
   ]
  },
  {
   "cell_type": "code",
   "execution_count": 18,
   "id": "5f95594c-2e07-43a8-95c7-daa209a6206b",
   "metadata": {},
   "outputs": [],
   "source": [
    "Xbar = st.norm(loc=7, scale=3)"
   ]
  },
  {
   "cell_type": "code",
   "execution_count": 19,
   "id": "ac807ac6-9fcf-447a-a127-cdf4d18daa17",
   "metadata": {},
   "outputs": [
    {
     "data": {
      "text/plain": [
       "1.120108046379837"
      ]
     },
     "execution_count": 19,
     "metadata": {},
     "output_type": "execute_result"
    }
   ],
   "source": [
    "Xbar.ppf(alpha/2)"
   ]
  },
  {
   "cell_type": "code",
   "execution_count": 21,
   "id": "ba1d1686-a7a1-4aef-9fbf-20a7799d23d4",
   "metadata": {},
   "outputs": [
    {
     "data": {
      "text/plain": [
       "12.879891953620163"
      ]
     },
     "execution_count": 21,
     "metadata": {},
     "output_type": "execute_result"
    }
   ],
   "source": [
    "Xbar.ppf(1-alpha/2)"
   ]
  },
  {
   "cell_type": "code",
   "execution_count": 22,
   "id": "22a70429-32ba-4e83-8653-238379af67f2",
   "metadata": {},
   "outputs": [
    {
     "data": {
      "text/plain": [
       "0.95"
      ]
     },
     "execution_count": 22,
     "metadata": {},
     "output_type": "execute_result"
    }
   ],
   "source": [
    "Xbar.cdf(12.879891953620163) - Xbar.cdf(1.120108046379837)"
   ]
  },
  {
   "cell_type": "markdown",
   "id": "04cf88f3-08f7-4f20-b947-fa4dca0aaaac",
   "metadata": {},
   "source": [
    "X tiene una distribucion $N(\\mu, \\sigma^2)$"
   ]
  },
  {
   "cell_type": "code",
   "execution_count": 95,
   "id": "d9f92f60-185a-410d-8dc2-cdc3f17b45e0",
   "metadata": {},
   "outputs": [],
   "source": [
    "mu = 5\n",
    "sigma = 2\n",
    "N = 40"
   ]
  },
  {
   "cell_type": "code",
   "execution_count": 96,
   "id": "87f34c68-c9f0-4250-8a30-810d1cfeb309",
   "metadata": {},
   "outputs": [],
   "source": [
    "Xdist = st.norm(loc=mu, scale=sigma)"
   ]
  },
  {
   "cell_type": "code",
   "execution_count": 97,
   "id": "65e584f4-1910-4b5b-8fdd-dad1d4ed559e",
   "metadata": {},
   "outputs": [],
   "source": [
    "x = Xdist.rvs(size=N)"
   ]
  },
  {
   "cell_type": "code",
   "execution_count": 98,
   "id": "172ef6b1-b591-4c4d-9c78-36ec1d84afdb",
   "metadata": {},
   "outputs": [
    {
     "data": {
      "text/plain": [
       "array([4.31730454, 5.41154935, 3.01999516, 6.83401393, 7.04428712,\n",
       "       3.58833415, 6.38584418, 5.63830026, 8.77171423, 3.56505043,\n",
       "       7.95810156, 5.14888066, 4.822473  , 1.45404865, 8.95501614,\n",
       "       7.70487115, 4.17057231, 6.09268367, 1.69355888, 1.5034476 ,\n",
       "       2.14295519, 2.47484986, 2.914584  , 4.78136589, 4.08081228,\n",
       "       3.24734578, 4.47735755, 6.43556721, 2.9926502 , 4.90321164,\n",
       "       3.04718216, 4.16207892, 3.73286077, 6.21586569, 3.59510025,\n",
       "       5.73857538, 7.82212846, 7.91657357, 6.74740556, 5.84487606])"
      ]
     },
     "execution_count": 98,
     "metadata": {},
     "output_type": "execute_result"
    }
   ],
   "source": [
    "x"
   ]
  },
  {
   "cell_type": "code",
   "execution_count": 99,
   "id": "9f8e48ba-8302-4ded-a292-5765828607c8",
   "metadata": {},
   "outputs": [
    {
     "data": {
      "text/plain": [
       "[<matplotlib.lines.Line2D at 0x7f08a04225e0>]"
      ]
     },
     "execution_count": 99,
     "metadata": {},
     "output_type": "execute_result"
    },
    {
     "data": {
      "image/png": "[encoded data removed]",
      "text/plain": [
       "<Figure size 432x288 with 1 Axes>"
      ]
     },
     "metadata": {
      "needs_background": "light"
     },
     "output_type": "display_data"
    }
   ],
   "source": [
    "plt.hist(x, density=True)\n",
    "t = np.linspace(1, 9, 100)\n",
    "plt.plot(t, Xdist.pdf(t), color='blue')"
   ]
  },
  {
   "cell_type": "code",
   "execution_count": 100,
   "id": "e0d5595b-b3a8-4de7-a773-86dc7ac73294",
   "metadata": {},
   "outputs": [],
   "source": [
    "estimador = x.mean()"
   ]
  },
  {
   "cell_type": "code",
   "execution_count": 101,
   "id": "0efbd539-b01e-4883-b164-d211812232bc",
   "metadata": {},
   "outputs": [
    {
     "name": "stdout",
     "output_type": "stream",
     "text": [
      "4.9338348348351575\n"
     ]
    }
   ],
   "source": [
    "print(estimador)"
   ]
  },
  {
   "cell_type": "code",
   "execution_count": 102,
   "id": "a821ede6-446a-4568-9dc5-7a5e09b474f4",
   "metadata": {},
   "outputs": [],
   "source": [
    "Xbar = st.norm(estimador, sigma/np.sqrt(N))"
   ]
  },
  {
   "cell_type": "code",
   "execution_count": 103,
   "id": "038b2af6-50e4-4d08-be50-deeb4a2c3f6a",
   "metadata": {},
   "outputs": [
    {
     "data": {
      "text/plain": [
       "(array([0.13331614, 0.06665807, 0.23330324, 0.16664517, 0.16664517,\n",
       "        0.13331614, 0.13331614, 0.0999871 , 0.13331614, 0.06665807]),\n",
       " array([1.45404865, 2.2041454 , 2.95424215, 3.7043389 , 4.45443565,\n",
       "        5.2045324 , 5.95462915, 6.70472589, 7.45482264, 8.20491939,\n",
       "        8.95501614]),\n",
       " <BarContainer object of 10 artists>)"
      ]
     },
     "execution_count": 103,
     "metadata": {},
     "output_type": "execute_result"
    },
    {
     "data": {
      "image/png": "[encoded data removed]",
      "text/plain": [
       "<Figure size 432x288 with 1 Axes>"
      ]
     },
     "metadata": {
      "needs_background": "light"
     },
     "output_type": "display_data"
    }
   ],
   "source": [
    "plt.plot(t, Xdist.pdf(t), color='blue')\n",
    "plt.plot(t, Xbar.pdf(t), color='coral')\n",
    "plt.hist(x, density=True)"
   ]
  },
  {
   "cell_type": "code",
   "execution_count": 104,
   "id": "898651d7-0545-419a-acda-36101797a92a",
   "metadata": {},
   "outputs": [
    {
     "data": {
      "text/plain": [
       "4.314039802530596"
      ]
     },
     "execution_count": 104,
     "metadata": {},
     "output_type": "execute_result"
    }
   ],
   "source": [
    "Xbar.ppf(alpha/2)"
   ]
  },
  {
   "cell_type": "code",
   "execution_count": 105,
   "id": "a180210c-d4a1-4e73-a8a5-e11ed11b7405",
   "metadata": {},
   "outputs": [
    {
     "data": {
      "text/plain": [
       "5.553629867139719"
      ]
     },
     "execution_count": 105,
     "metadata": {},
     "output_type": "execute_result"
    }
   ],
   "source": []
  },
  {
   "cell_type": "code",
   "execution_count": 110,
   "id": "0cb12c73-b16b-463d-aa0e-260575d30a44",
   "metadata": {},
   "outputs": [
    {
     "data": {
      "text/plain": [
       "0.05"
      ]
     },
     "execution_count": 110,
     "metadata": {},
     "output_type": "execute_result"
    }
   ],
   "source": [
    "alpha"
   ]
  },
  {
   "cell_type": "code",
   "execution_count": 111,
   "id": "f9c68f7b-b168-4c0a-80b5-b57ff2f9404e",
   "metadata": {},
   "outputs": [
    {
     "data": {
      "text/plain": [
       "40"
      ]
     },
     "execution_count": 111,
     "metadata": {},
     "output_type": "execute_result"
    }
   ],
   "source": [
    "N"
   ]
  },
  {
   "cell_type": "code",
   "execution_count": 114,
   "id": "7279cefd-1e50-4de6-8d51-161149a0aa1f",
   "metadata": {},
   "outputs": [],
   "source": [
    "Z = (x-estimador)/(sigma/np.sqrt(N))"
   ]
  },
  {
   "cell_type": "code",
   "execution_count": 115,
   "id": "b9ec5471-a8b5-4925-8c5d-fb83c73b4ff7",
   "metadata": {},
   "outputs": [
    {
     "data": {
      "text/plain": [
       "array([ -1.94963997,   1.51066595,  -6.05209246,   6.00889392,\n",
       "         6.6738361 ,  -4.25484675,   4.59165672,   2.22771528,\n",
       "        12.13644026,  -4.32847635,   9.56357111,   0.68003462,\n",
       "        -0.35215703, -11.00405012,  12.71609182,   8.76278623,\n",
       "        -2.41364802,   3.66460178, -10.24665227, -10.84783691,\n",
       "        -8.82553636,  -7.77599324,  -6.38543181,  -0.48214913,\n",
       "        -2.69749416,  -5.33314667,  -1.44350792,   4.74889473,\n",
       "        -6.13856482,  -0.09683906,  -5.96611959,  -2.44050647,\n",
       "        -3.79781346,   4.05413752,  -4.23345046,   2.54481304,\n",
       "         9.1335864 ,   9.43224807,   5.73501418,   2.88096532])"
      ]
     },
     "execution_count": 115,
     "metadata": {},
     "output_type": "execute_result"
    }
   ],
   "source": [
    "Z"
   ]
  },
  {
   "cell_type": "code",
   "execution_count": 117,
   "id": "9aa24d1b-d598-4335-b0d0-7fb5af08304a",
   "metadata": {},
   "outputs": [],
   "source": [
    "Nest = st.norm()"
   ]
  },
  {
   "cell_type": "code",
   "execution_count": 121,
   "id": "aae69065-ecf4-4e3f-963c-b957238f15bd",
   "metadata": {},
   "outputs": [],
   "source": [
    "q1 = Nest.ppf(alpha/2)\n",
    "q2 = Nest.ppf(1-alpha/2)"
   ]
  },
  {
   "cell_type": "code",
   "execution_count": 122,
   "id": "ff3ffe78-4d81-41e0-88be-ffa8f08fc03f",
   "metadata": {},
   "outputs": [
    {
     "data": {
      "text/plain": [
       "4.314039802530596"
      ]
     },
     "execution_count": 122,
     "metadata": {},
     "output_type": "execute_result"
    }
   ],
   "source": [
    "q1*sigma/np.sqrt(N) + estimador"
   ]
  },
  {
   "cell_type": "code",
   "execution_count": 123,
   "id": "d3ce397d-8970-499d-9d7f-86769c64d232",
   "metadata": {},
   "outputs": [
    {
     "data": {
      "text/plain": [
       "5.553629867139719"
      ]
     },
     "execution_count": 123,
     "metadata": {},
     "output_type": "execute_result"
    }
   ],
   "source": [
    "q2*sigma/np.sqrt(N) + estimador"
   ]
  },
  {
   "cell_type": "code",
   "execution_count": 124,
   "id": "64be008d-b236-4ef4-9856-2f9a2127e7a6",
   "metadata": {},
   "outputs": [
    {
     "data": {
      "text/plain": [
       "-1.9599639845400545"
      ]
     },
     "execution_count": 124,
     "metadata": {},
     "output_type": "execute_result"
    }
   ],
   "source": [
    "Nest.ppf(0.025)"
   ]
  },
  {
   "cell_type": "code",
   "execution_count": null,
   "id": "d27ee7ba-f69a-4b59-9e3a-5738daac7038",
   "metadata": {},
   "outputs": [],
   "source": []
  }
 ],
 "metadata": {
  "kernelspec": {
   "display_name": "Python 3 (ipykernel)",
   "language": "python",
   "name": "python3"
  },
  "language_info": {
   "codemirror_mode": {
    "name": "ipython",
    "version": 3
   },
   "file_extension": ".py",
   "mimetype": "text/x-python",
   "name": "python",
   "nbconvert_exporter": "python",
   "pygments_lexer": "ipython3",
   "version": "3.8.10"
  }
 },
 "nbformat": 4,
 "nbformat_minor": 5
}
