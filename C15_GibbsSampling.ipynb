{
 "cells": [
  {
   "cell_type": "markdown",
   "metadata": {},
   "source": [
    "http://kieranrcampbell.github.io/gibbs-sampling-bayesian-linear-regression/"
   ]
  },
  {
   "cell_type": "code",
   "execution_count": 11,
   "metadata": {
    "tags": []
   },
   "outputs": [],
   "source": [
    "import numpy as np\n",
    "\n",
    "%matplotlib inline\n",
    "#from seaborn import plt\n",
    "import pandas as pd\n",
    "from matplotlib import pyplot as plt\n",
    "#plt.rcParams['figure.figsize'] = (10, 5)"
   ]
  },
  {
   "cell_type": "markdown",
   "metadata": {},
   "source": [
    "**Modelo**: $$\\Large Y = \\alpha + \\beta * X + \\epsilon$$\n",
    "donde\n",
    "$$\\epsilon \\sim N(0, \\sigma^2)$$\n",
    "\n",
    "Además, proponemos como **PRIORS** que:\n",
    "$$\\alpha \\sim N(\\mu_0, \\sigma_0^2)$$\n",
    "$$\\beta \\sim N(\\mu_1, \\sigma_1^2)$$\n",
    "y\n",
    "$$\\tau = \\frac{1}{\\sigma}= \\sim Gamma(a,b)$$"
   ]
  },
  {
   "cell_type": "markdown",
   "metadata": {},
   "source": [
    "Las probabilidades **condicionales** para los 3 parámetros son:"
   ]
  },
  {
   "cell_type": "code",
   "execution_count": 12,
   "metadata": {
    "tags": []
   },
   "outputs": [],
   "source": [
    "def sample_alfa(y, x, beta, tau, mu_0, tau_0):\n",
    "    N = len(y)\n",
    "    assert len(x) == N\n",
    "    precision = tau_0 + tau * N\n",
    "    mean = tau_0 * mu_0 + tau * np.sum(y - beta * x)\n",
    "    mean /= precision\n",
    "    return np.random.normal(mean, 1 / np.sqrt(precision))"
   ]
  },
  {
   "cell_type": "code",
   "execution_count": 13,
   "metadata": {
    "tags": []
   },
   "outputs": [],
   "source": [
    "def sample_beta(y, x, alfa, tau, mu_1, tau_1):\n",
    "    N = len(y)\n",
    "    assert len(x) == N\n",
    "    precision = tau_1 + tau * np.sum(x * x)\n",
    "    mean = tau_1 * mu_1 + tau * np.sum( (y - alfa) * x)\n",
    "    mean /= precision\n",
    "    return np.random.normal(mean, 1 / np.sqrt(precision))"
   ]
  },
  {
   "cell_type": "code",
   "execution_count": 14,
   "metadata": {
    "tags": []
   },
   "outputs": [],
   "source": [
    "def sample_tau(y, x, alfa, beta, a, b):\n",
    "    N = len(y)\n",
    "    a_new = a + N / 2\n",
    "    resid = y - alfa - beta * x\n",
    "    b_new = b + np.sum(resid * resid) / 2\n",
    "    return np.random.gamma(a_new, 1 / b_new)"
   ]
  },
  {
   "cell_type": "code",
   "execution_count": 15,
   "metadata": {
    "collapsed": false,
    "jupyter": {
     "outputs_hidden": false
    }
   },
   "outputs": [],
   "source": [
    "alfa_true = -1\n",
    "beta_true = 2\n",
    "tau_true = 1\n",
    "\n",
    "N = 25\n",
    "x = np.random.uniform(low = 0, high = 4, size = N)\n",
    "y = np.random.normal(alfa_true + beta_true * x, 1 / np.sqrt(tau_true))"
   ]
  },
  {
   "cell_type": "code",
   "execution_count": 17,
   "metadata": {
    "collapsed": false,
    "jupyter": {
     "outputs_hidden": false
    }
   },
   "outputs": [
    {
     "data": {
      "text/plain": [
       "Text(0, 0.5, 'y')"
      ]
     },
     "execution_count": 17,
     "metadata": {},
     "output_type": "execute_result"
    },
    {
     "data": {
      "image/png": "[encoded data removed]",
      "text/plain": [
       "<Figure size 432x288 with 1 Axes>"
      ]
     },
     "metadata": {
      "needs_background": "light"
     },
     "output_type": "display_data"
    }
   ],
   "source": [
    "synth_plot = plt.plot(x, y, \"o\")\n",
    "plt.xlabel(\"x\")\n",
    "plt.ylabel(\"y\")"
   ]
  },
  {
   "cell_type": "code",
   "execution_count": 18,
   "metadata": {
    "tags": []
   },
   "outputs": [],
   "source": [
    "## specify initial values\n",
    "init = {\"alfa\": 0,\n",
    "        \"beta\": 0,\n",
    "        \"tau\": 2}\n",
    "\n",
    "## specify hyper parameters\n",
    "hypers = {\"mu_0\": 0,\n",
    "         \"tau_0\": 1,\n",
    "         \"mu_1\": 0,\n",
    "         \"tau_1\": 1,\n",
    "         \"a\": 2,\n",
    "         \"b\": 1}"
   ]
  },
  {
   "cell_type": "code",
   "execution_count": 19,
   "metadata": {
    "tags": []
   },
   "outputs": [],
   "source": [
    "def gibbs(y, x, iters, init, hypers):\n",
    "    assert len(y) == len(x)\n",
    "    alfa = init[\"alfa\"]\n",
    "    beta = init[\"beta\"]\n",
    "    tau = init[\"tau\"]\n",
    "    \n",
    "    trace = np.zeros((iters, 3)) ## trace to store values of beta_0, beta_1, tau\n",
    "    \n",
    "    for it in range(iters):\n",
    "        \n",
    "        # fijo beta y tau y sorteo alfa\n",
    "        alfa = sample_alfa(y, x, beta, tau, hypers[\"mu_0\"], hypers[\"tau_0\"])\n",
    "        \n",
    "        # fijo alfa y tau y sorteo beta\n",
    "        beta = sample_beta(y, x, alfa, tau, hypers[\"mu_1\"], hypers[\"tau_1\"])\n",
    "        \n",
    "        # fijo alfa y beta y sorteo tau\n",
    "        tau = sample_tau(y, x, alfa, beta, hypers[\"a\"], hypers[\"b\"])\n",
    "        \n",
    "        # guardo los datos:\n",
    "        trace[it,:] = np.array((alfa, beta, tau))\n",
    "        \n",
    "    trace = pd.DataFrame(trace)\n",
    "    \n",
    "    trace.columns = ['alfa', 'beta', 'tau']\n",
    "        \n",
    "    return trace"
   ]
  },
  {
   "cell_type": "code",
   "execution_count": 27,
   "metadata": {
    "collapsed": false,
    "jupyter": {
     "outputs_hidden": false
    }
   },
   "outputs": [],
   "source": [
    "iters = 20\n",
    "trace = gibbs(y, x, iters, init, hypers)"
   ]
  },
  {
   "cell_type": "code",
   "execution_count": 31,
   "metadata": {},
   "outputs": [
    {
     "data": {
      "text/html": [
       "<div>\n",
       "<style scoped>\n",
       "    .dataframe tbody tr th:only-of-type {\n",
       "        vertical-align: middle;\n",
       "    }\n",
       "\n",
       "    .dataframe tbody tr th {\n",
       "        vertical-align: top;\n",
       "    }\n",
       "\n",
       "    .dataframe thead th {\n",
       "        text-align: right;\n",
       "    }\n",
       "</style>\n",
       "<table border=\"1\" class=\"dataframe\">\n",
       "  <thead>\n",
       "    <tr style=\"text-align: right;\">\n",
       "      <th></th>\n",
       "      <th>alfa</th>\n",
       "      <th>beta</th>\n",
       "      <th>tau</th>\n",
       "    </tr>\n",
       "  </thead>\n",
       "  <tbody>\n",
       "    <tr>\n",
       "      <th>0</th>\n",
       "      <td>3.843652</td>\n",
       "      <td>0.542936</td>\n",
       "      <td>0.202435</td>\n",
       "    </tr>\n",
       "    <tr>\n",
       "      <th>1</th>\n",
       "      <td>2.129204</td>\n",
       "      <td>0.941770</td>\n",
       "      <td>0.300477</td>\n",
       "    </tr>\n",
       "    <tr>\n",
       "      <th>2</th>\n",
       "      <td>1.221456</td>\n",
       "      <td>1.383773</td>\n",
       "      <td>0.377377</td>\n",
       "    </tr>\n",
       "    <tr>\n",
       "      <th>3</th>\n",
       "      <td>0.099399</td>\n",
       "      <td>1.611451</td>\n",
       "      <td>1.007501</td>\n",
       "    </tr>\n",
       "    <tr>\n",
       "      <th>4</th>\n",
       "      <td>-0.233180</td>\n",
       "      <td>1.908589</td>\n",
       "      <td>0.759032</td>\n",
       "    </tr>\n",
       "    <tr>\n",
       "      <th>5</th>\n",
       "      <td>-0.997528</td>\n",
       "      <td>2.167321</td>\n",
       "      <td>0.745496</td>\n",
       "    </tr>\n",
       "    <tr>\n",
       "      <th>6</th>\n",
       "      <td>-1.084696</td>\n",
       "      <td>2.038812</td>\n",
       "      <td>1.202189</td>\n",
       "    </tr>\n",
       "    <tr>\n",
       "      <th>7</th>\n",
       "      <td>-0.855899</td>\n",
       "      <td>1.892793</td>\n",
       "      <td>0.942913</td>\n",
       "    </tr>\n",
       "    <tr>\n",
       "      <th>8</th>\n",
       "      <td>-0.892017</td>\n",
       "      <td>2.085794</td>\n",
       "      <td>1.121450</td>\n",
       "    </tr>\n",
       "    <tr>\n",
       "      <th>9</th>\n",
       "      <td>-1.122403</td>\n",
       "      <td>2.077509</td>\n",
       "      <td>0.607471</td>\n",
       "    </tr>\n",
       "    <tr>\n",
       "      <th>10</th>\n",
       "      <td>-0.798398</td>\n",
       "      <td>2.006525</td>\n",
       "      <td>0.489454</td>\n",
       "    </tr>\n",
       "    <tr>\n",
       "      <th>11</th>\n",
       "      <td>-1.525341</td>\n",
       "      <td>2.239678</td>\n",
       "      <td>1.440332</td>\n",
       "    </tr>\n",
       "    <tr>\n",
       "      <th>12</th>\n",
       "      <td>-1.623321</td>\n",
       "      <td>2.119869</td>\n",
       "      <td>1.004168</td>\n",
       "    </tr>\n",
       "    <tr>\n",
       "      <th>13</th>\n",
       "      <td>-1.005531</td>\n",
       "      <td>1.852450</td>\n",
       "      <td>1.233611</td>\n",
       "    </tr>\n",
       "    <tr>\n",
       "      <th>14</th>\n",
       "      <td>-0.371479</td>\n",
       "      <td>1.884758</td>\n",
       "      <td>0.958370</td>\n",
       "    </tr>\n",
       "    <tr>\n",
       "      <th>15</th>\n",
       "      <td>-0.773801</td>\n",
       "      <td>1.950851</td>\n",
       "      <td>1.141645</td>\n",
       "    </tr>\n",
       "    <tr>\n",
       "      <th>16</th>\n",
       "      <td>-0.764482</td>\n",
       "      <td>1.929491</td>\n",
       "      <td>0.843154</td>\n",
       "    </tr>\n",
       "    <tr>\n",
       "      <th>17</th>\n",
       "      <td>-0.853183</td>\n",
       "      <td>1.905617</td>\n",
       "      <td>0.834817</td>\n",
       "    </tr>\n",
       "    <tr>\n",
       "      <th>18</th>\n",
       "      <td>-1.267482</td>\n",
       "      <td>2.055416</td>\n",
       "      <td>0.855150</td>\n",
       "    </tr>\n",
       "    <tr>\n",
       "      <th>19</th>\n",
       "      <td>-0.865143</td>\n",
       "      <td>2.095923</td>\n",
       "      <td>0.924275</td>\n",
       "    </tr>\n",
       "  </tbody>\n",
       "</table>\n",
       "</div>"
      ],
      "text/plain": [
       "        alfa      beta       tau\n",
       "0   3.843652  0.542936  0.202435\n",
       "1   2.129204  0.941770  0.300477\n",
       "2   1.221456  1.383773  0.377377\n",
       "3   0.099399  1.611451  1.007501\n",
       "4  -0.233180  1.908589  0.759032\n",
       "5  -0.997528  2.167321  0.745496\n",
       "6  -1.084696  2.038812  1.202189\n",
       "7  -0.855899  1.892793  0.942913\n",
       "8  -0.892017  2.085794  1.121450\n",
       "9  -1.122403  2.077509  0.607471\n",
       "10 -0.798398  2.006525  0.489454\n",
       "11 -1.525341  2.239678  1.440332\n",
       "12 -1.623321  2.119869  1.004168\n",
       "13 -1.005531  1.852450  1.233611\n",
       "14 -0.371479  1.884758  0.958370\n",
       "15 -0.773801  1.950851  1.141645\n",
       "16 -0.764482  1.929491  0.843154\n",
       "17 -0.853183  1.905617  0.834817\n",
       "18 -1.267482  2.055416  0.855150\n",
       "19 -0.865143  2.095923  0.924275"
      ]
     },
     "execution_count": 31,
     "metadata": {},
     "output_type": "execute_result"
    }
   ],
   "source": [
    "trace"
   ]
  },
  {
   "cell_type": "code",
   "execution_count": 38,
   "metadata": {
    "collapsed": false,
    "jupyter": {
     "outputs_hidden": false
    }
   },
   "outputs": [
    {
     "data": {
      "image/png": "[encoded data removed]",
      "text/plain": [
       "<Figure size 432x288 with 3 Axes>"
      ]
     },
     "metadata": {
      "needs_background": "light"
     },
     "output_type": "display_data"
    }
   ],
   "source": [
    "f, (ax1, ax2, ax3) = plt.subplots(3,1)\n",
    "\n",
    "ax1.scatter(trace.alfa, trace.beta, color='b', s=40)\n",
    "ax1.plot(trace.alfa, trace.beta, '-')\n",
    "\n",
    "ax2.scatter(trace.alfa, trace.tau, color='r', s=40)\n",
    "ax2.plot(trace.alfa, trace.tau, '-r')\n",
    "\n",
    "ax3.scatter(trace.beta, trace.tau, color='g', s=40)\n",
    "ax3.plot(trace.beta, trace.tau, '-g')\n",
    "\n",
    "plt.show()"
   ]
  },
  {
   "cell_type": "code",
   "execution_count": 39,
   "metadata": {
    "collapsed": false,
    "jupyter": {
     "outputs_hidden": false
    }
   },
   "outputs": [],
   "source": [
    "iters = 10000\n",
    "trace = gibbs(y, x, iters, init, hypers)"
   ]
  },
  {
   "cell_type": "code",
   "execution_count": 40,
   "metadata": {
    "collapsed": false,
    "jupyter": {
     "outputs_hidden": false
    }
   },
   "outputs": [
    {
     "data": {
      "text/plain": [
       "Text(0, 0.5, 'valor estimado del parametro')"
      ]
     },
     "execution_count": 40,
     "metadata": {},
     "output_type": "execute_result"
    },
    {
     "data": {
      "image/png": "[encoded data removed]",
      "text/plain": [
       "<Figure size 432x288 with 1 Axes>"
      ]
     },
     "metadata": {
      "needs_background": "light"
     },
     "output_type": "display_data"
    }
   ],
   "source": [
    "traceplot = trace.plot()\n",
    "traceplot.set_xlabel(\"Iteracion\")\n",
    "traceplot.set_ylabel(\"valor estimado del parametro\")"
   ]
  },
  {
   "cell_type": "code",
   "execution_count": 41,
   "metadata": {
    "collapsed": false,
    "jupyter": {
     "outputs_hidden": false
    }
   },
   "outputs": [
    {
     "data": {
      "image/png": "[encoded data removed]",
      "text/plain": [
       "<Figure size 432x288 with 3 Axes>"
      ]
     },
     "metadata": {
      "needs_background": "light"
     },
     "output_type": "display_data"
    }
   ],
   "source": [
    "f, (ax1, ax2, ax3) = plt.subplots(3,1)\n",
    "ax1.scatter(trace['alfa'], trace['beta'], color='blue')\n",
    "ax2.scatter(trace['alfa'], trace['tau'], color='red')\n",
    "ax3.scatter(trace['beta'], trace['tau'], color='green')\n",
    "plt.show()"
   ]
  },
  {
   "cell_type": "code",
   "execution_count": 42,
   "metadata": {
    "collapsed": false,
    "jupyter": {
     "outputs_hidden": false
    }
   },
   "outputs": [
    {
     "name": "stdout",
     "output_type": "stream",
     "text": [
      "alfa   -1.068080\n",
      "beta    2.051667\n",
      "tau     0.973134\n",
      "dtype: float64\n"
     ]
    },
    {
     "data": {
      "image/png": "[encoded data removed]",
      "text/plain": [
       "<Figure size 432x288 with 3 Axes>"
      ]
     },
     "metadata": {
      "needs_background": "light"
     },
     "output_type": "display_data"
    }
   ],
   "source": [
    "trace_burnt = trace[500:(iters-1)]\n",
    "hist_plot = trace_burnt.hist(bins = 30, layout = (1,3))\n",
    "\n",
    "m = trace_burnt.mean()\n",
    "\n",
    "print(trace_burnt.mean())"
   ]
  },
  {
   "cell_type": "code",
   "execution_count": 43,
   "metadata": {
    "collapsed": false,
    "jupyter": {
     "outputs_hidden": false
    }
   },
   "outputs": [
    {
     "name": "stdout",
     "output_type": "stream",
     "text": [
      "[-1, 4]\n",
      "[-3, 7]\n"
     ]
    },
    {
     "data": {
      "text/plain": [
       "[<matplotlib.lines.Line2D at 0x7f7b1d2cf3a0>]"
      ]
     },
     "execution_count": 43,
     "metadata": {},
     "output_type": "execute_result"
    },
    {
     "data": {
      "image/png": "[encoded data removed]",
      "text/plain": [
       "<Figure size 432x288 with 1 Axes>"
      ]
     },
     "metadata": {
      "needs_background": "light"
     },
     "output_type": "display_data"
    }
   ],
   "source": [
    "synth_plot = plt.plot(x, y, \"o\")\n",
    "plt.xlabel(\"x\")\n",
    "plt.ylabel(\"y\")\n",
    "\n",
    "xt = [-1,4]\n",
    "yt = [alfa_true + beta_true*s for s in xt]  # verdadera\n",
    "yg = [m[0] + m[1]*s for s in xt]            # estimada\n",
    "\n",
    "print (xt)\n",
    "print (yt)\n",
    "\n",
    "plt.plot(xt,yt, 'b-', lw=1)\n",
    "plt.plot(xt,yg, 'r:', lw=4)"
   ]
  },
  {
   "cell_type": "code",
   "execution_count": null,
   "metadata": {
    "collapsed": false,
    "jupyter": {
     "outputs_hidden": false
    }
   },
   "outputs": [],
   "source": []
  },
  {
   "cell_type": "code",
   "execution_count": null,
   "metadata": {
    "collapsed": true,
    "jupyter": {
     "outputs_hidden": true
    }
   },
   "outputs": [],
   "source": []
  },
  {
   "cell_type": "code",
   "execution_count": null,
   "metadata": {
    "collapsed": true,
    "jupyter": {
     "outputs_hidden": true
    }
   },
   "outputs": [],
   "source": []
  }
 ],
 "metadata": {
  "kernelspec": {
   "display_name": "Python 3 (ipykernel)",
   "language": "python",
   "name": "python3"
  },
  "language_info": {
   "codemirror_mode": {
    "name": "ipython",
    "version": 3
   },
   "file_extension": ".py",
   "mimetype": "text/x-python",
   "name": "python",
   "nbconvert_exporter": "python",
   "pygments_lexer": "ipython3",
   "version": "3.8.5"
  }
 },
 "nbformat": 4,
 "nbformat_minor": 4
}
