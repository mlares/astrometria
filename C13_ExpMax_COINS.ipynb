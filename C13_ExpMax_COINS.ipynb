{
 "cells": [
  {
   "cell_type": "markdown",
   "metadata": {},
   "source": [
    "Notebook basado en el artículo:\n",
    "What is the expectation maximization algorithm?, by Chuong B Do & Serafim Batzoglou\n",
    "http://ai.stanford.edu/~chuongdo/papers/em_tutorial.pdf"
   ]
  },
  {
   "cell_type": "markdown",
   "metadata": {},
   "source": [
    "Problema:\n",
    "    \n",
    "    Se tienen dos monedas con sesgos desconocidos.  Es decir, la probabilidad de que salga cara NO es 1/2, y además es diferente para cada una.  Se busca determinar los valores de esas probabilidades. \n",
    "    \n",
    "    Para eso se realiza el siguiente experimento:\n",
    "    \n",
    "    1. Elegir una moneda al azar\n",
    "    2. sortear esa moneda 10 veces\n",
    "    3. repetir (1.) 5 veces\n",
    "    \n",
    "Al final se tienen en total 50 sorteos de las monedas."
   ]
  },
  {
   "cell_type": "code",
   "execution_count": 46,
   "metadata": {
    "tags": []
   },
   "outputs": [],
   "source": [
    "import numpy as np\n",
    "from scipy import stats\n",
    "import matplotlib.pyplot as plt\n",
    "import seaborn as sns\n",
    "import random\n",
    "%matplotlib inline"
   ]
  },
  {
   "cell_type": "markdown",
   "metadata": {},
   "source": [
    "Definir una funcion que muestre la distribucion binomial (muchos resultados de simular una moneda)"
   ]
  },
  {
   "cell_type": "code",
   "execution_count": 47,
   "metadata": {
    "tags": []
   },
   "outputs": [],
   "source": [
    "def plot_binomial(p=0.5, n=10):\n",
    "    a=range(n+1)\n",
    "    fig, ax = plt.subplots(figsize=(12,8))\n",
    "    y = [0]*(n+1)\n",
    "    for i in a:\n",
    "        y[i] =  stats.binom.pmf(i, n, p)\n",
    "    ax.bar(a,y,label=\"$p = %.1f$\" % p)\n",
    "    ax.set_ylabel('FMP del nro. de caras')\n",
    "    ax.set_xlabel('$k$')\n",
    "    ax.set_ylim((0,0.5))\n",
    "    ax.set_xlim((-1,n+1))\n",
    "    ax.legend()\n",
    "    return fig"
   ]
  },
  {
   "cell_type": "markdown",
   "metadata": {},
   "source": [
    "Mostrar la distribucion Binomial"
   ]
  },
  {
   "cell_type": "code",
   "execution_count": 48,
   "metadata": {},
   "outputs": [
    {
     "data": {
      "image/png": "[encoded data removed]",
      "text/plain": [
       "<Figure size 864x576 with 1 Axes>"
      ]
     },
     "metadata": {
      "needs_background": "light"
     },
     "output_type": "display_data"
    }
   ],
   "source": [
    "f = plot_binomial(0.2)"
   ]
  },
  {
   "cell_type": "markdown",
   "metadata": {},
   "source": [
    "## Simular un experimento:"
   ]
  },
  {
   "cell_type": "code",
   "execution_count": 49,
   "metadata": {
    "tags": []
   },
   "outputs": [],
   "source": [
    "Nexp = 50   # numero de experimentos (monedas)\n",
    "Nsor = 300  # numero de veces que tiro la moneda en cada experimento\n",
    "pA = 0.3   # probabilidad de que salga cara en la moneda A\n",
    "pB = 0.7   # probabilidad de que salga cara en la moneda B\n",
    "pM = 0.5   # probabiidad de elegir la moneda A\n",
    "N_itera = 10 # cantidad de iteraciones en el metodo EM\n",
    "obs = np.empty([Nexp, Nsor], dtype=bool)"
   ]
  },
  {
   "cell_type": "code",
   "execution_count": 50,
   "metadata": {
    "tags": []
   },
   "outputs": [],
   "source": [
    "def gen_bernoulli(p):\n",
    "    x = random.random()\n",
    "    if x<p:\n",
    "        r = True\n",
    "    else:\n",
    "        r = False\n",
    "    return(r)"
   ]
  },
  {
   "cell_type": "code",
   "execution_count": 51,
   "metadata": {
    "tags": []
   },
   "outputs": [],
   "source": [
    "def monedas(emA,Nexp):\n",
    "    As = np.array([\"A\"]*Nexp)\n",
    "    Bs = np.array([\"B\"]*Nexp)\n",
    "    T = As\n",
    "    T[emA] = As[emA]\n",
    "    T[~emA] = Bs[~emA]\n",
    "    return(T)"
   ]
  },
  {
   "cell_type": "code",
   "execution_count": 52,
   "metadata": {
    "tags": []
   },
   "outputs": [],
   "source": [
    "def eP(emA, pA, pB, Nexp):\n",
    "    As = np.array([\"A\"]*Nexp)\n",
    "    Bs = np.array([\"B\"]*Nexp)\n",
    "    T = As\n",
    "    T[emA] = As[emA]\n",
    "    T[~emA] = Bs[~emA]\n",
    "    return(T)"
   ]
  },
  {
   "cell_type": "markdown",
   "metadata": {},
   "source": [
    "Elegir monedas:"
   ]
  },
  {
   "cell_type": "code",
   "execution_count": 53,
   "metadata": {},
   "outputs": [
    {
     "name": "stdout",
     "output_type": "stream",
     "text": [
      "[False  True False  True  True False False False False  True False False\n",
      " False False False False  True  True False False  True  True  True False\n",
      " False False  True  True False False False False  True False  True  True\n",
      "  True False False False False False False False  True False False  True\n",
      " False False]\n",
      "['B' 'A' 'B' 'A' 'A' 'B' 'B' 'B' 'B' 'A' 'B' 'B' 'B' 'B' 'B' 'B' 'A' 'A'\n",
      " 'B' 'B' 'A' 'A' 'A' 'B' 'B' 'B' 'A' 'A' 'B' 'B' 'B' 'B' 'A' 'B' 'A' 'A'\n",
      " 'A' 'B' 'B' 'B' 'B' 'B' 'B' 'B' 'A' 'B' 'B' 'A' 'B' 'B']\n"
     ]
    }
   ],
   "source": [
    "mA = np.array([gen_bernoulli(pM) for _ in range(Nexp)])\n",
    "print(mA)\n",
    "T = monedas(mA, Nexp)\n",
    "print(T)"
   ]
  },
  {
   "cell_type": "markdown",
   "metadata": {},
   "source": [
    "Tiradas de las monedas:"
   ]
  },
  {
   "cell_type": "code",
   "execution_count": 54,
   "metadata": {
    "tags": []
   },
   "outputs": [],
   "source": [
    "for i in range(Nexp):\n",
    "    \n",
    "    if(mA[i]):\n",
    "        p = pA\n",
    "    else:\n",
    "        p = pB\n",
    "        \n",
    "    obs[i] = [gen_bernoulli(p) for _ in range(Nsor)]"
   ]
  },
  {
   "cell_type": "code",
   "execution_count": 55,
   "metadata": {},
   "outputs": [
    {
     "name": "stdout",
     "output_type": "stream",
     "text": [
      "[[ True  True False ...  True  True False]\n",
      " [ True False False ... False False  True]\n",
      " [ True  True  True ... False  True  True]\n",
      " ...\n",
      " [False False  True ... False False False]\n",
      " [ True False False ...  True False  True]\n",
      " [ True  True False ...  True False  True]]\n"
     ]
    }
   ],
   "source": [
    "print (obs)"
   ]
  },
  {
   "cell_type": "markdown",
   "metadata": {},
   "source": [
    "------------------------------------>> Objetivo: estimar pA y pB <<----------------------------------------"
   ]
  },
  {
   "cell_type": "markdown",
   "metadata": {},
   "source": [
    "## Estimaciones de la probabilidad: Caso \"completo\""
   ]
  },
  {
   "cell_type": "markdown",
   "metadata": {},
   "source": [
    "![title](plots/EM1.png)"
   ]
  },
  {
   "cell_type": "code",
   "execution_count": 56,
   "metadata": {},
   "outputs": [
    {
     "name": "stdout",
     "output_type": "stream",
     "text": [
      "0.3 0.29980392156862745 0.7 0.7012121212121212\n"
     ]
    }
   ],
   "source": [
    "fA = 1.0 * np.sum(obs[mA]) / np.size(obs[mA])\n",
    "fB = 1.0 * np.sum(obs[~mA]) / np.size(obs[~mA])\n",
    "print(pA, fA, pB, fB)"
   ]
  },
  {
   "cell_type": "code",
   "execution_count": 57,
   "metadata": {},
   "outputs": [
    {
     "name": "stderr",
     "output_type": "stream",
     "text": [
      "No handles with labels found to put in legend.\n"
     ]
    },
    {
     "data": {
      "text/plain": [
       "<matplotlib.legend.Legend at 0x9ddd9220>"
      ]
     },
     "execution_count": 57,
     "metadata": {},
     "output_type": "execute_result"
    },
    {
     "data": {
      "image/png": "[encoded data removed]",
      "text/plain": [
       "<Figure size 432x432 with 1 Axes>"
      ]
     },
     "metadata": {
      "needs_background": "light"
     },
     "output_type": "display_data"
    }
   ],
   "source": [
    "fig, ax = plt.subplots(figsize=(6,6))\n",
    "plt.plot([0,1],[0,1],\"k-\")\n",
    "plt.plot([pA,pB],[fA,fB],\"o\")\n",
    "ax.set_xlabel('probabilidad verdadera')\n",
    "ax.set_ylabel('probabilidad estimada')\n",
    "ax.set_ylim((0,1))\n",
    "ax.set_xlim((0,1))\n",
    "ax.legend()"
   ]
  },
  {
   "cell_type": "markdown",
   "metadata": {},
   "source": [
    "### Estimaciones de la probabilidad: Caso \"incompleto\": \n",
    "#### Aplicación del algoritmo de expectación-maximización"
   ]
  },
  {
   "cell_type": "markdown",
   "metadata": {},
   "source": [
    "#### paso 1: asumir valores para los parámetos pA y pB (desconocidos)"
   ]
  },
  {
   "cell_type": "code",
   "execution_count": 58,
   "metadata": {
    "tags": []
   },
   "outputs": [],
   "source": [
    "epA = 0.6\n",
    "epB = 0.5"
   ]
  },
  {
   "cell_type": "markdown",
   "metadata": {},
   "source": [
    "#### paso 2: determinar para cada experimento cual de las monedas es la más probable"
   ]
  },
  {
   "cell_type": "code",
   "execution_count": 59,
   "metadata": {},
   "outputs": [
    {
     "name": "stdout",
     "output_type": "stream",
     "text": [
      "[ True  True False  True False  True  True  True  True False  True False\n",
      "  True  True False  True  True  True  True  True  True False False  True\n",
      " False False  True  True  True  True False  True  True  True False  True\n",
      "  True  True  True False  True  True  True  True False False  True False\n",
      "  True  True  True  True False  True  True  True  True  True  True  True\n",
      " False False  True  True  True  True False  True  True  True False  True\n",
      " False False  True  True  True  True  True  True False False False False\n",
      " False  True  True False  True False False  True  True  True  True  True\n",
      "  True  True  True  True  True False  True  True  True False  True False\n",
      "  True  True  True  True  True  True False  True False  True  True  True\n",
      " False False  True  True False  True  True  True  True False  True  True\n",
      " False  True  True  True  True  True  True  True  True False  True False\n",
      " False  True  True  True  True  True  True  True False False False False\n",
      "  True  True  True  True False  True  True  True False  True  True  True\n",
      "  True  True  True  True  True  True  True False  True  True False  True\n",
      " False False  True  True False  True  True  True  True False  True False\n",
      "  True False  True False  True  True False False  True False  True  True\n",
      "  True False  True  True  True  True  True  True  True  True  True False\n",
      "  True False  True  True  True  True  True False False  True False  True\n",
      " False False  True  True  True  True  True False False  True  True  True\n",
      " False False  True  True  True  True  True  True  True  True False  True\n",
      "  True  True  True  True False  True  True  True  True  True  True  True\n",
      "  True False False  True False  True  True  True  True  True False  True\n",
      "  True  True  True  True False  True  True  True  True  True  True  True\n",
      "  True  True False  True  True False False  True  True  True  True False]\n",
      "4.151852411460306e-06 4.524117265640117e-15\n"
     ]
    }
   ],
   "source": [
    "# Experimento 1:\n",
    "print(obs[0])\n",
    "Ncaras = np.sum(obs[0])\n",
    "L_A1 = stats.binom.pmf(Ncaras,Nsor,epA)\n",
    "L_B1 = stats.binom.pmf(Ncaras,Nsor,epB)\n",
    "print(L_A1, L_B1)"
   ]
  },
  {
   "cell_type": "code",
   "execution_count": 60,
   "metadata": {},
   "outputs": [
    {
     "name": "stdout",
     "output_type": "stream",
     "text": [
      "La moneda más probable es la A.  Valores: 4.151852411460306e-06 y 4.524117265640117e-15\n",
      "La moneda más probable es la B.  Valores: 6.1083512828715144e-30 y 1.751271199602626e-15\n",
      "La moneda más probable es la A.  Valores: 0.0028520685426985503 y 2.041324508534733e-09\n",
      "La moneda más probable es la B.  Valores: 1.3988769027903052e-18 y 5.3604494026677045e-08\n",
      "La moneda más probable es la B.  Valores: 2.253646925588324e-24 y 1.1204763318012573e-11\n",
      "La moneda más probable es la A.  Valores: 0.00017939084764689102 y 5.009822060457544e-12\n",
      "La moneda más probable es la A.  Valores: 7.699214848768479e-05 y 9.5562156049557e-13\n",
      "La moneda más probable es la A.  Valores: 0.0011330564339117099 y 2.4028676766637454e-10\n",
      "La moneda más probable es la A.  Valores: 1.1722877397064397e-05 y 2.874145086406663e-14\n",
      "La moneda más probable es la B.  Valores: 2.8973495180280204e-38 y 1.6166524227444298e-21\n",
      "La moneda más probable es la A.  Valores: 7.699214848768479e-05 y 9.5562156049557e-13\n",
      "La moneda más probable es la A.  Valores: 0.00017939084764689102 y 5.009822060457544e-12\n",
      "La moneda más probable es la A.  Valores: 7.033726438238637e-06 y 1.149658034562665e-14\n",
      "La moneda más probable es la A.  Valores: 4.151852411460306e-06 y 4.524117265640117e-15\n",
      "La moneda más probable es la A.  Valores: 1.3767832574848394e-06 y 6.667683925092567e-16\n",
      "La moneda más probable es la A.  Valores: 7.033726438238637e-06 y 1.149658034562665e-14\n",
      "La moneda más probable es la B.  Valores: 7.444227344629516e-24 y 2.4674319221580877e-11\n",
      "La moneda más probable es la B.  Valores: 9.499569008699838e-32 y 9.191937864355506e-17\n",
      "La moneda más probable es la A.  Valores: 7.033726438238637e-06 y 1.149658034562665e-14\n",
      "La moneda más probable es la A.  Valores: 0.0028520685426985503 y 2.041324508534733e-09\n",
      "La moneda más probable es la B.  Valores: 2.253646925588324e-24 y 1.1204763318012573e-11\n",
      "La moneda más probable es la B.  Valores: 6.717601412811351e-25 y 5.009822060457544e-12\n",
      "La moneda más probable es la B.  Valores: 4.995988938536804e-19 y 2.8716693228576982e-08\n",
      "La moneda más probable es la A.  Valores: 0.00011844945921182276 y 2.205280524220546e-12\n",
      "La moneda más probable es la A.  Valores: 0.00156469698016379 y 4.977368758803471e-10\n",
      "La moneda más probable es la A.  Valores: 4.151852411460306e-06 y 4.524117265640117e-15\n",
      "La moneda más probable es la B.  Valores: 2.906318071719891e-34 y 1.4236766317317927e-18\n",
      "La moneda más probable es la B.  Valores: 6.54459773187294e-35 y 4.808863289405167e-19\n",
      "La moneda más probable es la A.  Valores: 1.9223722321622842e-05 y 7.069736189552021e-14\n",
      "La moneda más probable es la A.  Valores: 1.23775451169577e-07 y 1.184074177626815e-17\n",
      "La moneda más probable es la A.  Valores: 7.033726438238637e-06 y 1.149658034562665e-14\n",
      "La moneda más probable es la A.  Valores: 1.9223722321622842e-05 y 7.069736189552021e-14\n",
      "La moneda más probable es la B.  Valores: 7.444227344629516e-24 y 2.4674319221580877e-11\n",
      "La moneda más probable es la A.  Valores: 0.0028520685426985503 y 2.041324508534733e-09\n",
      "La moneda más probable es la B.  Valores: 1.6194373346278707e-26 y 4.076110921545085e-13\n",
      "La moneda más probable es la B.  Valores: 2.3267340019759993e-21 y 1.0155843326043448e-09\n",
      "La moneda más probable es la B.  Valores: 6.717601412811351e-25 y 5.009822060457544e-12\n",
      "La moneda más probable es la A.  Valores: 2.410753013105984e-06 y 1.751271199602626e-15\n",
      "La moneda más probable es la A.  Valores: 0.006275895065430098 y 1.5160081704426428e-08\n",
      "La moneda más probable es la A.  Valores: 1.1722877397064397e-05 y 2.874145086406663e-14\n",
      "La moneda más probable es la A.  Valores: 0.0021284093602227986 y 1.0155843326043448e-09\n",
      "La moneda más probable es la A.  Valores: 0.00026747882659894866 y 1.1204763318012573e-11\n",
      "La moneda más probable es la A.  Valores: 7.732618295462796e-07 y 2.4965757162447054e-16\n",
      "La moneda más probable es la A.  Valores: 7.732618295462796e-07 y 2.4965757162447054e-16\n",
      "La moneda más probable es la B.  Valores: 1.971353524652773e-25 y 2.205280524220546e-12\n",
      "La moneda más probable es la A.  Valores: 0.0021284093602227986 y 1.0155843326043448e-09\n",
      "La moneda más probable es la A.  Valores: 4.151852411460306e-06 y 4.524117265640117e-15\n",
      "La moneda más probable es la B.  Valores: 2.3267340019759993e-21 y 1.0155843326043448e-09\n",
      "La moneda más probable es la A.  Valores: 0.00026747882659894866 y 1.1204763318012573e-11\n",
      "La moneda más probable es la A.  Valores: 0.00039268168160271186 y 2.4674319221580877e-11\n"
     ]
    }
   ],
   "source": [
    "# para los 5 experimentos:\n",
    "emA = []\n",
    "for X in obs:\n",
    "    Ncaras = np.sum(X)\n",
    "    L_A = stats.binom.pmf(Ncaras,Nsor,epA)\n",
    "    L_B = stats.binom.pmf(Ncaras,Nsor,epB)\n",
    "    if(L_A>L_B): \n",
    "        S=\"A\"\n",
    "        emA.append(True)\n",
    "    else:\n",
    "        S=\"B\"\n",
    "        emA.append(False)\n",
    "    print('La moneda más probable es la {}.  Valores: {} y {}'.format(S, L_A, L_B))\n",
    "emA = np.array(emA)"
   ]
  },
  {
   "cell_type": "code",
   "execution_count": 61,
   "metadata": {},
   "outputs": [
    {
     "name": "stdout",
     "output_type": "stream",
     "text": [
      "[ True False  True False False  True  True  True  True False  True  True\n",
      "  True  True  True  True False False  True  True False False False  True\n",
      "  True  True False False  True  True  True  True False  True False False\n",
      " False  True  True  True  True  True  True  True False  True  True False\n",
      "  True  True]\n",
      "['A' 'B' 'A' 'B' 'B' 'A' 'A' 'A' 'A' 'B' 'A' 'A' 'A' 'A' 'A' 'A' 'B' 'B'\n",
      " 'A' 'A' 'B' 'B' 'B' 'A' 'A' 'A' 'B' 'B' 'A' 'A' 'A' 'A' 'B' 'A' 'B' 'B'\n",
      " 'B' 'A' 'A' 'A' 'A' 'A' 'A' 'A' 'B' 'A' 'A' 'B' 'A' 'A']\n"
     ]
    }
   ],
   "source": [
    "print(emA)\n",
    "print(monedas(emA, Nexp))"
   ]
  },
  {
   "cell_type": "markdown",
   "metadata": {},
   "source": [
    "#### paso 3: \n",
    "\n",
    "#### IDEA: _asumo_ estos valores para las variables latentes y estimo los parámetros usando _maximum likelihood_"
   ]
  },
  {
   "cell_type": "code",
   "execution_count": 62,
   "metadata": {},
   "outputs": [
    {
     "name": "stdout",
     "output_type": "stream",
     "text": [
      "0.3 0.7012121212121212 0.7 0.29980392156862745\n"
     ]
    }
   ],
   "source": [
    "# Lo mismo que para el caso completo, pero usando emA en lugar de mA:\n",
    "fA = 1.0 * np.sum(obs[emA]) / np.size(obs[emA])\n",
    "fB = 1.0 * np.sum(obs[~emA]) / np.size(obs[~emA])\n",
    "print(pA, fA, pB, fB)"
   ]
  },
  {
   "cell_type": "markdown",
   "metadata": {},
   "source": [
    "#### Repito lo mismo hasta convergencia:"
   ]
  },
  {
   "cell_type": "code",
   "execution_count": 63,
   "metadata": {},
   "outputs": [
    {
     "name": "stdout",
     "output_type": "stream",
     "text": [
      "[ True False  True False False  True  True  True  True False  True  True\n",
      "  True  True  True  True False False  True  True False False False  True\n",
      "  True  True False False  True  True  True  True False  True False False\n",
      " False  True  True  True  True  True  True  True False  True  True False\n",
      "  True  True] 0.9 0.1\n",
      "[ True False  True False False  True  True  True  True False  True  True\n",
      "  True  True  True  True False False  True  True False False False  True\n",
      "  True  True False False  True  True  True  True False  True False False\n",
      " False  True  True  True  True  True  True  True False  True  True False\n",
      "  True  True] 0.7012121212121212 0.29980392156862745\n",
      "[ True False  True False False  True  True  True  True False  True  True\n",
      "  True  True  True  True False False  True  True False False False  True\n",
      "  True  True False False  True  True  True  True False  True False False\n",
      " False  True  True  True  True  True  True  True False  True  True False\n",
      "  True  True] 0.7012121212121212 0.29980392156862745\n",
      "[ True False  True False False  True  True  True  True False  True  True\n",
      "  True  True  True  True False False  True  True False False False  True\n",
      "  True  True False False  True  True  True  True False  True False False\n",
      " False  True  True  True  True  True  True  True False  True  True False\n",
      "  True  True] 0.7012121212121212 0.29980392156862745\n",
      "[ True False  True False False  True  True  True  True False  True  True\n",
      "  True  True  True  True False False  True  True False False False  True\n",
      "  True  True False False  True  True  True  True False  True False False\n",
      " False  True  True  True  True  True  True  True False  True  True False\n",
      "  True  True] 0.7012121212121212 0.29980392156862745\n",
      "[ True False  True False False  True  True  True  True False  True  True\n",
      "  True  True  True  True False False  True  True False False False  True\n",
      "  True  True False False  True  True  True  True False  True False False\n",
      " False  True  True  True  True  True  True  True False  True  True False\n",
      "  True  True] 0.7012121212121212 0.29980392156862745\n",
      "[ True False  True False False  True  True  True  True False  True  True\n",
      "  True  True  True  True False False  True  True False False False  True\n",
      "  True  True False False  True  True  True  True False  True False False\n",
      " False  True  True  True  True  True  True  True False  True  True False\n",
      "  True  True] 0.7012121212121212 0.29980392156862745\n",
      "[ True False  True False False  True  True  True  True False  True  True\n",
      "  True  True  True  True False False  True  True False False False  True\n",
      "  True  True False False  True  True  True  True False  True False False\n",
      " False  True  True  True  True  True  True  True False  True  True False\n",
      "  True  True] 0.7012121212121212 0.29980392156862745\n",
      "[ True False  True False False  True  True  True  True False  True  True\n",
      "  True  True  True  True False False  True  True False False False  True\n",
      "  True  True False False  True  True  True  True False  True False False\n",
      " False  True  True  True  True  True  True  True False  True  True False\n",
      "  True  True] 0.7012121212121212 0.29980392156862745\n",
      "[ True False  True False False  True  True  True  True False  True  True\n",
      "  True  True  True  True False False  True  True False False False  True\n",
      "  True  True False False  True  True  True  True False  True False False\n",
      " False  True  True  True  True  True  True  True False  True  True False\n",
      "  True  True] 0.7012121212121212 0.29980392156862745\n",
      "[ True False  True False False  True  True  True  True False  True  True\n",
      "  True  True  True  True False False  True  True False False False  True\n",
      "  True  True False False  True  True  True  True False  True False False\n",
      " False  True  True  True  True  True  True  True False  True  True False\n",
      "  True  True] 0.7012121212121212 0.29980392156862745\n"
     ]
    }
   ],
   "source": [
    "# estima inicial\n",
    "epA = 0.9\n",
    "epB = 0.1\n",
    "print(emA, epA, epB)\n",
    "\n",
    "for _ in range(10):\n",
    "    emA = []\n",
    "    for X in obs:\n",
    "        Ncaras = np.sum(X)\n",
    "        L_A = stats.binom.pmf(Ncaras,Nsor,epA)\n",
    "        L_B = stats.binom.pmf(Ncaras,Nsor,epB)\n",
    "        if(L_A>L_B): \n",
    "            emA.append(True)\n",
    "        else:\n",
    "            emA.append(False)\n",
    "    emA = np.array(emA)\n",
    "    \n",
    "    epA = 1.0 * np.sum(obs[emA]) / np.size(obs[emA])\n",
    "    epB = 1.0 * np.sum(obs[~emA]) / np.size(obs[~emA])\n",
    "    print(emA, epA, epB)"
   ]
  },
  {
   "cell_type": "markdown",
   "metadata": {},
   "source": [
    "#### EM: en lugar de elegir la moneda \"más probable\", tomo una probabilidad para cada moneda"
   ]
  },
  {
   "cell_type": "markdown",
   "metadata": {},
   "source": [
    "En la version anterior, asignamos \"probabilidades\" 0 y 1 a las monedas según cual era la más probable, es decir, asumimos la variable latente como conocida.   Ahora vamos a asignarle una probabilidad a cada moneda."
   ]
  },
  {
   "cell_type": "markdown",
   "metadata": {},
   "source": [
    "Para el experimento 1:"
   ]
  },
  {
   "cell_type": "code",
   "execution_count": 64,
   "metadata": {
    "tags": []
   },
   "outputs": [],
   "source": [
    "for i in range(Nexp):    \n",
    "    if(mA[i]):\n",
    "        p = pA\n",
    "    else:\n",
    "        p = pB        \n",
    "    obs[i] = [gen_bernoulli(p) for _ in range(Nsor)]"
   ]
  },
  {
   "cell_type": "code",
   "execution_count": 65,
   "metadata": {},
   "outputs": [
    {
     "name": "stdout",
     "output_type": "stream",
     "text": [
      "0.03589189048707406 6.064149990831125e-42 1.0 1.689559928033058e-40\n"
     ]
    }
   ],
   "source": [
    "Ncaras = np.sum(obs[0])\n",
    "\n",
    "L_A = stats.binom.pmf(Ncaras,Nsor,epA)\n",
    "L_B = stats.binom.pmf(Ncaras,Nsor,epB)\n",
    "\n",
    "# EXPECTACION\n",
    "\n",
    "mpA = L_A / (L_A + L_B)\n",
    "mpB = L_B / (L_A + L_B)\n",
    "\n",
    "print (L_A, L_B, mpA, mpB)"
   ]
  },
  {
   "cell_type": "markdown",
   "metadata": {},
   "source": [
    "El **modelo** ahora es la distribunción Binomial con los parámetros estimados **mpA** y **mpB**\n",
    "\n",
    "Ahora hacemos el paso de MAXIMIZACION"
   ]
  },
  {
   "cell_type": "code",
   "execution_count": 66,
   "metadata": {},
   "outputs": [
    {
     "name": "stdout",
     "output_type": "stream",
     "text": [
      "204.0 204.0 3.446702253187438e-38 3.446702253187438e-38\n"
     ]
    }
   ],
   "source": [
    "eCA = Ncaras*mpA\n",
    "eXA = Ncaras*mpA\n",
    "eCB = Ncaras*mpB\n",
    "eXB = Ncaras*mpB\n",
    "\n",
    "print(eCA, eXA, eCB, eXB)"
   ]
  },
  {
   "cell_type": "markdown",
   "metadata": {},
   "source": [
    "Para los 5 experimentos:"
   ]
  },
  {
   "cell_type": "code",
   "execution_count": 67,
   "metadata": {},
   "outputs": [
    {
     "name": "stdout",
     "output_type": "stream",
     "text": [
      "6952.0 2948.0 1543.0 3557.0\n"
     ]
    }
   ],
   "source": [
    "eCAT = []\n",
    "eXAT = []\n",
    "eCBT = []\n",
    "eXBT = []\n",
    "\n",
    "for X in obs:    \n",
    "    Ncaras = np.sum(X)\n",
    "    L_A = stats.binom.pmf(Ncaras,Nsor,epA)\n",
    "    L_B = stats.binom.pmf(Ncaras,Nsor,epB)\n",
    "    mpA = L_A / (L_A + L_B)\n",
    "    mpB = L_B / (L_A + L_B)\n",
    "    \n",
    "    eCA = Ncaras*mpA\n",
    "    eCAT.append(eCA)\n",
    "    \n",
    "    eXA = (Nsor-Ncaras)*mpA\n",
    "    eXAT.append(eXA)    \n",
    "    \n",
    "    eCB = Ncaras*mpB\n",
    "    eCBT.append(eCB)\n",
    "        \n",
    "    eXB = (Nsor-Ncaras)*mpB\n",
    "    eXBT.append(eXB)\n",
    "        \n",
    "print(np.sum(eCAT), np.sum(eXAT), np.sum(eCBT), np.sum(eXBT))"
   ]
  },
  {
   "cell_type": "markdown",
   "metadata": {},
   "source": [
    "![title](plots/EM2.png)"
   ]
  },
  {
   "cell_type": "code",
   "execution_count": 68,
   "metadata": {},
   "outputs": [],
   "source": [
    "a = stats.binom.pmf(5,10,0.6)\n",
    "b= stats.binom.pmf(5,10,0.5)"
   ]
  },
  {
   "cell_type": "code",
   "execution_count": 69,
   "metadata": {},
   "outputs": [
    {
     "data": {
      "text/plain": [
       "0.44914892610093643"
      ]
     },
     "execution_count": 69,
     "metadata": {},
     "output_type": "execute_result"
    }
   ],
   "source": [
    "a / (a+b)"
   ]
  },
  {
   "cell_type": "code",
   "execution_count": 70,
   "metadata": {},
   "outputs": [
    {
     "data": {
      "text/plain": [
       "0.5508510738990636"
      ]
     },
     "execution_count": 70,
     "metadata": {},
     "output_type": "execute_result"
    }
   ],
   "source": [
    "b / (a + b)"
   ]
  },
  {
   "cell_type": "code",
   "execution_count": 71,
   "metadata": {},
   "outputs": [
    {
     "name": "stdout",
     "output_type": "stream",
     "text": [
      "0.7022222222222222 0.30254901960784314\n"
     ]
    }
   ],
   "source": [
    "epA = np.sum(eCAT) / (np.sum(eCAT) + np.sum(eXAT))\n",
    "epB = np.sum(eCBT) / (np.sum(eCBT) + np.sum(eXBT))\n",
    "\n",
    "print(epA, epB)"
   ]
  },
  {
   "cell_type": "markdown",
   "metadata": {},
   "source": [
    "## PASO 3: EM"
   ]
  },
  {
   "cell_type": "code",
   "execution_count": 72,
   "metadata": {},
   "outputs": [
    {
     "name": "stdout",
     "output_type": "stream",
     "text": [
      "1 0.30254901960784314 0.7022222222222222\n",
      "2 0.30254901960784314 0.7022222222222222\n",
      "3 0.30254901960784314 0.7022222222222222\n",
      "4 0.30254901960784314 0.7022222222222222\n",
      "5 0.30254901960784314 0.7022222222222222\n",
      "6 0.30254901960784314 0.7022222222222222\n",
      "7 0.30254901960784314 0.7022222222222222\n",
      "8 0.30254901960784314 0.7022222222222222\n",
      "9 0.30254901960784314 0.7022222222222222\n",
      "10 0.30254901960784314 0.7022222222222222\n"
     ]
    }
   ],
   "source": [
    "epA = 0.4\n",
    "epB = 0.6\n",
    "\n",
    "ipA = []\n",
    "ipB = []\n",
    "\n",
    "for itera in range(N_itera):\n",
    "\n",
    "    eCAT = []\n",
    "    eXAT = []\n",
    "    eCBT = []\n",
    "    eXBT = []\n",
    "\n",
    "    for X in obs:\n",
    "               \n",
    "        Ncaras = np.sum(X)\n",
    "        L_A = stats.binom.pmf(Ncaras,Nsor,epA)\n",
    "        L_B = stats.binom.pmf(Ncaras,Nsor,epB)\n",
    "        mpA = L_A / (L_A + L_B)\n",
    "        mpB = L_B / (L_A + L_B)\n",
    "        \n",
    "        eCA = Ncaras*mpA\n",
    "        eCAT.append(eCA)\n",
    "        \n",
    "        eXA = (Nsor-Ncaras)*mpA\n",
    "        eXAT.append(eXA)    \n",
    "        \n",
    "        eCB = Ncaras*mpB\n",
    "        eCBT.append(eCB)\n",
    "            \n",
    "        eXB = (Nsor-Ncaras)*mpB\n",
    "        eXBT.append(eXB)\n",
    "        \n",
    "    epA = np.sum(eCAT) / (np.sum(eCAT) + np.sum(eXAT))\n",
    "    epB = np.sum(eCBT) / (np.sum(eCBT) + np.sum(eXBT))\n",
    "    \n",
    "    ipA.append(epA)\n",
    "    ipB.append(epB)\n",
    "    \n",
    "    print(itera+1, epA, epB)\n",
    "    "
   ]
  },
  {
   "cell_type": "code",
   "execution_count": 73,
   "metadata": {},
   "outputs": [
    {
     "data": {
      "text/plain": [
       "<matplotlib.legend.Legend at 0x9e4735e0>"
      ]
     },
     "execution_count": 73,
     "metadata": {},
     "output_type": "execute_result"
    },
    {
     "data": {
      "image/png": "[encoded data removed]",
      "text/plain": [
       "<Figure size 432x432 with 1 Axes>"
      ]
     },
     "metadata": {
      "needs_background": "light"
     },
     "output_type": "display_data"
    }
   ],
   "source": [
    "x = range(N_itera)\n",
    "\n",
    "fig, ax = plt.subplots(figsize=(6,6))\n",
    "l1 = plt.plot(x, ipA,\"r-\", label=\"A\")\n",
    "l2 = plt.plot(x, ipB,\"b-\", label=\"B\")\n",
    "ax.axhline(y=pA, color='r', linestyle='--')\n",
    "ax.set_xlabel('numero de iteraciones')\n",
    "ax.axhline(y=pB, color='b', linestyle='--')\n",
    "ax.set_ylabel('probabilidad estimada')\n",
    "ax.set_ylim((0,1))\n",
    "ax.set_xlim((0,N_itera))\n",
    "ax.legend(labels=[\"p(A)\", \"p(B)\"])"
   ]
  },
  {
   "cell_type": "code",
   "execution_count": null,
   "metadata": {
    "collapsed": true,
    "jupyter": {
     "outputs_hidden": true
    }
   },
   "outputs": [],
   "source": []
  },
  {
   "cell_type": "code",
   "execution_count": null,
   "metadata": {
    "collapsed": true,
    "jupyter": {
     "outputs_hidden": true
    }
   },
   "outputs": [],
   "source": []
  },
  {
   "cell_type": "code",
   "execution_count": null,
   "metadata": {},
   "outputs": [],
   "source": []
  },
  {
   "cell_type": "code",
   "execution_count": null,
   "metadata": {},
   "outputs": [],
   "source": []
  }
 ],
 "metadata": {
  "kernelspec": {
   "display_name": "Python 3 (ipykernel)",
   "language": "python",
   "name": "python3"
  },
  "language_info": {
   "codemirror_mode": {
    "name": "ipython",
    "version": 3
   },
   "file_extension": ".py",
   "mimetype": "text/x-python",
   "name": "python",
   "nbconvert_exporter": "python",
   "pygments_lexer": "ipython3",
   "version": "3.9.2"
  }
 },
 "nbformat": 4,
 "nbformat_minor": 4
}
