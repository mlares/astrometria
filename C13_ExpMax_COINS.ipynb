{
 "cells": [
  {
   "cell_type": "markdown",
   "metadata": {},
   "source": [
    "# Sorteando monedas: un experimento de EM"
   ]
  },
  {
   "cell_type": "markdown",
   "metadata": {},
   "source": [
    "Notebook basado en el artículo:\n",
    "\n",
    "**What is the expectation maximization algorithm?**\n",
    "\n",
    "C. B. Do & S. Batzoglou, Nature biotechnology (2008) 26, 8\n",
    "\n",
    "http://ai.stanford.edu/~chuongdo/papers/em_tutorial.pdf"
   ]
  },
  {
   "cell_type": "markdown",
   "metadata": {},
   "source": [
    "    Problema:\n",
    "\n",
    "\n",
    "    Se tienen dos monedas con sesgos desconocidos.  Es decir, la probabilidad de que salga cara NO es 1/2, y además es diferente para cada una.  Se busca determinar los valores de esas probabilidades. \n",
    "    \n",
    "    Para eso se realiza el siguiente experimento:\n",
    "    \n",
    "    1. Elegir una moneda al azar\n",
    "    2. sortear esa moneda 10 veces\n",
    "    3. repetir (1.) 5 veces\n",
    "    \n",
    "    \n",
    "    Al final se tienen en total 50 sorteos de las monedas (5 grupos de 10 sorteos)."
   ]
  },
  {
   "cell_type": "markdown",
   "metadata": {},
   "source": [
    "por ej.:\n",
    "    \n",
    "    MONEDA 1:  H T T H H T H T H H\n",
    "    MONEDA 1:  T H T T H T T H H T\n",
    "    MONEDA 2:  H T H H H T H T H H\n",
    "    MONEDA 1:  T T H T H H T H T H\n",
    "    MONEDA 2:  T H H T H H T T H T"
   ]
  },
  {
   "cell_type": "code",
<<<<<<< HEAD
   "execution_count": 3,
   "metadata": {},
   "outputs": [
    {
     "name": "stdout",
     "output_type": "stream",
     "text": [
      "Collecting seaborn\n",
      "  Downloading seaborn-0.11.2-py3-none-any.whl (292 kB)\n",
      "\u001b[K     |████████████████████████████████| 292 kB 2.9 MB/s eta 0:00:01\n",
      "\u001b[?25hRequirement already satisfied: scipy>=1.0 in /home/mlares/.virtualenvs/astrometria/lib/python3.9/site-packages (from seaborn) (1.7.1)\n",
      "Requirement already satisfied: numpy>=1.15 in /home/mlares/.virtualenvs/astrometria/lib/python3.9/site-packages (from seaborn) (1.21.2)\n",
      "Collecting pandas>=0.23\n",
      "  Downloading pandas-1.3.4-cp39-cp39-manylinux_2_5_i686.manylinux1_i686.manylinux_2_17_i686.manylinux2014_i686.whl (11.6 MB)\n",
      "\u001b[K     |████████████████████████████████| 11.6 MB 7.1 MB/s eta 0:00:01\n",
      "\u001b[?25hRequirement already satisfied: matplotlib>=2.2 in /home/mlares/.virtualenvs/astrometria/lib/python3.9/site-packages (from seaborn) (3.4.3)\n",
      "Requirement already satisfied: cycler>=0.10 in /home/mlares/.virtualenvs/astrometria/lib/python3.9/site-packages (from matplotlib>=2.2->seaborn) (0.10.0)\n",
      "Requirement already satisfied: kiwisolver>=1.0.1 in /home/mlares/.virtualenvs/astrometria/lib/python3.9/site-packages (from matplotlib>=2.2->seaborn) (1.3.1)\n",
      "Requirement already satisfied: pillow>=6.2.0 in /home/mlares/.virtualenvs/astrometria/lib/python3.9/site-packages (from matplotlib>=2.2->seaborn) (8.3.1)\n",
      "Requirement already satisfied: pyparsing>=2.2.1 in /home/mlares/.virtualenvs/astrometria/lib/python3.9/site-packages (from matplotlib>=2.2->seaborn) (2.4.7)\n",
      "Requirement already satisfied: python-dateutil>=2.7 in /home/mlares/.virtualenvs/astrometria/lib/python3.9/site-packages (from matplotlib>=2.2->seaborn) (2.8.2)\n",
      "Requirement already satisfied: six in /home/mlares/.virtualenvs/astrometria/lib/python3.9/site-packages (from cycler>=0.10->matplotlib>=2.2->seaborn) (1.16.0)\n",
      "Requirement already satisfied: pytz>=2017.3 in /home/mlares/.virtualenvs/astrometria/lib/python3.9/site-packages (from pandas>=0.23->seaborn) (2021.1)\n",
      "Installing collected packages: pandas, seaborn\n",
      "Successfully installed pandas-1.3.4 seaborn-0.11.2\n"
     ]
    }
   ],
   "source": [
    "!pip install seaborn"
   ]
  },
  {
   "cell_type": "code",
   "execution_count": 4,
=======
   "execution_count": 144,
>>>>>>> 25ea9cbcf633f832e60f8c38faab643fd72ea998
   "metadata": {
    "tags": []
   },
   "outputs": [],
   "source": [
    "import numpy as np\n",
    "from scipy import stats\n",
    "import matplotlib.pyplot as plt\n",
    "import seaborn as sns\n",
    "import random\n",
    "%matplotlib inline"
   ]
  },
  {
   "cell_type": "markdown",
   "metadata": {},
   "source": [
    "Definir una funcion que muestre la distribucion binomial (muchos resultados de simular una moneda)"
   ]
  },
  {
   "cell_type": "code",
<<<<<<< HEAD
   "execution_count": 7,
=======
   "execution_count": 145,
>>>>>>> 25ea9cbcf633f832e60f8c38faab643fd72ea998
   "metadata": {
    "tags": []
   },
   "outputs": [],
   "source": [
    "def plot_binomial(p=0.5, n=10):\n",
    "    a=range(n+1)\n",
<<<<<<< HEAD
    "    fig, ax = plt.subplots(figsize=(6,24))\n",
=======
    "    fig, ax = plt.subplots(figsize=(12,8))\n",
>>>>>>> 25ea9cbcf633f832e60f8c38faab643fd72ea998
    "    y = [0]*(n+1)\n",
    "    for i in a:\n",
    "        y[i] =  stats.binom.pmf(i, n, p)\n",
    "    ax.bar(a,y,label=\"$p = %.1f$\" % p)\n",
    "    ax.set_ylabel('FMP del nro. de caras')\n",
    "    ax.set_xlabel('$k$')\n",
    "    ax.set_ylim((0,0.5))\n",
    "    ax.set_xlim((-1,n+1))\n",
    "    ax.legend()\n",
    "    return fig"
   ]
  },
  {
   "cell_type": "markdown",
   "metadata": {},
   "source": [
    "Mostrar la distribucion Binomial"
   ]
  },
  {
   "cell_type": "code",
<<<<<<< HEAD
   "execution_count": 8,
=======
   "execution_count": 146,
>>>>>>> 25ea9cbcf633f832e60f8c38faab643fd72ea998
   "metadata": {},
   "outputs": [
    {
     "data": {
<<<<<<< HEAD
      "image/png": "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\n",
      "text/plain": [
       "<Figure size 432x1728 with 1 Axes>"
=======
      "image/png": "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\n",
      "text/plain": [
       "<Figure size 864x576 with 1 Axes>"
>>>>>>> 25ea9cbcf633f832e60f8c38faab643fd72ea998
      ]
     },
     "metadata": {
      "needs_background": "light"
     },
     "output_type": "display_data"
    }
   ],
   "source": [
    "f = plot_binomial(0.2)"
   ]
  },
  {
   "cell_type": "markdown",
   "metadata": {},
   "source": [
    "## Simular un experimento:"
   ]
  },
  {
   "cell_type": "code",
<<<<<<< HEAD
   "execution_count": 57,
   "metadata": {
    "collapsed": true,
    "jupyter": {
     "outputs_hidden": true
    }
   },
   "outputs": [],
   "source": [
    "Nexp = 50   # numero de experimentos (monedas)\n",
    "Nsor = 300  # numero de veces que tiro la moneda en cada experimento\n",
    "pA = 0.3   # probabilidad de que salga cara en la moneda A\n",
    "pB = 0.7   # probabilidad de que salga cara en la moneda B\n",
    "pM = 0.5   # probabiidad de elegir la moneda A\n",
    "N_itera = 10 # cantidad de iteraciones en el metodo EM\n",
    "obs = np.empty([Nexp, Nsor], dtype=bool)"
   ]
  },
  {
   "cell_type": "code",
   "execution_count": 58,
   "metadata": {
    "collapsed": true,
    "jupyter": {
     "outputs_hidden": true
    }
=======
   "execution_count": 148,
   "metadata": {
    "tags": []
>>>>>>> 25ea9cbcf633f832e60f8c38faab643fd72ea998
   },
   "outputs": [],
   "source": [
    "def gen_bernoulli(p):\n",
    "    \"\"\"\n",
    "    Devuelve verdadero o falso cuando se tira una moneda\n",
    "    con probabilidad de (verdadero) = p\n",
    "    \n",
    "    \"\"\"\n",
    "    x = random.random()\n",
    "    if x<p:\n",
    "        r = True\n",
    "    else:\n",
    "        r = False\n",
    "    return(r)"
   ]
  },
  {
   "cell_type": "code",
   "execution_count": 149,
   "metadata": {
<<<<<<< HEAD
    "collapsed": true,
    "jupyter": {
     "outputs_hidden": true
    }
=======
    "tags": []
>>>>>>> 25ea9cbcf633f832e60f8c38faab643fd72ea998
   },
   "outputs": [],
   "source": [
    "def monedas(emA, Nexp):\n",
    "    \"\"\"\n",
    "    Devuelve sorteos justos para elegir una de dos monedas (A y B)\n",
    "    \n",
    "    \"\"\"\n",
    "    As = np.array([\"A\"]*Nexp)\n",
    "    Bs = np.array([\"B\"]*Nexp)\n",
    "    T = As\n",
    "    T[emA] = As[emA]\n",
    "    T[~emA] = Bs[~emA]\n",
    "    return(T)"
   ]
  },
  {
   "cell_type": "code",
   "execution_count": 150,
   "metadata": {
<<<<<<< HEAD
    "collapsed": true,
    "jupyter": {
     "outputs_hidden": true
    }
=======
    "tags": []
>>>>>>> 25ea9cbcf633f832e60f8c38faab643fd72ea998
   },
   "outputs": [],
   "source": [
    "def eP(emA, pA, pB, Nexp):\n",
    "    As = np.array([\"A\"]*Nexp)\n",
    "    Bs = np.array([\"B\"]*Nexp)\n",
    "    T = As\n",
    "    T[emA] = As[emA]\n",
    "    T[~emA] = Bs[~emA]\n",
    "    return(T)"
   ]
  },
  {
   "cell_type": "code",
   "execution_count": 177,
   "metadata": {
    "tags": []
   },
   "outputs": [],
   "source": [
    "Nexp = 5   # numero de experimentos (monedas)\n",
    "Nsor = 10  # numero de veces que tiro la moneda en cada experimento\n",
    "pA = 0.3   # probabilidad de que salga cara en la moneda A\n",
    "pB = 0.7   # probabilidad de que salga cara en la moneda B\n",
    "pM = 0.5   # probabiidad de elegir la moneda A\n",
    "N_itera = 10 # cantidad de iteraciones en el metodo EM\n",
    "obs = np.empty([Nexp, Nsor], dtype=bool)"
   ]
  },
  {
   "cell_type": "markdown",
   "metadata": {},
   "source": [
    "Elegir monedas:"
   ]
  },
  {
   "cell_type": "code",
   "execution_count": 178,
   "metadata": {},
   "outputs": [
    {
     "name": "stdout",
     "output_type": "stream",
     "text": [
      "[False False  True False False]\n",
      "['B' 'B' 'A' 'B' 'B']\n"
     ]
    }
   ],
   "source": [
    "mA = np.array([gen_bernoulli(pM) for _ in range(Nexp)])\n",
    "print(mA)\n",
    "T = monedas(mA, Nexp)\n",
    "print(T)"
   ]
  },
  {
   "cell_type": "markdown",
   "metadata": {},
   "source": [
    "Tiradas de las monedas:"
   ]
  },
  {
   "cell_type": "code",
   "execution_count": 179,
   "metadata": {
<<<<<<< HEAD
    "collapsed": true,
    "jupyter": {
     "outputs_hidden": true
    }
=======
    "tags": []
>>>>>>> 25ea9cbcf633f832e60f8c38faab643fd72ea998
   },
   "outputs": [],
   "source": [
    "for i in range(Nexp):\n",
    "    \n",
    "    if(mA[i]):\n",
    "        p = pA\n",
    "    else:\n",
    "        p = pB\n",
    "        \n",
    "    obs[i] = [gen_bernoulli(p) for _ in range(Nsor)]"
   ]
  },
  {
   "cell_type": "code",
   "execution_count": 180,
   "metadata": {},
   "outputs": [
    {
     "name": "stdout",
     "output_type": "stream",
     "text": [
      "[[ True  True  True  True  True  True  True  True  True False]\n",
      " [False False False  True  True  True False  True  True  True]\n",
      " [False False False False False False False  True False False]\n",
      " [ True  True  True  True  True False  True  True  True  True]\n",
      " [False  True  True  True  True  True False  True  True  True]]\n"
     ]
    }
   ],
   "source": [
    "print(obs)"
   ]
  },
  {
   "cell_type": "code",
   "execution_count": 181,
   "metadata": {},
   "outputs": [
    {
     "name": "stdout",
     "output_type": "stream",
     "text": [
      "B\n",
      "[ True  True  True  True  True  True  True  True  True False]\n",
      "B\n",
      "[False False False  True  True  True False  True  True  True]\n",
      "A\n",
      "[False False False False False False False  True False False]\n",
      "B\n",
      "[ True  True  True  True  True False  True  True  True  True]\n",
      "B\n",
      "[False  True  True  True  True  True False  True  True  True]\n"
     ]
    }
   ],
   "source": [
    "for moneda, sorteos in zip(mA[:5], obs[:5]):\n",
    "    coin = 'A' if moneda else 'B'\n",
    "    print(coin)\n",
    "    print(sorteos)\n",
    "        "
   ]
  },
  {
   "cell_type": "markdown",
   "metadata": {},
   "source": [
    "### Recordemos que el objetivo es estimar las probabilidades de que salga cara, en las monedas A y B"
   ]
  },
  {
   "cell_type": "markdown",
   "metadata": {},
   "source": [
    "------------------------------------>> Objetivo: estimar pA y pB <<----------------------------------------"
   ]
  },
  {
   "cell_type": "code",
   "execution_count": null,
   "metadata": {},
   "outputs": [],
   "source": []
  },
  {
   "cell_type": "markdown",
   "metadata": {},
   "source": [
    "____"
   ]
  },
  {
   "cell_type": "markdown",
   "metadata": {},
   "source": [
    "# Estimaciones de la probabilidad: Caso \"completo\""
   ]
  },
  {
   "cell_type": "markdown",
   "metadata": {},
   "source": [
    "Caso completo quiere decir que conozco **cuál moneda elegí** y también **cómo resulta cada sorteo**. Me falta saber la probabilidad de cara.\n",
    "\n",
    "El estimador por maximum likelihood de la prob. de que salga cara es la fracción de veces que sale cara."
   ]
  },
  {
   "cell_type": "markdown",
   "metadata": {},
   "source": [
    "<img src=\"plots/EM1.png\" width=\"1200\" height=\"1000\">"
   ]
  },
  {
   "cell_type": "code",
   "execution_count": 182,
   "metadata": {},
   "outputs": [
    {
     "data": {
      "text/plain": [
       "array([False, False,  True, False, False])"
      ]
     },
     "execution_count": 182,
     "metadata": {},
     "output_type": "execute_result"
    }
   ],
   "source": [
    "mA"
   ]
  },
  {
   "cell_type": "code",
   "execution_count": 183,
   "metadata": {},
   "outputs": [
    {
     "data": {
      "text/plain": [
       "array([[False, False, False, False, False, False, False,  True, False,\n",
       "        False]])"
      ]
     },
     "execution_count": 183,
     "metadata": {},
     "output_type": "execute_result"
    }
   ],
   "source": [
    "obs[mA]"
   ]
  },
  {
   "cell_type": "code",
   "execution_count": 184,
   "metadata": {},
   "outputs": [
    {
     "data": {
      "text/plain": [
       "array([[ True,  True,  True,  True,  True,  True,  True,  True,  True,\n",
       "        False],\n",
       "       [False, False, False,  True,  True,  True, False,  True,  True,\n",
       "         True],\n",
       "       [ True,  True,  True,  True,  True, False,  True,  True,  True,\n",
       "         True],\n",
       "       [False,  True,  True,  True,  True,  True, False,  True,  True,\n",
       "         True]])"
      ]
     },
     "execution_count": 184,
     "metadata": {},
     "output_type": "execute_result"
    }
   ],
   "source": [
    "obs[~mA]"
   ]
  },
  {
   "cell_type": "code",
   "execution_count": 185,
   "metadata": {},
   "outputs": [
    {
     "name": "stdout",
     "output_type": "stream",
     "text": [
      "\n",
      "prob. de cara en la moneda A: 0.30000\n",
      "prob. estimada:               0.10000\n",
      "\n",
      "prob. de cara en la moneda B: 0.70000\n",
      "prob. estimada:               0.80000\n"
     ]
    }
   ],
   "source": [
    "fA = np.sum(obs[mA]) / np.size(obs[mA])\n",
    "fB = np.sum(obs[~mA]) / np.size(obs[~mA])\n",
    "print(f'\\nprob. de cara en la moneda A: {pA:.5f}\\nprob. estimada:               {fA:.5f}')\n",
    "print(f'\\nprob. de cara en la moneda B: {pB:.5f}\\nprob. estimada:               {fB:.5f}')"
   ]
  },
  {
   "cell_type": "code",
   "execution_count": 186,
   "metadata": {},
   "outputs": [
    {
     "data": {
      "text/plain": [
       "(0.0, 1.0)"
      ]
     },
     "execution_count": 186,
     "metadata": {},
     "output_type": "execute_result"
    },
    {
     "data": {
      "image/png": "iVBORw0KGgoAAAANSUhEUgAAAZYAAAGACAYAAACOd0QQAAAAOXRFWHRTb2Z0d2FyZQBNYXRwbG90bGliIHZlcnNpb24zLjQuMywgaHR0cHM6Ly9tYXRwbG90bGliLm9yZy/MnkTPAAAACXBIWXMAAAsTAAALEwEAmpwYAAA9q0lEQVR4nO3dd3hUZfrG8e8D0kVAZEFQFEWxLKuurHVdYJIQehVBFAQWKWIDdRF/YAE7iNgQRBCp0kFqgDTsCrqriF1EpIkiIIK0vL8/zqAxkmQCM3NmkvtzXXNl5pQ59xzCPDnnvOd9zTmHiIhIuBTzO4CIiBQuKiwiIhJWKiwiIhJWKiwiIhJWKiwiIhJWKiwiIhJWKiwiIhJWUSssZvYvM3vVzDaamTOzriGsU9fMMs1sb3C9e83MohBXRESOUjSPWI4H1gC3AXvzW9jMTgCWA1uBfwTXuwvoH8GMIiJyjMyPO+/NbDdws3NuQh7L9AEeA6o65/YGpw0C+gCnOHUZICISk2L5GsvlwGuHi0pQClAdON2XRCIikq9YLizV8E6DZbc12zwREYlBx/kdIFzMrCfQE6BcuXIXn3POOT4nEhGJfYcOHeKLL77gl19+AfjBOVflWN8zlgvLFqBqjmlVs837A+fcC8ALAPXq1XOrVq2KbDoRkTi3fft2GjVqxP79+5k7dy5t2rRZH473jeVTYW8BV5lZ6WzTkoBNwDe+JBIRKSS2bdtGIBDgo48+Yu7cubRu3Tps7x3N+1iON7MLzezC4HZrBl/XDM5/xMxSs60yFdgDTDCzv5pZW+BuYIRahImIHL0tW7bQsGFDPvvsMxYsWECzZs3C+v7RPGKpB3wQfJQBHgg+HxKcfzJw5uGFnXM78Y5QqgOrgOeAJ4AR0YssIlK4bNq0iQYNGrBu3ToWLVpEo0aNwr6NqF1jcc5lALneNe+c63qEaR8B/4pcKhGRomPDhg0EAgG2bNnC0qVLueqqqyKynVi+eC8iImGybt06AoEA27dvZ/ny5Vx22WUR25YKi4hIIffll18SCATYvXs3qamp1KtXL6LbU2ERESnEPv30UwKBAAcOHCAtLY0LL7ww4ttUYRERKaTWrFlDQkICZkZ6ejp//etfo7LdWL6PRUREjtL//vc/GjZsSPHixcnIyIhaUQEVFhGRQmfVqlU0bNiQMmXKsHLlSqLdxZUKi4hIIfL222+TkJBAhQoVyMzMpHbt2lHPoMIiIlJIvP766yQlJVGlShUyMzOpVauWLzlUWERECoH09HSSk5OpUaMGK1eupGbNmr5lUWEREYlzy5Yto2nTptSqVYvMzEyqV6/uax4VFhGROLZo0SJatGhBnTp1SE9Pp2rVnKONRJ8Ki4hInAqOoULdunVJS0ujSpVjHqMrLFRYRETi0IwZM2jfvj0XX3wxK1as4MQTT/Q70m9UWERE4syUKVO49tprufzyy1m2bBkVK1b0O9IfqLCIiMSRl156ic6dO1O/fn2WLl1K+fLl/Y70JyosIiJxYsyYMXTv3p3ExEQWLlxIuXLl/I50RCosIiJx4JlnnqF37940a9aMV199lbJly/odKVcqLCIiMe6JJ57g1ltvpXXr1syZM4fSpUv7HSlPKiwiIjHs4Ycf5s477+Saa65hxowZlCxZ0u9I+VJhERGJQc457r//fv7v//6P6667jilTplCiRAm/Y4VEA32JiMQY5xz33HMPjz76KF27duXFF1+kePHifscKmY5YRERiiHOOO++8k0cffZRevXoxbty4uCoqoMIiIhIzsrKyuPXWWxkxYgS33HILzz//PMWKxd/XtE6FiYjEgKysLHr37s3YsWO54447GDZsGGbmd6yjEn+lUESkkDl06BDdu3dn7Nix3HPPPXFdVEBHLCIivjp48CA33HADU6dO5YEHHmDw4MFxXVRAhUVExDcHDhzguuuuY+bMmTzyyCPcfffdfkcKCxUWEREf7Nu3jw4dOjB//nxGjBhBv379/I4UNiosIiJR9uuvv9KuXTsWL17Ms88+S9++ff2OFFYqLCIiUbRnzx5atWpFamoqY8aMoWfPnn5HCjsVFhGRKNm9ezctWrQgMzOT8ePH07VrV78jRYQKi4hIFOzatYumTZvy9ttvM3nyZDp16uR3pIhRYRERibAdO3bQuHFjVq9ezbRp02jfvr3fkSJKhUVEJIJ+/PFHGjVqxEcffcSsWbNo1aqV35EiToVFRCRCtm3bRmJiIp999hnz5s2jadOmfkeKChUWEZEI2LJlCwkJCaxbt44FCxaQlJTkd6SoUWEREQmzjRs3EggE2LhxI4sXL6ZBgwZ+R4oqFRYRkTD69ttvCQQCfP/996SkpHDllVf6HSnqVFhERMLk66+/JhAIsGPHDpYvX86ll17qdyRfqLCIiITBF198QSAQYM+ePaSmpnLxxRf7Hck3KiwiIsfok08+ISEhgQMHDpCWlsYFF1zgdyRfqbCIiByDNWvWkJCQgJmRkZHB+eef73ck32kESRGRo/TBBx/QoEEDjjvuODIzM1VUglRYRESOwnvvvUcgEKBs2bJkZmZSp04dvyPFDBUWEZECeuutt0hMTKRSpUqsXLmS2rVr+x0ppqiwiIgUwMqVK2nUqBFVq1YlMzOT008/3e9IMUeFRUQkRKmpqTRp0oRTTjmFjIwMTj31VL8jxSQVFhGREKSkpNC8eXPOOOMMMjIyqF69ut+RYpYKi4hIPhYuXEjLli0555xzSE9Pp2rVqn5HimkqLCIieZg7dy5t27blb3/7G6mpqZx00kl+R4p5KiwiIrmYPn067du3p169eqxYsYITTzzR70hxQYVFROQIJk2aRKdOnbjiiitISUmhQoUKfkeKGyosIiI5jB8/nhtuuIEGDRqwZMkSypcv73ekuKLCIiKSzejRo/n3v/9No0aNWLhwIeXKlfM7UtyJamExs5vMbJ2Z/Wpmq83sqnyW72Rm/zWzPWa2xcwmm1m1aOUVkaLl6aefpk+fPjRv3px58+ZRpkwZvyPFpagVFjPrADwFPAxcBLwJLDGzmrksfyUwCXgZOB9oDZwHTIlGXhEpWoYNG8Ztt91GmzZtmD17NqVLl/Y7UtyKZrf5/YEJzrmxwde3mFljoA8w8AjLXw5855x7Mvh6nZk9AzwT+agiEknzPtjIsJTP2LRjL9UrluGu5Dq0vqiGb3kefPBBBg8eTIcOHZg0aRIlSpTwLUthEJUjFjMrCVwMLMsxaxlwRS6rvQGcbGYtzHMS0BFYHLmkIhJp8z7YyMA5H7Fxx14csHHHXgbO+Yh5H2yMehbnHPfeey+DBw+mc+fOTJ48WUUlDKJ1KuwkoDiwNcf0rcARr5k4597CKyRTgP3ANsCAGyIXU0QibVjKZ+w9cOgP0/YeOMSwlM+imsM5x8CBAxk6dCjdu3fnpZde4rjjNPZhOMRsqzAzOw/vtNdQvKOdxnhFaEwuy/c0s1Vmtmrbtm3RCyoiBbJpx94CTY8E5xz9+/fnscceo0+fPowdO5bixYtHbfuFXbQKyw/AISBnBztVgS25rDMQeNc5N8w596FzLgW4CehsZqfkXNg594Jzrp5zrl6VKlXCmV1Ewqh6xSO3tMpterhlZWVx8803M3LkSG677Taee+45ihWL2b+x41JU9qZzbj+wGkjKMSsJr3XYkZTFK0bZHX6t3wKROHVXch3KlPjj0UGZEsW5KznyIzBmZWXRq1cvRo0axV133cWTTz6JmUV8u0VNNE8ojgAmmdm7eBfmewPVgdEAZjYRwDnXJbj8AmCsmfUBUoCTgZHA+865b6OYW0TC6HDrr2i3Cjt06BDdu3dn4sSJDBo0iCFDhqioREjUCotzbrqZVQYG4RWJNUBT59z64CI1cyw/wczKAzcDTwA7gTRgQLQyi0hktL6oRlSbFx88eJAuXbowbdo0hgwZwuDBg6O27aLInHN+Zwi7evXquVWrVvkdQ0RiwP79++nUqROzZ8/m0UcfZcAA/W2aGzNb7Zyrd6zvo7Z1IlJo7du3j/bt27NgwQJGjBhBv379/I5UJKiwiEihtHfvXtq2bcvSpUt57rnnuOmmm/yOVGSosIhIobNnzx5atWpFamoqY8eOpUePHn5HKlJUWESkUNm9ezfNmzfntddeY8KECXTp0iX/lSSsVFhEpNDYuXMnTZs25Z133mHy5Mlce+21fkcqklRYRKRQ+Omnn0hOTuaDDz5g+vTptGvXzu9IRZYKi4jEvR9//JGkpCQ+/vhjZs+eTcuWLf2OVKSpsIhIXPv+++9JTEzk888/Z/78+TRu3NjvSEWeCouIxK3NmzeTkJDAN998w8KFC0lMTPQ7kqDCIiJx6rvvviMQCLBp0yaWLFlC/fr1/Y4kQSosIhJ31q9fTyAQYNu2baSkpHDllVf6HUmyUWERkbjy9ddf07BhQ3bt2sWKFSu45JJL/I4kOaiwiEjc+PzzzwkEAuzdu5fU1FT+/ve/+x1JjkCFRUTiwtq1a0lISODQoUOkp6fzt7/9ze9IkguNxCgiMe/DDz+kQYMGAGRkZKioxDgVFhGJae+//z4NGzakZMmSZGZmct555/kdSfKhwiIiMevdd98lISGB448/nszMTM4++2y/I0kIVFhEJCa9+eabJCYmUqlSJVauXMmZZ57pdyQJkQqLiMSczMxMGjVqRLVq1Vi5ciWnnXaa35GkAFRYRCSmpKam0qRJE2rWrElmZiannHKK35GkgFRYRCRmLF26lObNm1O7dm0yMjI4+eST/Y4kR0GFRURiwoIFC2jVqhXnnnsu6enp/OUvf/E7khwlFRYR8d3s2bNp27YtF1xwAampqVSuXNnvSHIMVFhExFfTpk2jQ4cOXHLJJSxfvpxKlSr5HUmOkQqLiPhm4sSJXH/99Vx55ZUsXbqUChUq+B1JwiDkvsLMrCRQBzgJsMPTnXNpEcglIoXcuHHjuPHGGwkEAsyfP59y5cr5HUnCJKTCYmb/BGYCpYATgF1AeWADcEbE0olIoTRq1Cj69u1L48aNmTNnDmXKlPE7koRRqKfCngQed86dCPwc/DkUGBWxZCJSKI0cOZK+ffvSokUL5s2bp6JSCIVaWM4Gnsox7VGgX3jjiEhh9thjj9GvXz/atWvHrFmzKFWqlN+RJAJCLSw78U6BAWw2s/OASsDxEUklIoXO0KFDufvuu+nYsSOvvPIKJUuW9DuSREiohWUO0DT4fDyQDqwGZkUilIgUHs45Bg8ezL333kuXLl2YPHkyxx2nMQYLs5D+dZ1zt2d7PtzM3sE7WkmJUC4RKQSccwwYMIBhw4bRo0cPxowZQ7FiusuhsDuqPxucc6+FO4iIFC7OOfr168dTTz1Fnz59ePbZZ1VUiohcC4uZvQa4/N7AOfevsCYSkbiXlZXFzTffzPPPP8/tt9/OiBEjMLP8V5RCIa8jlhezPT8T6A68DKwHagI34F1vERH5zaFDh+jVqxfjxo1jwIABPPLIIyoqRUyuhcU59/Lh52b2NpDsnPs427SpeIXlvogmFJG4cfDgQbp3786kSZO49957uf/++1VUiqBQr7GcC3yVY9o64JzwxhGReHXgwAE6d+7M9OnTGTp0KIMGDfI7kvgk1CtpmcAEMzvLzMqY2dnAOEAX8UWE/fv306FDB6ZPn87jjz+uolLEhVpYugZ/fgzsBj7C64iyWwQyiUgc2bdvH+3atWPu3LmMHDmSu+66y+9I4rNQ72PZDnQ0s2JAFWCbcy4roslEJObt3buXNm3akJKSwvPPP0/v3r39jiQxoKD3sZQDygKnH74g55z7OtyhRCT2/fLLL7Rs2ZL09HTGjRtH9+7d/Y4kMSLUbvPPA6YAF+Dd22L8fo9L8chEE5FY9fPPP9OsWTPeeOMNXn75ZTp37ux3JIkhoV5jGYXXP9iJeGOxVALG4N3LIiJFyM6dO0lOTubNN99k6tSpKiryJ6GeCrsASHLOHTAzc87tNLO7gDXA5MjFE5FY8tNPP5GcnMx///tfZsyYQdu2bf2OJDEo1MLyK1ACOAD8YGY1gZ+AypEKJiKx5YcffiApKYm1a9cyZ84cmjdv7nckiVGhngp7Dbgm+HwWsATv3haNdy9SBGzdupWGDRvy6aef8uqrr6qoSJ5CbW58TbaX9+Ddz3I8MDESoUQkdmzatImEhATWr1/PwoULSUhI8DuSxLgCd5sfvH9lUgSyiEiM2bBhA4FAgC1btrB06VL+9S91Zi75C7W5cQXgVuAicgxH7JxrFIFcIuKzb775hkAgwI8//siyZcu4/PLL/Y4kcSLUI5aZePerzAX2Ri6OiMSCr776ikAgwK5du1ixYgX/+Mc//I4kcSTUwnIZcJJzbn8kw4iI/z777DMCgQD79u0jLS2Niy66yO9IEmdCbRX2OuoiX6TQW7t2LfXr1+fgwYOkp6erqMhRCfWIpSuw2MzeAbZmn+GcGxLuUCISfR9++CGJiYkcd9xxpKamcu655/odSeJUqIXlIeBU4BvghGzT3RGXFpG48v7775OUlETZsmVJS0vjrLPO8juSxLFQC0tH4Gzn3OZIhhGR6HvnnXdITk6mYsWKpKenU6tWLb8jSZwL9RrL13jduRwTM7vJzNaZ2a9mttrMrspn+ZJmNiS4zj4z+9bMbj3WHCLief3110lKSqJy5cpkZmaqqEhYhHrEMgl41cye4c/XWELq1sXMOgBPATfhNQa4CVhiZuc5577NZbVXgFOAnsAXQFWgTIiZRSQPGRkZNG/enBo1apCWlkaNGjX8jiSFhDmX/2USM1uXyyznnDsjpA15F/4/dM7dmG3aF8As59zAIyzfCO/+mTOdcz+Eso3D6tWr51atWlWQVUSKlBUrVtCyZUtq1apFamoq1apV8zuSxAAzW+2cq3es7xNqX2HHdHxsZiWBi4HhOWYtA67IZbXWwHtAfzPrgndj5hLgHufc7mPJI1KULV68mLZt21KnTh1WrFhBlSpV/I4khUyo11iO1Ul4d+5vzTF9K5Dbn0pnAP/EGwumHXAz0BiYcKSFzaynma0ys1Xbtm0LR2aRQmf+/Pm0bt2a888/n7S0NBUViYhcj1jM7BPn3LnB5xvIpWmxc65mhLIVC26zk3NuZzDHzUCKmVV1zuW81vMC8AJ4p8IilEkkbs2aNYtrr72Wv//976SkpFCxYkW/I0khldepsBuzPb/+GLfzA3AI7+J7dlWBLbmssxnYeLioBH0S/FmTPx/9iEgupk6dSpcuXbjssstYvHgxJ5xwQv4riRylXE+FOedez/byL865zJwPIKTj6GAfY6uBpByzkoA3c1ntDaC6mWXvTfns4M/1oWxXRODll1/m+uuv56qrrmLp0qUqKhJxoV5jGZfL9BcKsK0RQFcz62Fm55rZU0B1YDSAmU00s+wDh00FfgReMrPzzexKvObKs5xz3xdguyJF1tixY+nWrRsJCQksWrSI448/Pv+VRI5Rnq3CzOxwU+JiZlYLsGyzzwB+DXVDzrnpZlYZGAScDKwBmjrnDh991Myx/G4zSwSewWsd9hMwD7g71G2KFGXPPfccN998M02aNGHOnDmULl3a70hSROTX3PhLvAvoBnyVY94W4P6CbMw5NwoYlcu8BkeY9hmggcRECujJJ5+kf//+tGrViunTp1OqVCm/I0kRkmdhcc4VAzCzTOdc/ehEEpFj8eijjzJw4ECuvvpqpk6dSokSJfyOJEVMSNdYchYVMzvDzE6PSCIROSrOOYYMGcLAgQPp1KkT06ZNU1ERX4RUWMxsmpldEXzeDfgY+NjM/h3JcCISGuccgwYN4r777uOGG25g4sSJHHdcqF0BioRXqK3CEoDDnW/1BxKBS9CFdBHfOef4z3/+w8MPP8yNN97I+PHjKV68uN+xpAgL9U+aks65/WZWAzjROfcGgJnlvOFRRKLIOcftt9/O008/Td++fXn66acpVixaPTWJHFmoheW/ZjYQOA1YBBAsMrsiFUxE8paVlcVNN93EmDFj6N+/P8OHD8fM8l9RJMJC/dPm30BdvLFQBgWnXQ5MiUQoEcnboUOH6NGjB2PGjOHuu+9WUZGYEmq3+V8BnXJMmwXMikQoEcndwYMH6dq1K1OmTOG+++7jvvvuU1GRmBJqqzAzsxvNLNXMPgxO+5eZXRPZeCKS3YEDB7juuuuYMmUKDz30EPfff7+KisScUE+FDcE7HTaW37te+Q4YEIlQIvJn+/fvp0OHDsyYMYPhw4dzzz33+B1J5IhCvXjfFbjIOfeDmT0fnLYOr78wEYmwX3/9lauvvppFixbx9NNPc8stt/gdSSRXoRaW4sDh4YAPD6J1fLZpIhIhe/bsoU2bNixbtozRo0fTq1cvvyOJ5CnUU2GLgRFmVgq8ay7AUGBBpIKJCPzyyy80b96c5cuXM378eBUViQuhFpb+eF3d7wQq4B2pnIausYhEzM8//0zjxo3JzMxk4sSJdOvWze9IIiEJtbnxLqCNmf0Fr6BscM7lNqSwiByjHTt20KRJE9577z2mTZvGNdeoAabEjwL1UhccuVGjN4pE0Pbt22nUqBEffvghM2fOpE2bNn5HEikQdX8qEkO2bdtGUlISn3zyCXPmzKF58+Z+RxIpMBUWkRixdetWEhIS+Oqrr1iwYAGNGmnwVIlPKiwiMWDTpk0kJCTw7bffsmjRIgKBgN+RRI5aroXFzEK6+dE593X44ogUPRs2bCAQCLBlyxaWLl3KVVdd5XckkWOS1xHLl3g3Qxq/3xTJEV5rRCGRo7Ru3ToCgQDbt29n+fLlXHbZZX5HEjlmud7H4pwr5pwr7pwrBvQAXgHOAUoHf07F6z9MRI7Cl19+Sf369dm5cyepqakqKlJohHqNZShwlnNub/D1F2bWC/gcmBCJYCKF2aeffkogEODAgQOkpaVx4YUX+h1JJGxCvfO+GHB6jmmnodNgIgW2Zs0aGjRoQFZWFunp6SoqUuiEesTyJJBmZi8BG4BT8Xo8fjJCuUQKpf/9738kJiZSokQJ0tLSOOecc/yOJBJ2oXbpMszMPgLaAxcBm4HuzrmlkQwnUpisWrWKRo0aUa5cOdLS0jjrrLP8jiQSESHfxxIsIiokIkfh7bffJjk5mRNPPJG0tDRq1arldySRiAm5sJjZhcBVwEl4TY4BcM7dG/5YIoXH66+/TpMmTahatSppaWnUrFkz/5VE4lioY973BN4AAnhd5dcF7gBqRy6aSPxLT08nOTmZGjVqsHLlShUVKRJCbRX2H6Cxc64NsDf482rgQMSSicS5ZcuW0bRpU2rVqkVmZibVq1f3O5JIVIRaWP7inHst+DzLzIo555YALSKUSySuLVq0iBYtWlCnTh3S09OpWrWq35FEoibUwvKdmZ0efP450MrMrgL2RySVSBybN28ebdq0oW7duqSlpVGlShW/I4lEVagX7x8HzgW+AYYAs4CSwK2RiSUSn2bOnEmnTp2oV68eS5YsoWLFin5HEom6UO9jmZDt+RIzqwSUdM7tjlQwkXgzZcoUunTpwhVXXMHixYspX76835FEfJFXt/l5nSY7CBwMXmvJCn8skfjy0ksv8e9//5sGDRqwYMECypUr53ckEd/kdcRykD92j58b9RcmRdoLL7xAr169SEpKYt68eZQtW9bvSCK+yquwZL81uBle8+JHgPV4HVAOAGZHLppI7Hv22We55ZZbaNasGbNmzaJ06dJ+RxLxXa6FxTm3/vBzM+sP1HPO7QhO+tzMVgGrgOcjmlAkRj3xxBPceeedtG7dmunTp1OyZEm/I4nEhFCbG1cAch7flw1OFylyHn74Ye68807at2/PjBkzVFREsgm1ufHLwAozG8nv3ebfGpwuUmQ453jggQd44IEHuO6665gwYQLHHRdyl3siRUKo/yP+A3wJdACq43Wb/ywwNkK5RGKOc47/+7//45FHHqFr1668+OKLFC+utisiOYV6H0sWMDr4EClynHPceeedjBgxgl69ejFq1CiKFQv1TLJI0ZLXfSydnXOTgs+757acc258JIKJxIqsrCxuu+2231qAPfXUU5hZ/iuKFFF5HbFcC0wKPu+cyzIOUGGRQisrK4vevXszduxY7rjjDoYNG6aiIpKPvJobN832vGF04ojEjkOHDtGjRw8mTJjAPffcw4MPPqiiIhKCo+3S5Tfq0kUKo4MHD3LDDTcwdepUHnjgAQYPHqyiIhKiY+nSxYLz1SxGCpUDBw5w3XXXMXPmTB555BHuvvtuvyOJxJVQu3QRKRL27dtHhw4dmD9/Pk888QT9+/f3O5JI3AmpSxeRouDXX3+lXbt2LF68mGeeeYabb77Z70gicSmvaywvOOd6Bp9PIpfTYs65LhHKJhI1e/bsoXXr1qxYsYIxY8bQs2dPvyOJxK28ToWty/b8y0gHEfHL7t27adGiBZmZmYwfP56uXbv6HUkkruV1KuyRbM8fiE4ckejatWsXTZs25e2332by5Ml06tTJ70gicS/k3vPMLIB302R1YBPwinMuNVLBRCJtx44dNG7cmNWrVzNt2jTat2/vdySRQiGke1XM7A7gFWA7sAj4EZganC4Sd7Zv305CQgLvv/8+s2bNUlERCaNQe9HrDwSccwOcc6Occ3cDAaBAhcXMbjKzdWb2q5mtNrOrQlzvn2Z20MzWFGR7Ikeybds2GjZsyMcff8y8efNo1aqV35FECpWCdM+a8wL+1+R9A+UfmFkH4CngYeAi4E1giZnVzGe9SsBEQKfd5Jht2bKFBg0a8MUXX7BgwQKaNm2a/0oiUiC5FhYzK3b4AdwPjDOzs8ysjJmdDbwA3FeAbfUHJjjnxjrnPnHO3YI3rkuffNYbhzeg2FsF2JbIn2zcuJH69euzfv16Fi9eTFJSkt+RRAqlULt0OdxJ0rU5pnUCXsxvI2ZWErgYGJ5j1jLgijzWuwmoCjwIDM5vOyK5+fbbbwkEAnz//fcsXbqUf/7zn35HEim0otWly0l4fYptzTF9K5B4pBXMrC7eEdFlzrlD+XUAaGY9gZ4ANWvmeXZNiph169bRsGFDduzYwfLly7n00kv9jiRSqMVkly5mVgqYDtzpnFuX3/IAzrkX8E7PUa9evZCv/Ujh9sUXXxAIBNizZw+pqalcfPHFfkcSKfQKch9LS6A+3tHHb4cPIXbp8gNwCO+0VnZVgS1HWP5k4FzgJTN7KTitmBfDDgJNnXPLQs0uRdMnn3xCQkICBw4cIC0tjQsuuMDvSCJFQqj3sdwHjAku3x7vPpZkYEco6zvn9gOrgZxXS5PwWofltBGoC1yY7TEar2XahbmsI/KbNWvW0KBBA7KyssjIyFBREYmiUI9YugNJzrk1ZtbNOdfPzKYBgwqwrRHAJDN7F3gD6I13F/9oADObCN4RkHPuAPCHe1bM7Htgn3NO97JInj744AOSkpIoVaoUaWlp1KlTx+9IIkVKqIWlYrYv9P1mVsI5966Z1Q91Q8656WZWGa8YnYxXOJpmu5ajK+5yzN577z0aNWpE+fLlSUtLo3bt2n5HEilyQi0sX5nZ+c65j/EKQh8z+wn4qSAbc86NAkblMq9BPuvej3c/jcgRvfXWWzRu3JjKlSuTlpbG6aef7nckkSIp1MIyCKgcfD4QmAIcD9wUiVAiBbVy5UqaNWtGtWrVSEtL49RTT/U7kkiRFVJhcc4tzvb8HUDnFyRmpKam0rJlS2rWrElqairVq1f3O5JIkVaQ5sZnAdfwe7f5M5xzX0QqmEgoUlJSaN26NbVr12bFihVUrZqzRbuIRFuozY07AR8AfwN+wWsK/H5wuogvFi5cSMuWLTnnnHNIT09XURGJEaEesTyI14Jr5eEJwS7vJwFTIxFMJC9z586lQ4cOXHDBBaSkpHDiiSf6HUlEgkLtNr88f+5d+G2gXHjjiORv+vTptG/fnnr16rFixQoVFZEYE2phGQE8bGalAcysDPBQcLpI1EyaNIlOnTpxxRVXkJKSQoUKFfyOJCI55HoqzMw28Mcu8qsBtwXvX6kUnLYZeCTSIUUAxo8fT48ePWjYsCGvvvoq5crpgFkkFuV1jeX6qKUQycfo0aPp06cPycnJzJ07lzJlyvgdSURykVe3+ZnRDCKSm6effprbbruN5s2bM3PmTEqXLu13JBHJQ6jNjUuY2QNm9rWZ/Rr8+UBwZEiRiBk2bBi33XYbbdq0Yfbs2SoqInEg1ObGjwOX4PVIvB44DW+o4BOAfpGJJkXdQw89xKBBg+jQoQOTJk2iRIkSfkcSkRCEWljaAxc4534Mvv7MzN4H/ocKi4SZc47777+fIUOG0LlzZ8aPH89xx4XcSYSI+CzU/625DTif90D0IgXknGPgwIE89thjdO/enRdeeIHixYv7HUtECiDU+1hmAgvMLNnMzjWzxsA8YEbEkkmR45yjf//+PPbYY/Tu3ZuxY8eqqIjEoVCPWP6D13X+c3idUG4EXsHr6kXkmGVlZXHLLbcwatQobr31VkaOHImZDohF4lG+hcXMigNjgZ7OuXsjH0mKmqysLHr16sWLL77IXXfdxWOPPaaiIhLH8j0V5pw7BDQCsiIfR4qaQ4cO0b17d1588UUGDRqkoiJSCIR6jeVJQPetSFgdPHiQzp078/LLLzNkyBCGDh2qoiJSCIR6jeUWvL7C+pvZNn7vQwznXM1IBJPCbf/+/XTq1InZs2fz6KOPMmDAAL8jiUiYhFpY1G+YhM2+ffu45pprePXVVxkxYgT9+ulWKJHCJNQx79VvmITF3r17adeuHUuWLOG5557jpptu8juSiIRZqH2FlTSzIWb2hZn9Evw59PD4LCKh2LNnDy1btmTp0qWMHTtWRUWkkAr1VNjzQB3gVn7vK+weoAbQPTLRpDDZvXs3zZs357XXXmPChAl06dLF70giEiGhFpbWwJnOuR3B12vN7B3gS1RYJB87d+6kadOmvPPOO0yePJlrr73W70giEkGhFpYtQFlgR7ZpZfBGkBTJ1U8//UTjxo15//33mT59Ou3atfM7kohEWKiFZRKw1MyeAb4DTgX6AhPNLHB4IedcWvgjSrz68ccfSUpK4uOPP2b27Nm0bNnS70giEgWhFpZewZ/35JjeO/gA796WM8IRSuLf999/T2JiIp9//jnz58+ncePGfkcSkSgJtblxrUgHkcJj8+bNJCQk8M0337Bw4UISExP9jiQiUaTRkySsvvvuOwKBAJs2bWLJkiXUr1/f70giEmUqLBI269evJxAIsG3bNlJSUrjyyiv9jiQiPlBhkbD4+uuvadiwIbt27WLFihVccsklfkcSEZ+osMgx+/zzzwkEAuzdu5fU1FT+/ve/+x1JRHykwiLHZO3atSQkJHDo0CHS09P529/+5nckEfFZqOOxiPzJRx99RIMGDQDIyMhQURERQIVFjtIHH3xAw4YNKVmyJJmZmZx33nl+RxKRGKHCIgX27rvvEggEKFeuHJmZmZx99tl+RxKRGKLCIgXy5ptvkpiYSKVKlVi5ciVnnnmm35FEJMaosEjIVq5cSaNGjahWrRorV67ktNNO8zuSiMQgFRYJSWpqKo0bN6ZmzZpkZmZyyimn+B1JRGKUCovka+nSpTRv3pzatWuTkZHBySef7HckEYlhKiySpwULFtCqVSvOPfdc0tPT+ctf/uJ3JBGJcSoskqvZs2fTtm1bLrjgAlJTU6lcubLfkUQkDqiwyBG98sordOjQgUsuuYTly5dTqVIlvyOJSJxQYZE/mThxItdddx1XXnklS5cupUKFCn5HEpE4osIifzBu3Di6du1Kw4YNWbx4MeXLl/c7kojEGRUW+c2oUaPo0aMHycnJLFiwgHLlyvkdSUTikAqLADBy5Ej69u1LixYtmDdvHmXKlPE7kojEKRUW4fHHH6dfv360a9eOWbNmUapUKb8jiUgcU2Ep4oYOHcqAAQPo2LEjr7zyCiVLlvQ7kojEORWWIso5x+DBg7n33nvp0qULkydP5rjjNO6biBw7fZMUQc45BgwYwLBhw+jRowdjxoyhWDH9jSEi4aHCUsQ45+jXrx9PPfUUffr04dlnn1VREZGw0jdKEZKVlUXfvn156qmnuP3223nuuedUVEQk7KL6rWJmN5nZOjP71cxWm9lVeSzb1syWmdk2M/vZzN4xs5bRzFuYHDp0iJ49e/L8888zYMAARowYgZn5HUtECqGoFRYz6wA8BTwMXAS8CSwxs5q5rFIfSAOaBZdfDMzNqxjJkR08eJBu3boxbtw4Bg8ezCOPPKKiIiIRY8656GzI7B3gQ+fcjdmmfQHMcs4NDPE93gVec87dkddy9erVc6tWrTqmvIXFgQMH6Ny5M9OnT2fo0KEMGjTI70giEqPMbLVzrt6xvk9UjljMrCRwMbAsx6xlwBUFeKvywE/hylXY7d+/n44dOzJ9+nQef/xxFRURiYponQo7CSgObM0xfStQLZQ3MLO+wCnApPBGK5z27dvH1VdfzZw5cxg5ciR33XWX35FEpIiIi+bGZtYOGAZ0cM6tz2WZnkBPgJo1c7tsUzTs3buXNm3akJKSwvPPP0/v3r39jiQiRUi0jlh+AA4BVXNMrwpsyWtFM7sa7yili3NuQW7LOedecM7Vc87Vq1KlyrHmjVu//PILzZs3Z9myZYwbN05FRUSiLiqFxTm3H1gNJOWYlYTXOuyIzOwavKLS1Tk3K3IJC4eff/6ZJk2akJGRwcsvv0z37t39jiQiRVA0T4WNACYFW3a9AfQGqgOjAcxsIoBzrkvwdUe8onInsNLMDl+L2e+c2x7F3HFh586dNGnShHfffZepU6fSoUMHvyOJSBEVtcLinJtuZpWBQcDJwBqgabZrJjkvjPQO5hsZfByWCTSIZNZ489NPP5GcnMx///tfZsyYQdu2bf2OJCJFWFQv3jvnRgGjcpnXIK/XcmQ//PADSUlJrF27ltmzZ9OiRQu/I4lIERcXrcLkyLZu3UpiYiJffvkl8+fPp3Hjxn5HEhFRYYlXmzdvJhAIsH79ehYuXEhCQoLfkUREABWWuPTdd98RCATYvHkzS5cu5V//+pffkUREfqPCEme++eYbAoEAP/74I8uWLePyyy/3O5KIyB+osMSRr776ikAgwK5du1ixYgX/+Mc//I4kIvInKixx4rPPPiMQCLBv3z7S0tK46KKL/I4kInJEKixxYO3atQQCAZxzpKenU7duXb8jiYjkSuPSxrgPP/yQBg0aUKxYMTIyMlRURCTmqbDEsPfff5+GDRtSqlQpMjMzOffcc/2OJCKSLxWWGPXOO+8QCAQoX748mZmZnHXWWX5HEhEJiQpLDHrjjTdISkqicuXKZGZmcsYZZ/gdSUQkZCosMSYjI4Pk5GROPvlkVq5cyWmnneZ3JBGRAlFhiSErVqygadOmnHbaaWRmZlKjRg2/I4mIFJgKS4xYvHgxzZs356yzziIjI4Nq1arlv5KISAxSYYkB8+fPp3Xr1px//vmkpaVRlIdWFpH4p8Lis1mzZnH11Vdz0UUXkZqaSuXKlf2OJCJyTFRYfDR16lQ6duzIpZdeyvLly6lYsaLfkUREjpkKi09efvllrr/+ev75z3+ydOlSTjjhBL8jiYiEhQqLD8aOHUu3bt1ISEhg8eLFHH/88X5HEhEJGxWWKHvuuefo2bMnjRs3ZsGCBZQtW9bvSCIiYaXCEkVPPvkkN998M61atWLu3LmULl3a70giImGnwhIljz76KP379+fqq69m5syZlCpVyu9IIiIRocISYc45hgwZwsCBA+nUqRPTpk2jRIkSfscSEYkYDfQVQc45Bg0axMMPP8wNN9zAuHHjKF68uN+xomreBxsZlvIZm3bspXrFMtyVXIfWF6mrGpHCTIUlQpxz/Oc//2H48OHceOONjB49mmLFitYB4rwPNjJwzkfsPXAIgI079jJwzkcAKi4ihVjR+qaLEucct99+O8OHD6dv375FsqgADEv57LeictjeA4cYlvKZT4lEJBqK3rddhGVlZdGnTx+efvpp+vfvzzPPPFMkiwrAph17CzRdRAqHovmNFyGHDh2iR48ejBkzhrvvvpvhw4djZn7H8k31imUKNF1ECgcVljA5ePAgN9xwAy+99BL33XcfDz/8cJEuKgB3JdehTIk/NlYoU6I4dyXX8SmRiESDLt6HwYEDB7j++uuZMWMGDz30EPfcc4/fkWLC4Qv0ahUmUrSosByj/fv307FjR+bOncvw4cO54447/I4UU1pfVEOFRKSIUWE5Br/++itXX301ixYt4umnn+aWW27xO5KIiO9UWI7Snj17aNOmDcuWLWP06NH06tXL70giIjFBheUo/PLLL7Ro0YKMjAzGjx9Pt27d/I4kIhIzVFgK6Oeff6ZZs2a88cYbTJw4keuvv97vSCIiMUWFpQB27NhBkyZNeO+995g2bRrXXHON35FERGKOCkuItm/fTqNGjfjwww+ZOXMmbdq08TuSiEhMUmEJwQ8//EBiYiKffPIJc+bMoXnz5n5HEhGJWSos+di6dSsJCQl89dVXLFiwgEaNGvkdSUQkpqmw5GHTpk0kJCTw7bffsmjRIgKBgN+RRERingpLLjZs2EAgEGDLli0sXbqUq666yu9IIiJxQYXlCNatW0cgEGD79u0sW7aMyy+/3O9IIiJxQ4Ulhy+//JJAIMDu3btJTU2lXr16fkcSEYkrKizZfPrppyQkJLB//37S0tK48MIL/Y4kIhJ3VFiC1qxZQ2JiIgDp6en89a9/9TmRiEh80kBfwP/+9z8aNmxIsWLFyMjIUFERETkGRb6wrF69moYNG1K6dGkyMzM555xz/I4kIhLXinRhefvtt0lISKBChQqsXLmSs846y+9IIiJxr8gWltdff52kpCROOukkMjMzqVWrlt+RREQKhSJZWNLT00lOTqZGjRpkZmZSs2ZNvyOJiBQaRa6wLFu2jKZNm3L66aeTkZFBjRoaj11EJJyKVGFZtGgRLVq0oE6dOmRkZFCtWjW/I4mIFDpFprDMmzePNm3aULduXdLS0qhSpYrfkURECqUiUVhmzpxJ+/btufjii1mxYgUnnnii35FERAqtqBYWM7vJzNaZ2a9mttrM8uwy2MzqB5f71cy+NrPeBd3mlClT6NixI5dddhkpKSlUrFjxqPOLiEj+olZYzKwD8BTwMHAR8CawxMyO2CTLzGoBi4PLXQQ8AjxjZu1C3eaECRPo3Lkz9evXZ8mSJZxwwgnH+jFERCQf0Txi6Q9McM6Ndc594py7BdgM9Mll+d7AJufcLcHlxwIvA3eGsrEXXniBbt26kZiYyMKFCzn++OPD8iFERCRvUSksZlYSuBhYlmPWMuCKXFa7/AjLpwD1zKxEXtv7/vvv6dWrF82aNePVV1+lbNmyRxNbRESOQrSOWE4CigNbc0zfCuTW5rdaLssfF3y/XG3YsIHWrVszZ84cSpcufRRxRUTkaBWabvPNrCfQM/hy37x589aUKlXKz0ix4iTgB79DxAjti99pX/xO++J3dcLxJtEqLD8Ah4CqOaZXBbbkss6WXJY/yBF+CZxzLwAvAJjZKuechn5E+yI77YvfaV/8Tvvid2a2KhzvE5VTYc65/cBqICnHrCS8Vl9H8lYuy69yzh0Ib0IREQmXaLYKGwF0NbMeZnaumT0FVAdGA5jZRDObmG350UANMxsZXL4H0BUYHsXMIiJSQFG7xuKcm25mlYFBwMnAGqCpc259cJGaOZZfZ2ZNgSfxmiRvAm51zs0OYXMvhC953NO++J32xe+0L36nffG7sOwLc86F431ERESAItJXmIiIRI8Ki4iIhFVcFhY/OrOMVQXZF2bW1syWmdk2M/vZzN4xs5bRzBtJBf29yLbeP83soJmtiXTGaDmK/yMlzWxIcJ19Zvatmd0arbyRdBT7opOZ/dfM9pjZFjObbGZxP3iTmf3LzF41s41m5sysawjr1DWzTDPbG1zvXjOzfDfmnIurB9ABOADcCJwLPAPsBmrmsnwt4JfgcucG1zsAtPP7s/iwL54C7gYuAWoD9+HdX3SV358l2vsi23qVgK/xugta4/fn8GtfAHOAd/Ga9J8OXAo08PuzRHtfAFcG/0/0C353XAa8D6T6/VnCsC+a4nUCfDWwB+iaz/In4N1POAP4a3C9n4E78t2W3x/2KHbOO8DYHNO+AB7JZfnHgC9yTHsReMvvzxLtfZHLe7wLPOH3Z/FrXwS/UO8D7i9EhaWg/0caATuBk/zOHgP74k5gfY5p3YDdfn+WMO+X3SEUlj7ALqBMtmmDgI0EG37l9oirU2HR7swylh3lvjiS8sBP4crlh6PdF2Z2E15vDg9GLl10HeW+aA28B/Q3s+/M7Asze9rM4rpL8KPcF28AJ5tZC/OcBHTEG8KjqLkceM05tzfbtBS8+w9Pz2vFuCosRLkzyxh3NPviD8ysL3AKMCm80aKuwPvCzOriHalc75w7FNl4UXU0vxdnAP8ELgDaATcDjYEJkYkYNQXeF865t/AKyRRgP7ANMOCGyMWMWbl9dx6el6t4KywSJsEB04YBndzvN6kWCWZWCpgO3OmcW+d3nhhQDHB4vwvvOOdS8IpLOzPL2V9foWZm5+FdhxmKd7TTGO9LdIyfueJNvPVuHPHOLOPI0ewLAMzsamAi0MU5tyAy8aKqoPviZLwLuS+Z2UvBacUAM7ODeD1C5Dx9Ei+O5vdiM7DRObcz27RPgj9r8ue/WuPF0eyLgcC7zrlhwdcfmtkvwGtmdo9z7rvIRI1JuX13Hp6Xq7g6YnHqzPI3R7kvMLNr8E59dXXOzYpcwug5in2xEagLXJjtMRr4Mvg81/0X647y9+INoHqOaypnB3/G7dHsUe6LsnjFKLvDr+Pq+zIM3gKuMrPsg1ol4XWv9U2ea/rdOuEoWjN0wDv32QPvr86n8Fo4nBacPxGYmG35w82NRwaX7xFcv7A0Ny7IvuiI1/TyNrzD+8OPE/3+LNHeF0dY/34KT6uwgv5eHA9sAGYC5+M1uV0DzPT7s/iwL7oG/4/0wbv2dCVew4bVfn+WMOyL4/n9D6k9wL3B5zWD8x8hW7NqoALekckreM2N2+K1Eit8zY2DH/gmvIq5D+8vkn9lm5cBZORYvj5eW/R9wDqgt9+fwY99EXztjvDIiHZuv/fFEdYtNIXlaPYF3gBPy4JfOBuB54Dyfn8On/bFLcDHwX2xGe9C/il+f44w7IcGufz/nxCcPwH4Jsc6dYGVwK/BfXEf+TQ1ds6pE0oREQmvonbOUEREIkyFRUREwkqFRUREwkqFRUREwkqFRUREwkqFRUREwkqFReKCmTUws6PqTsPMTg8ObHTELozM7B4ze/FIy5rZEjM7YgeE+b1vCLmcmdU+mnWPRST3pQjEX19hImHnnHs4j3lNoplFpDDQEYvEBP0FHBmxtF9jKYtElgqLRIyZfWNmA81srZn9ZGYvHe7Q7vDpGDMbYGZb8HoaLmVmI81sU/AxMtjFffb3vMfMfgi+93XZpjczsw/MbJeZbTCz+48QqXvwfTeb2Z3Z1r3fzCbn8hkyzKxH8HlxMxse3P7XQLMcy3Yzs0/M7Gcz+9rMeuWYf1dw25vMrHse+62Dma3KMa2fmb0afF4qmONbM9tqZqPNrEwe+7WMmU0I/husBf6R473vNrOvgrnXmlmbbPPy+8wVzGxc8HNtNLMHzax4cF5XM3vDzJ40sx+B+83sTDNLM7Mfg+85xcwq5rYvJD6psEikXQckA2fi9Zg7KNu8asCJwGlAT+D/8MYYvxBv0KlLjrD8SUANvIGXXjCzOsF5vwBdgIp4X359zKx1jiwNgbPwhuIdYGaJBfwsNwLNgYuAenhjgGf3fXD+CXjD2T5pZn8HMLPGeMPeJgUz5LXtBUAdMzsr27ROwNTg80fx9uWFQG28/XFvtmVz7tf78Pb/mXj/FjmvGX0FXIXX6eADwGQzOznEzzwBbwiK2sFlGuF1+HjYpcDXeN2tP4Q3aNYjeKMQngucitdPmxQmfneMpkfhfeB1/Nc72+umwFfB5w3wep0tnW3+V3hjoRx+nUywU7zg8geBctnmzwAG57LtkcCTween43W2d062+Y8D44LP7wcm51j2uODrDKBH8Hlajs/TKPuyR8gwD7gt+Hw88Gi2eWcH162dy7qTgXuDz88Cfsbr0t3wiuiZ2Za9HFiXx379Gmic7XVP4Ls8/t3+C7TK7zPjFYt9/HFM9GuB9ODzrsC3+fyOtAY+8Pt3VY/wPnTOUyJtQ7bn6/H+Uj1sm3Pu12yvq/PH8T9yLv+Tc+6XI803s0vx/pL/K1ASKIXXDXxeWeqG/jF+y5fzPX5jZk3wjg7OxjsbUBb4KNu6q3Nb9wimAk8AQ/COVuY55/aY2V+C77vazH7bNN4QvIcdab/mlbsL0J/fxzE/nt+H7c5r3dOAEsDmbFmK5Vg++3PMG5HyKbwjpPLB5X9CChWdCpNIOzXb85p4gwQdlrNr7U14X1a5LV/JzMrlMn8q8CpwqnOuAt7AXcYf5ZUlFJuP8B7Ab8MdzwaGA1WdcxWBxdky5LpuLpYDVczsQryjgMOnwX4A9gLnO+cqBh8VnHPZB+nKuV/zyn0aMBZvKOLKwdxrQsy9Ae+I5aRsWU5wzp2fR5aHg9PqOudOAK7nz/9OEudUWCTS+prZKWZ2It41lOl5LDsNGGRmVczsJLzrBjkvqj9gZiXN7Cq8c/+Hj0rKA9udc7+a2SV4f+XnNNjMyprZ+XjXQPLKciQzgFuDn6cScHe2eYePkrYBB4NHL41yrNvVzM4zs7J4Rza5ct7opjOBYXjXS5YHp2fhFYIng0cvmFkNM0vOJ/dAM6tkZqfgjTdyWDm8L/ptwffqhnfUl+9nds5txhvD5QkzO8HMigUvztfPI0t5vIG2dppZDeCuvPaDxCcVFom0qXhfPl/jXUN5MI9lHwRWAR/inUJ6P8fyW/BOm2zCG3ypt3Pu0+C8m4AhZvYzXkGacYT3z8QbfjgVGO4KPq79WCAF+F8w25zDM5xzPwO3Brf7E15hezXb/CV4133SghnSQtjeVLyL/DOdcwezTR8QfI+3zWwXsAJvoK7cPIB3Cmsd3r/FpGy51uKdcnsLb2z7unhDFef7mYO64BXVtXifexZwMrl7APg7sBNYdIT3k0JAA31JxJjZN3gXvlf4nUVEokdHLCIiElYqLCIiElY6FSYiImGlIxYREQkrFRYREQkrFRYREQkrFRYREQkrFRYREQkrFRYREQmr/wfXguH2NT8koAAAAABJRU5ErkJggg==\n",
      "text/plain": [
       "<Figure size 432x432 with 1 Axes>"
      ]
     },
     "metadata": {
      "needs_background": "light"
     },
     "output_type": "display_data"
    }
   ],
   "source": [
    "fig, ax = plt.subplots(figsize=(6,6))\n",
    "plt.plot([0,1],[0,1],\"k-\")\n",
    "plt.plot([pA,pB],[fA,fB],\"o\")\n",
    "ax.set_xlabel('probabilidad verdadera')\n",
    "ax.set_ylabel('probabilidad estimada')\n",
    "ax.set_ylim((0,1))\n",
    "ax.set_xlim((0,1))"
   ]
  },
  {
   "cell_type": "markdown",
   "metadata": {},
   "source": [
    "________"
   ]
  },
  {
   "cell_type": "markdown",
   "metadata": {},
   "source": [
    "# Estimaciones de la probabilidad: Caso \"incompleto\": "
   ]
  },
  {
   "cell_type": "markdown",
   "metadata": {},
   "source": [
    "Es incompleto porque no conozco la identidad de la moneda (es una variable latente). Por lo tanto no puedo calcular la fracción de veces que salió cara para cada moneda. Tengo entonces que, adicionalmente, estimar cuál es la moneda que se eligió."
   ]
  },
  {
   "cell_type": "markdown",
   "metadata": {},
   "source": [
    "## Aplicación del algoritmo de expectación-maximización"
   ]
  },
  {
   "cell_type": "markdown",
   "metadata": {},
   "source": [
    "#### paso 1: asumir valores para los parámetos pA y pB (desconocidos)"
   ]
  },
  {
   "cell_type": "code",
   "execution_count": 188,
   "metadata": {
<<<<<<< HEAD
    "collapsed": true,
    "jupyter": {
     "outputs_hidden": true
    }
=======
    "tags": []
>>>>>>> 25ea9cbcf633f832e60f8c38faab643fd72ea998
   },
   "outputs": [],
   "source": [
    "epA = 0.6\n",
    "epB = 0.5"
   ]
  },
  {
   "cell_type": "markdown",
   "metadata": {},
   "source": [
    "#### paso 2: determinar para cada experimento cual de las monedas es la más probable, en función de las probabilidades propuestas y de la cantidad de caras que salió en cada caso."
   ]
  },
  {
   "cell_type": "code",
   "execution_count": 191,
   "metadata": {},
   "outputs": [
    {
     "name": "stdout",
     "output_type": "stream",
     "text": [
      "9\n",
      "10\n"
     ]
    }
   ],
   "source": [
    "# Experimento 1: contar la cantidad de caras\n",
    "Ncaras = np.sum(obs[0])\n",
    "print(Ncaras); print(len(obs[0]))"
   ]
  },
  {
   "cell_type": "code",
   "execution_count": 226,
   "metadata": {},
   "outputs": [
    {
     "data": {
      "text/plain": [
       "0.026424115199999983"
      ]
     },
     "execution_count": 226,
     "metadata": {},
     "output_type": "execute_result"
    }
   ],
   "source": [
    "stats.binom.pmf(5, 10, 0.2)"
   ]
  },
  {
   "cell_type": "code",
   "execution_count": 194,
   "metadata": {},
   "outputs": [
    {
     "name": "stdout",
     "output_type": "stream",
     "text": [
      "0.04031078399999997 0.009765625000000002\n"
     ]
    }
   ],
   "source": [
    "L_A1 = stats.binom.pmf(Ncaras, Nsor, epA)\n",
    "L_B1 = stats.binom.pmf(Ncaras, Nsor, epB)\n",
    "print(L_A1, L_B1)"
   ]
  },
  {
   "cell_type": "code",
   "execution_count": 230,
   "metadata": {},
   "outputs": [],
   "source": [
    "nc = list(range(Nsor))\n",
    "pmfA = stats.binom.pmf(nc, Nsor, epA)\n",
    "pmfB = stats.binom.pmf(nc, Nsor, epB)"
   ]
  },
  {
   "cell_type": "code",
   "execution_count": 231,
   "metadata": {},
   "outputs": [
    {
     "data": {
      "text/plain": [
       "array([0.00097656, 0.00976563, 0.04394531, 0.1171875 , 0.20507812,\n",
       "       0.24609375, 0.20507812, 0.1171875 , 0.04394531, 0.00976563])"
      ]
     },
     "execution_count": 231,
     "metadata": {},
     "output_type": "execute_result"
    }
   ],
   "source": [
    "pmfB"
   ]
  },
  {
   "cell_type": "code",
   "execution_count": 233,
   "metadata": {},
   "outputs": [
    {
     "data": {
      "text/plain": [
       "[<matplotlib.lines.Line2D at 0x7fccf97874f0>]"
      ]
     },
     "execution_count": 233,
     "metadata": {},
     "output_type": "execute_result"
    },
    {
     "data": {
      "image/png": "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\n",
      "text/plain": [
       "<Figure size 1152x576 with 1 Axes>"
      ]
     },
     "metadata": {
      "needs_background": "light"
     },
     "output_type": "display_data"
    }
   ],
   "source": [
    "fig = plt.figure(figsize=(16, 8))\n",
    "plt.plot(ns, pmfA, drawstyle='steps-mid')\n",
    "plt.plot(ns, pmfB, drawstyle='steps-mid')"
   ]
  },
  {
   "cell_type": "code",
   "execution_count": 234,
   "metadata": {},
   "outputs": [
    {
     "name": "stdout",
     "output_type": "stream",
     "text": [
      "La moneda más probable es la A.  Valores: 0.04031078399999997 y 0.009765625000000002\n",
      "La moneda más probable es la A.  Valores: 0.2508226559999998 y 0.2050781249999999\n",
      "La moneda más probable es la B.  Valores: 0.001572863999999999 y 0.009765625000000002\n",
      "La moneda más probable es la A.  Valores: 0.04031078399999997 y 0.009765625000000002\n",
      "La moneda más probable es la A.  Valores: 0.12093235199999987 y 0.04394531250000004\n"
     ]
    }
   ],
   "source": [
    "# para los 5 experimentos:\n",
    "emA = []\n",
    "for X in obs:\n",
    "    Ncaras = np.sum(X)\n",
    "    L_A = stats.binom.pmf(Ncaras,Nsor,epA)\n",
    "    L_B = stats.binom.pmf(Ncaras,Nsor,epB)\n",
    "    if(L_A>L_B): \n",
    "        S=\"A\"\n",
    "        emA.append(True)\n",
    "    else:\n",
    "        S=\"B\"\n",
    "        emA.append(False)\n",
    "    print('La moneda más probable es la {}.  Valores: {} y {}'.format(S, L_A, L_B))\n",
    "emA = np.array(emA)"
   ]
  },
  {
   "cell_type": "code",
   "execution_count": 235,
   "metadata": {},
   "outputs": [
    {
     "name": "stdout",
     "output_type": "stream",
     "text": [
      "[ True  True False  True  True]\n",
      "['A' 'A' 'B' 'A' 'A']\n"
     ]
    }
   ],
   "source": [
    "print(emA)\n",
    "print(monedas(emA, Nexp))"
   ]
  },
  {
   "cell_type": "markdown",
   "metadata": {},
   "source": [
    "#### paso 3: \n",
    "\n",
    "#### IDEA: _asumo_ estos valores para las variables latentes y estimo los parámetros usando _maximum likelihood_"
   ]
  },
  {
   "cell_type": "code",
   "execution_count": 239,
   "metadata": {},
   "outputs": [
    {
     "name": "stdout",
     "output_type": "stream",
     "text": [
      "La moneda A se asumía con una P(cara)=0.3, que se actualiza a 0.8\n",
      "La moneda A se asumía con una P(cara)=0.7, que se actualiza a 0.1\n"
     ]
    }
   ],
   "source": [
    "# Lo mismo que para el caso completo, pero usando \n",
    "#   emA (probabilidad estimada de elegir la moneda A) \n",
    "#  en lugar de \n",
    "#  mA (prob. de elegir la moneda A)\n",
    "\n",
    "fA = 1.0 * np.sum(obs[emA]) / np.size(obs[emA])\n",
    "fB = 1.0 * np.sum(obs[~emA]) / np.size(obs[~emA])\n",
    "print(f'La moneda A se asumía con una P(cara)={pA}, que se actualiza a {fA}')\n",
    "print(f'La moneda A se asumía con una P(cara)={pB}, que se actualiza a {fB}')"
   ]
  },
  {
   "cell_type": "markdown",
   "metadata": {},
   "source": [
    "#### Repito lo mismo hasta convergencia:"
   ]
  },
  {
   "cell_type": "code",
   "execution_count": 245,
   "metadata": {},
   "outputs": [
    {
     "name": "stdout",
     "output_type": "stream",
     "text": [
      "0.8 0.1\n",
      "0.8 0.1\n",
      "0.8 0.1\n",
      "0.8 0.1\n",
      "0.8 0.1\n",
      "0.8 0.1\n",
      "0.8 0.1\n",
      "0.8 0.1\n",
      "0.8 0.1\n",
      "0.8 0.1\n"
     ]
    }
   ],
   "source": [
    "# estima inicial\n",
    "epA = 0.5\n",
    "epB = 0.4\n",
    "#print(emA, epA, epB)\n",
    "\n",
    "for _ in range(10):  # cantidad de experimentos (sorteo una moneda...)\n",
    "    emA = []\n",
    "    for X in obs:\n",
    "        Ncaras = np.sum(X)\n",
    "        L_A = stats.binom.pmf(Ncaras, Nsor, epA)\n",
    "        L_B = stats.binom.pmf(Ncaras, Nsor, epB)\n",
    "        if(L_A>L_B): \n",
    "            emA.append(True)\n",
    "        else:\n",
    "            emA.append(False)\n",
    "    emA = np.array(emA)\n",
    "    \n",
    "    epA = np.sum(obs[emA]) / np.size(obs[emA])\n",
    "    epB = np.sum(obs[~emA]) / np.size(obs[~emA])\n",
    "    print(epA, epB)"
   ]
  },
  {
   "cell_type": "markdown",
   "metadata": {},
   "source": [
    "## EM: en lugar de elegir la moneda \"más probable\", tomo una probabilidad para cada moneda"
   ]
  },
  {
   "cell_type": "markdown",
   "metadata": {},
   "source": [
    "En la version anterior, asignamos \"probabilidades\" 0 y 1 a las monedas según cual era la más probable, es decir, asumimos la variable latente como conocida.   Ahora vamos a asignarle una probabilidad a cada moneda."
   ]
  },
  {
   "cell_type": "markdown",
   "metadata": {},
   "source": [
    "Para el experimento 1:"
   ]
  },
  {
   "cell_type": "code",
   "execution_count": 246,
   "metadata": {
<<<<<<< HEAD
    "collapsed": true,
    "jupyter": {
     "outputs_hidden": true
    }
=======
    "tags": []
>>>>>>> 25ea9cbcf633f832e60f8c38faab643fd72ea998
   },
   "outputs": [],
   "source": [
    "for i in range(Nexp):    \n",
    "    if(mA[i]):\n",
    "        p = pA\n",
    "    else:\n",
    "        p = pB        \n",
    "    obs[i] = [gen_bernoulli(p) for _ in range(Nsor)]"
   ]
  },
  {
   "cell_type": "code",
   "execution_count": 247,
   "metadata": {},
   "outputs": [
    {
     "name": "stdout",
     "output_type": "stream",
     "text": [
      "0.30198988799999993 3.6449999999999996e-07 0.9999987930074 1.2069925998687657e-06\n"
     ]
    }
   ],
   "source": [
    "Ncaras = np.sum(obs[0])\n",
    "\n",
    "L_A = stats.binom.pmf(Ncaras,Nsor,epA)\n",
    "L_B = stats.binom.pmf(Ncaras,Nsor,epB)\n",
    "\n",
    "# EXPECTACION\n",
    "\n",
    "mpA = L_A / (L_A + L_B)\n",
    "mpB = L_B / (L_A + L_B)\n",
    "\n",
    "print (L_A, L_B, mpA, mpB)"
   ]
  },
  {
   "cell_type": "markdown",
   "metadata": {},
   "source": [
    "El **modelo** ahora es la distribunción Binomial con los parámetros estimados **mpA** y **mpB**\n",
    "\n",
    "Ahora hacemos el paso de MAXIMIZACION"
   ]
  },
  {
   "cell_type": "code",
   "execution_count": 248,
   "metadata": {},
   "outputs": [
    {
     "name": "stdout",
     "output_type": "stream",
     "text": [
      "7.9999903440592 7.9999903440592 9.655940798950125e-06 9.655940798950125e-06\n"
     ]
    }
   ],
   "source": [
    "eCA = Ncaras*mpA\n",
    "eXA = Ncaras*mpA\n",
    "eCB = Ncaras*mpB\n",
    "eXB = Ncaras*mpB\n",
    "\n",
    "print(eCA, eXA, eCB, eXB)"
   ]
  },
  {
   "cell_type": "markdown",
   "metadata": {},
   "source": [
    "Para los 5 experimentos:"
   ]
  },
  {
   "cell_type": "code",
   "execution_count": 249,
   "metadata": {},
   "outputs": [
    {
     "name": "stdout",
     "output_type": "stream",
     "text": [
      "29.99136103480241 9.996789192470613 2.008638965197588 8.003210807529387\n"
     ]
    }
   ],
   "source": [
    "eCAT = []\n",
    "eXAT = []\n",
    "eCBT = []\n",
    "eXBT = []\n",
    "\n",
    "for X in obs:    \n",
    "    Ncaras = np.sum(X)\n",
    "    L_A = stats.binom.pmf(Ncaras,Nsor,epA)\n",
    "    L_B = stats.binom.pmf(Ncaras,Nsor,epB)\n",
    "    mpA = L_A / (L_A + L_B)\n",
    "    mpB = L_B / (L_A + L_B)\n",
    "    \n",
    "    eCA = Ncaras*mpA\n",
    "    eCAT.append(eCA)\n",
    "    \n",
    "    eXA = (Nsor-Ncaras)*mpA\n",
    "    eXAT.append(eXA)    \n",
    "    \n",
    "    eCB = Ncaras*mpB\n",
    "    eCBT.append(eCB)\n",
    "        \n",
    "    eXB = (Nsor-Ncaras)*mpB\n",
    "    eXBT.append(eXB)\n",
    "        \n",
    "print(np.sum(eCAT), np.sum(eXAT), np.sum(eCBT), np.sum(eXBT))"
   ]
  },
  {
   "cell_type": "markdown",
   "metadata": {},
   "source": [
    "<img src=\"plots/EM2.png\" width=\"1200\" height=\"1000\">"
   ]
  },
  {
   "cell_type": "code",
   "execution_count": 250,
   "metadata": {},
   "outputs": [],
   "source": [
    "a = stats.binom.pmf(5,10,0.6)\n",
    "b= stats.binom.pmf(5,10,0.5)"
   ]
  },
  {
   "cell_type": "code",
   "execution_count": 251,
   "metadata": {},
   "outputs": [
    {
     "data": {
      "text/plain": [
       "0.4491489261009363"
      ]
     },
     "execution_count": 251,
     "metadata": {},
     "output_type": "execute_result"
    }
   ],
   "source": [
    "a / (a+b)"
   ]
  },
  {
   "cell_type": "code",
   "execution_count": 252,
   "metadata": {},
   "outputs": [
    {
     "data": {
      "text/plain": [
       "0.5508510738990637"
      ]
     },
     "execution_count": 252,
     "metadata": {},
     "output_type": "execute_result"
    }
   ],
   "source": [
    "b / (a + b)"
   ]
  },
  {
   "cell_type": "code",
   "execution_count": 253,
   "metadata": {},
   "outputs": [
    {
     "name": "stdout",
     "output_type": "stream",
     "text": [
      "0.7500062109486493 0.20062615908093928\n"
     ]
    }
   ],
   "source": [
    "epA = np.sum(eCAT) / (np.sum(eCAT) + np.sum(eXAT))\n",
    "epB = np.sum(eCBT) / (np.sum(eCBT) + np.sum(eXBT))\n",
    "\n",
    "print(epA, epB)"
   ]
  },
  {
   "cell_type": "markdown",
   "metadata": {},
   "source": [
    "## PASO 3: EM"
   ]
  },
  {
   "cell_type": "code",
   "execution_count": 254,
   "metadata": {},
   "outputs": [
    {
     "name": "stdout",
     "output_type": "stream",
     "text": [
      "1 0.38266094420600866 0.7470714285714286\n",
      "2 0.33990511197619494 0.7649605126585012\n",
      "3 0.31106975247709756 0.7626503572240397\n",
      "4 0.2870590223444541 0.7594582691835412\n",
      "5 0.2670680210713923 0.7569255077884252\n",
      "6 0.25157045222258667 0.75509687673152\n",
      "7 0.24071221396222162 0.7538871380938048\n",
      "8 0.23385398196750581 0.7531523003317473\n",
      "9 0.2298740209055879 0.7527357824925927\n",
      "10 0.22769466989109968 0.7525106723238086\n"
     ]
    }
   ],
   "source": [
    "epA = 0.4\n",
    "epB = 0.6\n",
    "\n",
    "ipA = []\n",
    "ipB = []\n",
    "\n",
    "for itera in range(N_itera):\n",
    "\n",
    "    eCAT = []\n",
    "    eXAT = []\n",
    "    eCBT = []\n",
    "    eXBT = []\n",
    "\n",
    "    for X in obs:\n",
    "               \n",
    "        Ncaras = np.sum(X)\n",
    "        L_A = stats.binom.pmf(Ncaras,Nsor,epA)\n",
    "        L_B = stats.binom.pmf(Ncaras,Nsor,epB)\n",
    "        mpA = L_A / (L_A + L_B)\n",
    "        mpB = L_B / (L_A + L_B)\n",
    "        \n",
    "        eCA = Ncaras*mpA\n",
    "        eCAT.append(eCA)\n",
    "        \n",
    "        eXA = (Nsor-Ncaras)*mpA\n",
    "        eXAT.append(eXA)    \n",
    "        \n",
    "        eCB = Ncaras*mpB\n",
    "        eCBT.append(eCB)\n",
    "            \n",
    "        eXB = (Nsor-Ncaras)*mpB\n",
    "        eXBT.append(eXB)\n",
    "        \n",
    "    epA = np.sum(eCAT) / (np.sum(eCAT) + np.sum(eXAT))\n",
    "    epB = np.sum(eCBT) / (np.sum(eCBT) + np.sum(eXBT))\n",
    "    \n",
    "    ipA.append(epA)\n",
    "    ipB.append(epB)\n",
    "    \n",
    "    print(itera+1, epA, epB)\n",
    "    "
   ]
  },
  {
   "cell_type": "code",
   "execution_count": 255,
   "metadata": {},
   "outputs": [
    {
     "data": {
      "text/plain": [
       "<matplotlib.legend.Legend at 0x7fccf970e670>"
      ]
     },
     "execution_count": 255,
     "metadata": {},
     "output_type": "execute_result"
    },
    {
     "data": {
      "image/png": "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\n",
      "text/plain": [
       "<Figure size 432x432 with 1 Axes>"
      ]
     },
     "metadata": {
      "needs_background": "light"
     },
     "output_type": "display_data"
    }
   ],
   "source": [
    "x = range(N_itera)\n",
    "\n",
    "fig, ax = plt.subplots(figsize=(6,6))\n",
    "l1 = plt.plot(x, ipA,\"r-\", label=\"A\")\n",
    "l2 = plt.plot(x, ipB,\"b-\", label=\"B\")\n",
    "ax.axhline(y=pA, color='r', linestyle='--')\n",
    "ax.set_xlabel('numero de iteraciones')\n",
    "ax.axhline(y=pB, color='b', linestyle='--')\n",
    "ax.set_ylabel('probabilidad estimada')\n",
    "ax.set_ylim((0,1))\n",
    "ax.set_xlim((0,N_itera))\n",
    "ax.legend(labels=[\"p(A)\", \"p(B)\"])"
   ]
  },
  {
   "cell_type": "code",
   "execution_count": null,
<<<<<<< HEAD
   "metadata": {
    "collapsed": true,
    "jupyter": {
     "outputs_hidden": true
    }
   },
=======
   "metadata": {},
>>>>>>> 25ea9cbcf633f832e60f8c38faab643fd72ea998
   "outputs": [],
   "source": []
  },
  {
   "cell_type": "code",
   "execution_count": null,
<<<<<<< HEAD
   "metadata": {
    "collapsed": true,
    "jupyter": {
     "outputs_hidden": true
    }
   },
=======
   "metadata": {},
>>>>>>> 25ea9cbcf633f832e60f8c38faab643fd72ea998
   "outputs": [],
   "source": []
  }
 ],
 "metadata": {
  "kernelspec": {
   "display_name": "Python 3 (ipykernel)",
   "language": "python",
   "name": "python3"
  },
  "language_info": {
   "codemirror_mode": {
    "name": "ipython",
    "version": 3
   },
   "file_extension": ".py",
   "mimetype": "text/x-python",
   "name": "python",
   "nbconvert_exporter": "python",
   "pygments_lexer": "ipython3",
<<<<<<< HEAD
   "version": "3.9.2"
=======
   "version": "3.8.5"
>>>>>>> 25ea9cbcf633f832e60f8c38faab643fd72ea998
  }
 },
 "nbformat": 4,
 "nbformat_minor": 4
}
