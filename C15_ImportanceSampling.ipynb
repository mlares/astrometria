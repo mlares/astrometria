{
 "cells": [
  {
   "cell_type": "code",
   "execution_count": 32,
   "id": "2d4ec087-2bc3-4e7b-97ea-bc3b56046dbf",
   "metadata": {},
   "outputs": [],
   "source": [
    "from typing import Union\n",
    "import warnings\n",
    "warnings.filterwarnings('ignore')\n",
    "from scipy import stats"
   ]
  },
  {
   "cell_type": "markdown",
   "id": "370eb03d-08f2-459d-b6e2-3ddbc9596d07",
   "metadata": {},
   "source": [
    "Vamos a usar otra forma de hacer gráficos, que se basa en el libro \"The grammar of graphics\""
   ]
  },
  {
   "cell_type": "markdown",
   "id": "c729d223-2dbb-46f9-a24f-fb7fb950dc55",
   "metadata": {},
   "source": [
    "<img src=\"plots/grammar.jpeg\" width=400 height=400 />"
   ]
  },
  {
   "cell_type": "code",
   "execution_count": 46,
   "id": "61a74fe4-c087-4875-a96d-ae77f8bc4e57",
   "metadata": {},
   "outputs": [],
   "source": [
    "import numpy as np\n",
    "import pandas as pd\n",
    "import plotnine as gg\n",
    "gg.theme_set(gg.theme_bw());\n",
    "from matplotlib import pyplot as plt"
   ]
  },
  {
   "cell_type": "markdown",
   "id": "4f8b4b1c-c69a-48b4-ae05-fd8a5e7591d3",
   "metadata": {},
   "source": [
    "El muestreo por importancia se basa en el hecho de que a veces uno no necesita un sorteo de números aleatorios per se, sino usarlos para estimar un valor de expectación:\n",
    "\n",
    "$$\n",
    "\\begin{align}\n",
    "\\mathbb{E}_p[f] &= \\int f(x) p(x) \\mathrm{d} x \\\\\n",
    "&= \\int f(x) \\frac{p(x)}{q(x)} q(x) \\mathrm{d} x \\\\\n",
    "&= \\mathbb{E}_q\\left[ f(x) \\frac{p(x)}{q(x)} \\right].\n",
    "\\end{align}\n",
    "$$\n",
    "\n",
    "Con esto, podemos generar estimaciones Monte Carlo de una distribución $f$ usando otra distribución $q$."
   ]
  },
  {
   "cell_type": "code",
   "execution_count": 57,
   "id": "71f701c6-28ae-441c-915c-ca836c9ec6a4",
   "metadata": {},
   "outputs": [],
   "source": [
    "p = stats.distributions.beta(a=2, b=4)\n",
    "q = stats.distributions.expon()"
   ]
  },
  {
   "cell_type": "markdown",
   "id": "151a9f20-16cb-4129-83f2-08b53c2b7156",
   "metadata": {},
   "source": [
    "p es la distribución objetivo, y q es la distrib. con la que sabemos generar randoms"
   ]
  },
  {
   "cell_type": "markdown",
   "id": "ecb1579d-ec88-4764-9b2f-9fc04b3a0eb6",
   "metadata": {},
   "source": [
    "&nbsp;"
   ]
  },
  {
   "cell_type": "code",
   "execution_count": 58,
   "id": "cb966ba5-d44e-4e2a-9981-90f858635b7f",
   "metadata": {},
   "outputs": [],
   "source": [
    "xs = np.linspace(0, 5, num=1000)\n",
    "ps = p.pdf(xs)\n",
    "qs = q.pdf(xs)"
   ]
  },
  {
   "cell_type": "code",
   "execution_count": 59,
   "id": "55ee8704-6eb6-4ff4-85eb-248704e4f722",
   "metadata": {},
   "outputs": [],
   "source": [
    "df = pd.DataFrame({\n",
    "    'x': xs,\n",
    "    'p': ps,\n",
    "    'q': qs,\n",
    "})"
   ]
  },
  {
   "cell_type": "code",
   "execution_count": 60,
   "id": "b2265a16-f7a5-4faf-bf02-dc76da8af98e",
   "metadata": {},
   "outputs": [
    {
     "data": {
      "text/html": [
       "<div>\n",
       "<style scoped>\n",
       "    .dataframe tbody tr th:only-of-type {\n",
       "        vertical-align: middle;\n",
       "    }\n",
       "\n",
       "    .dataframe tbody tr th {\n",
       "        vertical-align: top;\n",
       "    }\n",
       "\n",
       "    .dataframe thead th {\n",
       "        text-align: right;\n",
       "    }\n",
       "</style>\n",
       "<table border=\"1\" class=\"dataframe\">\n",
       "  <thead>\n",
       "    <tr style=\"text-align: right;\">\n",
       "      <th></th>\n",
       "      <th>x</th>\n",
       "      <th>p</th>\n",
       "      <th>q</th>\n",
       "    </tr>\n",
       "  </thead>\n",
       "  <tbody>\n",
       "    <tr>\n",
       "      <th>0</th>\n",
       "      <td>0.000000</td>\n",
       "      <td>0.000000</td>\n",
       "      <td>1.000000</td>\n",
       "    </tr>\n",
       "    <tr>\n",
       "      <th>1</th>\n",
       "      <td>0.005005</td>\n",
       "      <td>0.098605</td>\n",
       "      <td>0.995007</td>\n",
       "    </tr>\n",
       "    <tr>\n",
       "      <th>2</th>\n",
       "      <td>0.010010</td>\n",
       "      <td>0.194248</td>\n",
       "      <td>0.990040</td>\n",
       "    </tr>\n",
       "    <tr>\n",
       "      <th>3</th>\n",
       "      <td>0.015015</td>\n",
       "      <td>0.286975</td>\n",
       "      <td>0.985097</td>\n",
       "    </tr>\n",
       "    <tr>\n",
       "      <th>4</th>\n",
       "      <td>0.020020</td>\n",
       "      <td>0.376831</td>\n",
       "      <td>0.980179</td>\n",
       "    </tr>\n",
       "    <tr>\n",
       "      <th>...</th>\n",
       "      <td>...</td>\n",
       "      <td>...</td>\n",
       "      <td>...</td>\n",
       "    </tr>\n",
       "    <tr>\n",
       "      <th>995</th>\n",
       "      <td>4.979980</td>\n",
       "      <td>0.000000</td>\n",
       "      <td>0.006874</td>\n",
       "    </tr>\n",
       "    <tr>\n",
       "      <th>996</th>\n",
       "      <td>4.984985</td>\n",
       "      <td>0.000000</td>\n",
       "      <td>0.006840</td>\n",
       "    </tr>\n",
       "    <tr>\n",
       "      <th>997</th>\n",
       "      <td>4.989990</td>\n",
       "      <td>0.000000</td>\n",
       "      <td>0.006806</td>\n",
       "    </tr>\n",
       "    <tr>\n",
       "      <th>998</th>\n",
       "      <td>4.994995</td>\n",
       "      <td>0.000000</td>\n",
       "      <td>0.006772</td>\n",
       "    </tr>\n",
       "    <tr>\n",
       "      <th>999</th>\n",
       "      <td>5.000000</td>\n",
       "      <td>0.000000</td>\n",
       "      <td>0.006738</td>\n",
       "    </tr>\n",
       "  </tbody>\n",
       "</table>\n",
       "<p>1000 rows × 3 columns</p>\n",
       "</div>"
      ],
      "text/plain": [
       "            x         p         q\n",
       "0    0.000000  0.000000  1.000000\n",
       "1    0.005005  0.098605  0.995007\n",
       "2    0.010010  0.194248  0.990040\n",
       "3    0.015015  0.286975  0.985097\n",
       "4    0.020020  0.376831  0.980179\n",
       "..        ...       ...       ...\n",
       "995  4.979980  0.000000  0.006874\n",
       "996  4.984985  0.000000  0.006840\n",
       "997  4.989990  0.000000  0.006806\n",
       "998  4.994995  0.000000  0.006772\n",
       "999  5.000000  0.000000  0.006738\n",
       "\n",
       "[1000 rows x 3 columns]"
      ]
     },
     "execution_count": 60,
     "metadata": {},
     "output_type": "execute_result"
    }
   ],
   "source": [
    "df"
   ]
  },
  {
   "cell_type": "code",
   "execution_count": 61,
   "id": "5ad2714e-0087-4ddc-945d-97f8e565e87a",
   "metadata": {},
   "outputs": [
    {
     "data": {
      "text/plain": [
       "<AxesSubplot:>"
      ]
     },
     "execution_count": 61,
     "metadata": {},
     "output_type": "execute_result"
    },
    {
     "data": {
      "image/png": "[encoded data removed]",
      "text/plain": [
       "<Figure size 1440x576 with 1 Axes>"
      ]
     },
     "metadata": {
      "needs_background": "light"
     },
     "output_type": "display_data"
    }
   ],
   "source": [
    "fig = plt.figure(figsize=(20, 8))\n",
    "ax = fig.add_subplot()\n",
    "df.iloc[:,1:].plot(ax=ax)"
   ]
  },
  {
   "cell_type": "code",
   "execution_count": 62,
   "id": "1e64a449-236e-423b-9e13-775e51347944",
   "metadata": {},
   "outputs": [],
   "source": [
    "df = pd.melt(df, id_vars=['x'], \n",
    "             var_name='distribution',\n",
    "             value_name='density')"
   ]
  },
  {
   "cell_type": "code",
   "execution_count": 63,
   "id": "5bf90003-0ff7-426b-8102-858c0c36f637",
   "metadata": {},
   "outputs": [
    {
     "data": {
      "image/png": "[encoded data removed]",
      "text/plain": [
       "<Figure size 640x480 with 1 Axes>"
      ]
     },
     "metadata": {},
     "output_type": "display_data"
    },
    {
     "data": {
      "text/plain": [
       "<ggplot: (8786090912362)>"
      ]
     },
     "execution_count": 63,
     "metadata": {},
     "output_type": "execute_result"
    }
   ],
   "source": [
    "gg.ggplot(df) + \\\n",
    "gg.aes(x='x', y='density', color='distribution') + \\\n",
    "gg.geom_line(size=2)"
   ]
  },
  {
   "cell_type": "code",
   "execution_count": 67,
   "id": "7fb93f07-4299-43c3-87b8-e863e347111f",
   "metadata": {},
   "outputs": [],
   "source": [
    "num_samples = 10000\n",
    "samples = q.rvs(size=num_samples)\n",
    "mean = np.mean(samples * p.pdf(samples) / q.pdf(samples))"
   ]
  },
  {
   "cell_type": "markdown",
   "id": "43c2b184-75b0-46b8-8ca2-f3aea48bf64f",
   "metadata": {},
   "source": [
    "Notar que aqui no estamos generando randoms sino directamente calculando la estimación"
   ]
  },
  {
   "cell_type": "code",
   "execution_count": 66,
   "id": "349d4e69-d29e-48e1-811e-e35a2a465e55",
   "metadata": {},
   "outputs": [
    {
     "name": "stdout",
     "output_type": "stream",
     "text": [
      "Estimacion de la media:\n",
      "Estimación pesada por importancia: 0.3304\n",
      "Media verdadera:                   0.3333\n"
     ]
    }
   ],
   "source": [
    "print('Estimacion de la media:')\n",
    "print(f'Estimación pesada por importancia: {mean:.4f}')\n",
    "print(f'Media verdadera:                   {p.mean():.4f}')"
   ]
  },
  {
   "cell_type": "markdown",
   "id": "c99056ea-63ea-424c-8160-7fb9d2a686e1",
   "metadata": {},
   "source": [
    "&emsp;"
   ]
  },
  {
   "cell_type": "markdown",
   "id": "f04e01b7-3c0f-4445-b1f8-6400cf509e91",
   "metadata": {},
   "source": [
    "_________\n",
    "EJEMPLO"
   ]
  },
  {
   "cell_type": "code",
   "execution_count": 22,
   "id": "8265d371-d607-4c26-99c1-a386cc8ae0fb",
   "metadata": {},
   "outputs": [],
   "source": [
    "# Obtener un histograma de la media de una distribución para varios sorteos\n",
    "\n",
    "num_samples = 100\n",
    "num_trials = 1000\n",
    "\n",
    "p = stats.distributions.expon()"
   ]
  },
  {
   "cell_type": "code",
   "execution_count": 23,
   "id": "68bc44d3-fc63-4518-8fdc-9d575c5a4bbc",
   "metadata": {},
   "outputs": [],
   "source": [
    "results = []\n",
    "for _ in range(num_trials):\n",
    "  result = p.rvs(size=num_samples).mean()\n",
    "  results.append(result)"
   ]
  },
  {
   "cell_type": "code",
   "execution_count": 24,
   "id": "dde70bb8-2ed6-413e-8e96-92d3f8b7f2ca",
   "metadata": {},
   "outputs": [],
   "source": [
    "df = pd.DataFrame({\n",
    "    r'$\\mu$': np.array(results)\n",
    "})"
   ]
  },
  {
   "cell_type": "code",
   "execution_count": 17,
   "id": "91dcd493-a2a1-49ab-aae1-85f3fc32d127",
   "metadata": {},
   "outputs": [],
   "source": [
    "# El TLC dice como debería ser la distribución de la media (en el límite)\n",
    "mu = p.mean()\n",
    "sd = np.sqrt(p.var() / num_samples)\n",
    "\n",
    "normal = stats.distributions.norm(loc=mu, scale=sd)\n",
    "xs = np.linspace(0.6, 1.4, num=1000)\n",
    "\n",
    "p_df = pd.DataFrame({'x': xs,\n",
    "                     'p': normal.pdf(xs)})"
   ]
  },
  {
   "cell_type": "code",
   "execution_count": 18,
   "id": "3220a410-dd59-4610-b63b-8992db8ec023",
   "metadata": {},
   "outputs": [],
   "source": [
    "plot = (gg.ggplot(df) +\n",
    "        gg.geom_line(data=p_df, mapping=gg.aes(x='x', y='p'), \n",
    "                       size=2, linetype='dashed') +\n",
    "        gg.geom_histogram(mapping=gg.aes(x='$\\mu$', y='stat(density)'), \n",
    "                            bins=20, colour='black', fill='beige', alpha=0.6)\n",
    "       )"
   ]
  },
  {
   "cell_type": "code",
   "execution_count": 19,
   "id": "666adf7d-6c28-45a7-8493-df94f8f40862",
   "metadata": {},
   "outputs": [
    {
     "data": {
      "image/png": "[encoded data removed]",
      "text/plain": [
       "<Figure size 640x480 with 1 Axes>"
      ]
     },
     "metadata": {},
     "output_type": "display_data"
    },
    {
     "data": {
      "text/plain": [
       "<ggplot: (8786091225248)>"
      ]
     },
     "execution_count": 19,
     "metadata": {},
     "output_type": "execute_result"
    }
   ],
   "source": [
    "plot"
   ]
  },
  {
   "cell_type": "code",
   "execution_count": null,
   "id": "fee378d0-ce8b-43c7-a078-4c8f774f0f14",
   "metadata": {},
   "outputs": [],
   "source": []
  }
 ],
 "metadata": {
  "kernelspec": {
   "display_name": "Python 3 (ipykernel)",
   "language": "python",
   "name": "python3"
  },
  "language_info": {
   "codemirror_mode": {
    "name": "ipython",
    "version": 3
   },
   "file_extension": ".py",
   "mimetype": "text/x-python",
   "name": "python",
   "nbconvert_exporter": "python",
   "pygments_lexer": "ipython3",
   "version": "3.8.5"
  }
 },
 "nbformat": 4,
 "nbformat_minor": 5
}
