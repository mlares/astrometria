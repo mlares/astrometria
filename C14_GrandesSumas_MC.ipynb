{
 "cells": [
  {
   "cell_type": "markdown",
   "metadata": {},
   "source": [
    "### Aproximación MonteCarlo para el cálculo de promedios de muchos números"
   ]
  },
  {
   "cell_type": "code",
   "execution_count": 7,
   "metadata": {
    "collapsed": false,
    "jupyter": {
     "outputs_hidden": false
    }
   },
   "outputs": [
    {
     "name": "stdout",
     "output_type": "stream",
     "text": [
      "10.512992219\n",
      "10.5770396163\n"
     ]
    }
   ],
   "source": [
    "def func(i):\n",
    "    return np.log(i)\n",
    "\n",
    "\n",
    "import numpy as np\n",
    "\n",
    "S = 0\n",
    "N = 100000\n",
    "\n",
    "for i in range(N):\n",
    "    S = S + func(i+1)\n",
    "    \n",
    "print S/N\n",
    "\n",
    "S = 0\n",
    "K = 10\n",
    "\n",
    "L = range(N)\n",
    "\n",
    "for _ in range(K):\n",
    "    i = np.random.choice(L)\n",
    "    S = S + func(i+1)\n",
    "    \n",
    "print S/K"
   ]
  }
 ],
 "metadata": {
  "kernelspec": {
   "display_name": "Python 3 (ipykernel)",
   "language": "python",
   "name": "python3"
  },
  "language_info": {
   "codemirror_mode": {
    "name": "ipython",
    "version": 3
   },
   "file_extension": ".py",
   "mimetype": "text/x-python",
   "name": "python",
   "nbconvert_exporter": "python",
   "pygments_lexer": "ipython3",
   "version": "3.8.5"
  }
 },
 "nbformat": 4,
 "nbformat_minor": 4
}
