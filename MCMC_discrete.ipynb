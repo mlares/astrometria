{
 "cells": [
  {
   "cell_type": "code",
   "execution_count": 113,
   "id": "ddd0f749-7d8b-4c49-8e1a-08dffccd16f2",
   "metadata": {},
   "outputs": [],
   "source": [
    "import numpy as np\n",
    "import pandas as pd\n",
    "from random import seed, random\n",
    "import matplotlib.pyplot as plt"
   ]
  },
  {
   "cell_type": "code",
   "execution_count": 114,
   "id": "7213747b-c6bc-479f-9c64-5b96332f1649",
   "metadata": {},
   "outputs": [],
   "source": [
    "from pprint import pprint as print"
   ]
  },
  {
   "cell_type": "code",
   "execution_count": 156,
   "id": "c410097e-2263-4717-bb83-d114fda2007e",
   "metadata": {},
   "outputs": [],
   "source": [
    "# matriz de transicion\n",
    "P = np.array([[0.2, 0.7, 0.1],\n",
    "              [0.9, 0.0, 0.1],\n",
    "              [0.2, 0.8, 0.0]])"
   ]
  },
  {
   "cell_type": "code",
   "execution_count": 158,
   "id": "d3200e8b-ccd8-4fb9-b8aa-61d5a9919e0a",
   "metadata": {},
   "outputs": [],
   "source": [
    "state = np.array([[1.0, 0., 0.]])\n"
   ]
  },
  {
   "cell_type": "code",
   "execution_count": 160,
   "id": "92c93a35-02ca-4e0e-94d7-8bdb9ea8b60e",
   "metadata": {},
   "outputs": [
    {
     "data": {
      "text/plain": [
       "array([[1., 0., 0.]])"
      ]
     },
     "execution_count": 160,
     "metadata": {},
     "output_type": "execute_result"
    }
   ],
   "source": [
    "state"
   ]
  },
  {
   "cell_type": "code",
   "execution_count": 161,
   "id": "9b841024-b432-40c2-a3c2-fd049a84aa6c",
   "metadata": {},
   "outputs": [
    {
     "data": {
      "text/plain": [
       "array([[0.2, 0.7, 0.1]])"
      ]
     },
     "execution_count": 161,
     "metadata": {},
     "output_type": "execute_result"
    }
   ],
   "source": [
    "np.dot(state,P)"
   ]
  },
  {
   "cell_type": "code",
   "execution_count": 166,
   "id": "83cf6205-bcfc-41c4-bf0d-77666aeaa5f7",
   "metadata": {},
   "outputs": [],
   "source": [
    "# estado inicial\n",
    "state = np.array([[1.0, 0., 0.]])\n",
    "stateHist = state\n",
    "dfStateHist = pd.DataFrame(state)"
   ]
  },
  {
   "cell_type": "code",
   "execution_count": 169,
   "id": "4726aea2-8b0d-419b-bf2b-ca4a51de329d",
   "metadata": {},
   "outputs": [
    {
     "name": "stdout",
     "output_type": "stream",
     "text": [
      "array([[0.50333301, 0.4057579 , 0.09090909]])\n",
      "array([[0.2, 0.7, 0.1],\n",
      "       [0.9, 0. , 0.1],\n",
      "       [0.2, 0.8, 0. ]])\n",
      "array([[0.48403053, 0.42506038, 0.09090909]])\n"
     ]
    }
   ],
   "source": [
    "pprint(state)\n",
    "pprint(P)\n",
    "pprint(np.dot(state,P))"
   ]
  },
  {
   "cell_type": "code",
   "execution_count": null,
   "id": "575ccb91-dd46-43c8-a246-1ec9fce5b55b",
   "metadata": {},
   "outputs": [],
   "source": [
    "                                                 1\n",
    "                 1                               2                              3\n",
    "        1         2       3            1         2       3               1       2       3\n",
    "      1 2 3     1 2 3   1 2 3        1 2 3     1 2 3   1 2 3           1 2 3   1 2 3   1 2 3 "
   ]
  },
  {
   "cell_type": "code",
   "execution_count": 174,
   "id": "446898f6-3b0b-41b2-ac89-89a769a8f025",
   "metadata": {},
   "outputs": [
    {
     "name": "stdout",
     "output_type": "stream",
     "text": [
      "array([0.49197862, 0.41711229, 0.09090909])\n"
     ]
    }
   ],
   "source": [
    "state = np.array([1, 0, 0])\n",
    "for x in range(50):\n",
    "    state = np.dot(state,P)\n",
    "    #print(state)\n",
    "print(state)"
   ]
  },
  {
   "cell_type": "code",
   "execution_count": 177,
   "id": "e5dc71c1-cdae-4ce0-87d6-79ddd4c1b020",
   "metadata": {},
   "outputs": [
    {
     "name": "stdout",
     "output_type": "stream",
     "text": [
      "array([0.49197862, 0.41711229, 0.09090909])\n"
     ]
    }
   ],
   "source": [
    "state = np.array([0, 0, 1])\n",
    "for x in range(50):\n",
    "    state = np.dot(state,P)\n",
    "    #print(state)\n",
    "print(state)"
   ]
  },
  {
   "cell_type": "code",
   "execution_count": 178,
   "id": "f49dd9c2-4792-4ca0-bf3c-497125ca83a9",
   "metadata": {},
   "outputs": [
    {
     "data": {
      "text/plain": [
       "array([0.4919786 , 0.41711231, 0.09090909])"
      ]
     },
     "execution_count": 178,
     "metadata": {},
     "output_type": "execute_result"
    }
   ],
   "source": [
    "state@P"
   ]
  },
  {
   "cell_type": "code",
   "execution_count": 165,
   "id": "94272418-19e2-4a54-9804-b285d7ff70d0",
   "metadata": {},
   "outputs": [
    {
     "name": "stdout",
     "output_type": "stream",
     "text": [
      "array([[0.49197861, 0.4171123 , 0.09090909]])\n"
     ]
    }
   ],
   "source": [
    "for x in range(500):\n",
    "    state = np.dot(state,P)\n",
    "print(state)"
   ]
  },
  {
   "cell_type": "markdown",
   "id": "983ccdba-dcc0-4be8-8d28-f26c9f99cec9",
   "metadata": {},
   "source": [
    "Vimos que para la distribución estacionaria, $$\\pi = \\pi \\; P$$"
   ]
  },
  {
   "cell_type": "code",
   "execution_count": 139,
   "id": "3ea17b25-a0dc-4ef5-ace5-bc7189f79b5a",
   "metadata": {},
   "outputs": [
    {
     "name": "stdout",
     "output_type": "stream",
     "text": [
      "array([[0.49197861, 0.4171123 , 0.09090909]])\n",
      "array([[0.49197861, 0.4171123 , 0.09090909]])\n"
     ]
    }
   ],
   "source": [
    "print(state)\n",
    "print(np.dot(state,P))"
   ]
  },
  {
   "cell_type": "code",
   "execution_count": 181,
   "id": "6cb55727-5efc-4c1e-8aa7-49829146f443",
   "metadata": {},
   "outputs": [],
   "source": [
    "Pn = np.linalg.matrix_power(P,500)"
   ]
  },
  {
   "cell_type": "code",
   "execution_count": 182,
   "id": "16216402-0dd4-4ce8-b6a3-b9dd49e577d0",
   "metadata": {},
   "outputs": [
    {
     "data": {
      "text/plain": [
       "array([[0.49197861, 0.4171123 , 0.09090909],\n",
       "       [0.49197861, 0.4171123 , 0.09090909],\n",
       "       [0.49197861, 0.4171123 , 0.09090909]])"
      ]
     },
     "execution_count": 182,
     "metadata": {},
     "output_type": "execute_result"
    }
   ],
   "source": [
    "Pn"
   ]
  },
  {
   "cell_type": "code",
   "execution_count": 180,
   "id": "8355b0fc-b84c-4749-8c71-d0dd449e2b45",
   "metadata": {},
   "outputs": [
    {
     "data": {
      "text/plain": [
       "array([0.49198767, 0.41710324, 0.09090909])"
      ]
     },
     "execution_count": 180,
     "metadata": {},
     "output_type": "execute_result"
    }
   ],
   "source": [
    "state = np.array([1,0,0])\n",
    "state@Pn"
   ]
  },
  {
   "cell_type": "code",
   "execution_count": 153,
   "id": "166ba2ac-38ea-4653-976f-1b6560f8a70b",
   "metadata": {},
   "outputs": [
    {
     "data": {
      "text/plain": [
       "array([[0.24204741, 0.17397889, 0.00826446],\n",
       "       [0.24203632, 0.17398829, 0.00826446],\n",
       "       [0.24204926, 0.17397732, 0.00826446]])"
      ]
     },
     "execution_count": 153,
     "metadata": {},
     "output_type": "execute_result"
    }
   ],
   "source": [
    "state*Pn"
   ]
  },
  {
   "cell_type": "code",
   "execution_count": 154,
   "id": "ea3f4e59-4664-4427-b41d-94f2c8fa9b95",
   "metadata": {},
   "outputs": [
    {
     "data": {
      "text/plain": [
       "array([[0.49197861, 0.4171123 , 0.09090909]])"
      ]
     },
     "execution_count": 154,
     "metadata": {},
     "output_type": "execute_result"
    }
   ],
   "source": [
    "state"
   ]
  },
  {
   "cell_type": "markdown",
   "id": "a5106bd7-36de-490f-9d8b-7d101d982aa7",
   "metadata": {},
   "source": [
    "___________\n",
    "Ahora guardamos las cadenas"
   ]
  },
  {
   "cell_type": "code",
   "execution_count": 128,
   "id": "2b751509-5a9e-4147-afd3-9c4e784d4c17",
   "metadata": {},
   "outputs": [],
   "source": [
    "state = np.array([[1.0, 0., 0.]])\n",
    "for x in range(500):\n",
    "    state = np.dot(state,P)\n",
    "    stateHist = np.append(stateHist,state,axis=0)\n",
    "    dfDistrHist = pd.DataFrame(stateHist)"
   ]
  },
  {
   "cell_type": "code",
   "execution_count": 129,
   "id": "629dfccd-fb13-4f8d-9425-188b5e564b08",
   "metadata": {},
   "outputs": [
    {
     "data": {
      "text/html": [
       "<div>\n",
       "<style scoped>\n",
       "    .dataframe tbody tr th:only-of-type {\n",
       "        vertical-align: middle;\n",
       "    }\n",
       "\n",
       "    .dataframe tbody tr th {\n",
       "        vertical-align: top;\n",
       "    }\n",
       "\n",
       "    .dataframe thead th {\n",
       "        text-align: right;\n",
       "    }\n",
       "</style>\n",
       "<table border=\"1\" class=\"dataframe\">\n",
       "  <thead>\n",
       "    <tr style=\"text-align: right;\">\n",
       "      <th></th>\n",
       "      <th>0</th>\n",
       "      <th>1</th>\n",
       "      <th>2</th>\n",
       "    </tr>\n",
       "  </thead>\n",
       "  <tbody>\n",
       "    <tr>\n",
       "      <th>0</th>\n",
       "      <td>1.000000</td>\n",
       "      <td>0.000000</td>\n",
       "      <td>0.000000</td>\n",
       "    </tr>\n",
       "    <tr>\n",
       "      <th>1</th>\n",
       "      <td>0.200000</td>\n",
       "      <td>0.700000</td>\n",
       "      <td>0.100000</td>\n",
       "    </tr>\n",
       "    <tr>\n",
       "      <th>2</th>\n",
       "      <td>0.690000</td>\n",
       "      <td>0.220000</td>\n",
       "      <td>0.090000</td>\n",
       "    </tr>\n",
       "    <tr>\n",
       "      <th>3</th>\n",
       "      <td>0.354000</td>\n",
       "      <td>0.555000</td>\n",
       "      <td>0.091000</td>\n",
       "    </tr>\n",
       "    <tr>\n",
       "      <th>4</th>\n",
       "      <td>0.588500</td>\n",
       "      <td>0.320600</td>\n",
       "      <td>0.090900</td>\n",
       "    </tr>\n",
       "    <tr>\n",
       "      <th>...</th>\n",
       "      <td>...</td>\n",
       "      <td>...</td>\n",
       "      <td>...</td>\n",
       "    </tr>\n",
       "    <tr>\n",
       "      <th>496</th>\n",
       "      <td>0.491979</td>\n",
       "      <td>0.417112</td>\n",
       "      <td>0.090909</td>\n",
       "    </tr>\n",
       "    <tr>\n",
       "      <th>497</th>\n",
       "      <td>0.491979</td>\n",
       "      <td>0.417112</td>\n",
       "      <td>0.090909</td>\n",
       "    </tr>\n",
       "    <tr>\n",
       "      <th>498</th>\n",
       "      <td>0.491979</td>\n",
       "      <td>0.417112</td>\n",
       "      <td>0.090909</td>\n",
       "    </tr>\n",
       "    <tr>\n",
       "      <th>499</th>\n",
       "      <td>0.491979</td>\n",
       "      <td>0.417112</td>\n",
       "      <td>0.090909</td>\n",
       "    </tr>\n",
       "    <tr>\n",
       "      <th>500</th>\n",
       "      <td>0.491979</td>\n",
       "      <td>0.417112</td>\n",
       "      <td>0.090909</td>\n",
       "    </tr>\n",
       "  </tbody>\n",
       "</table>\n",
       "<p>501 rows × 3 columns</p>\n",
       "</div>"
      ],
      "text/plain": [
       "            0         1         2\n",
       "0    1.000000  0.000000  0.000000\n",
       "1    0.200000  0.700000  0.100000\n",
       "2    0.690000  0.220000  0.090000\n",
       "3    0.354000  0.555000  0.091000\n",
       "4    0.588500  0.320600  0.090900\n",
       "..        ...       ...       ...\n",
       "496  0.491979  0.417112  0.090909\n",
       "497  0.491979  0.417112  0.090909\n",
       "498  0.491979  0.417112  0.090909\n",
       "499  0.491979  0.417112  0.090909\n",
       "500  0.491979  0.417112  0.090909\n",
       "\n",
       "[501 rows x 3 columns]"
      ]
     },
     "execution_count": 129,
     "metadata": {},
     "output_type": "execute_result"
    }
   ],
   "source": [
    "dfDistrHist"
   ]
  },
  {
   "cell_type": "code",
   "execution_count": 130,
   "id": "6a62d2b8-d148-483e-bc48-68518c0a4b92",
   "metadata": {},
   "outputs": [
    {
     "data": {
      "text/plain": [
       "0    0.491979\n",
       "1    0.417112\n",
       "2    0.090909\n",
       "Name: 500, dtype: float64"
      ]
     },
     "execution_count": 130,
     "metadata": {},
     "output_type": "execute_result"
    }
   ],
   "source": [
    "dfDistrHist.iloc[-1]"
   ]
  },
  {
   "cell_type": "code",
   "execution_count": 131,
   "id": "a1eb6b5b-c57e-48dd-a1aa-05d5c8b6c112",
   "metadata": {},
   "outputs": [
    {
     "data": {
      "text/plain": [
       "<AxesSubplot:>"
      ]
     },
     "execution_count": 131,
     "metadata": {},
     "output_type": "execute_result"
    },
    {
     "data": {
      "image/png": "[encoded data removed]",
      "text/plain": [
       "<Figure size 1440x576 with 1 Axes>"
      ]
     },
     "metadata": {
      "needs_background": "light"
     },
     "output_type": "display_data"
    }
   ],
   "source": [
    "fig = plt.figure(figsize=(20, 8))\n",
    "ax = fig.add_subplot()\n",
    "dfDistrHist.plot(ax=ax)"
   ]
  },
  {
   "cell_type": "code",
   "execution_count": null,
   "id": "c3850c07-d2a1-4cf6-890f-aa9c4a8edb05",
   "metadata": {},
   "outputs": [],
   "source": []
  },
  {
   "cell_type": "code",
   "execution_count": null,
   "id": "a1ef7473-0325-453b-98cd-185b743569a8",
   "metadata": {},
   "outputs": [],
   "source": []
  },
  {
   "cell_type": "code",
   "execution_count": 132,
   "id": "ba0b2e72-e6c1-4755-8aa5-188e009a5cb8",
   "metadata": {},
   "outputs": [],
   "source": [
    "P = np.array([[0.2, 0.7, 0.1],\n",
    "              [0.9, 0.0, 0.1],\n",
    "              [0.2, 0.8, 0.0]])\n",
    "\n",
    "stateChangeHist= np.array([[0.0,  0.0,  0.0],\n",
    "                          [0.0, 0.0,  0.0],\n",
    "                          [0.0, 0.0,  0.0]])\n",
    "\n",
    "state = np.array([[1.0, 0.0, 0.0]])\n",
    "currentState = 0\n",
    "stateHist = state\n",
    "dfStateHist = pd.DataFrame(state)\n",
    "distr_hist = [[0,0,0]]\n",
    "seed(4)"
   ]
  },
  {
   "cell_type": "code",
   "execution_count": 133,
   "id": "abc29afc-3976-4856-a07e-19cd56553b1a",
   "metadata": {},
   "outputs": [],
   "source": [
    "# Simulate from multinomial distribution\n",
    "def simulate_multinomial(vmultinomial):\n",
    "    r=np.random.uniform(0.0, 1.0)\n",
    "    CS=np.cumsum(vmultinomial)\n",
    "    CS=np.insert(CS,0,0)\n",
    "    m=(np.where(CS<r))[0]\n",
    "    nextState=m[len(m)-1]\n",
    "    return nextState"
   ]
  },
  {
   "cell_type": "code",
   "execution_count": 134,
   "id": "c62acfce-f7f8-4f63-b2d6-470e5f8b9ca4",
   "metadata": {},
   "outputs": [],
   "source": [
    "for x in range(100):\n",
    "    currentRow=np.ma.masked_values((P[currentState]), 0.0)\n",
    "    nextState=simulate_multinomial(currentRow)\n",
    "    # Keep track of state changes\n",
    "    stateChangeHist[currentState,nextState]+=1\n",
    "    # Keep track of the state vector itself\n",
    "    state=np.array([[0,0,0]])\n",
    "    state[0,nextState]=1.0\n",
    "    # Keep track of state history\n",
    "    stateHist=np.append(stateHist,state,axis=0)\n",
    "    currentState=nextState\n",
    "    # calculate the actual distribution over the 3 states so far\n",
    "    totals=np.sum(stateHist,axis=0)\n",
    "    gt=np.sum(totals)\n",
    "    distrib=totals/gt\n",
    "    distrib=np.reshape(distrib,(1,3))\n",
    "    distr_hist=np.append(distr_hist,distrib,axis=0)"
   ]
  },
  {
   "cell_type": "code",
   "execution_count": 135,
   "id": "f386a49e-a012-4adb-a6f1-abe76a0723a6",
   "metadata": {},
   "outputs": [
    {
     "name": "stdout",
     "output_type": "stream",
     "text": [
      "array([[0.4950495 , 0.41584158, 0.08910891]])\n",
      "array([[0.26      , 0.66      , 0.08      ],\n",
      "       [0.87804878, 0.        , 0.12195122],\n",
      "       [0.        , 1.        , 0.        ]])\n"
     ]
    },
    {
     "data": {
      "image/png": "[encoded data removed]",
      "text/plain": [
       "<Figure size 432x288 with 1 Axes>"
      ]
     },
     "metadata": {
      "needs_background": "light"
     },
     "output_type": "display_data"
    }
   ],
   "source": [
    "print(distrib)\n",
    "P_hat=stateChangeHist/stateChangeHist.sum(axis=1)[:,None]\n",
    "print(P_hat)\n",
    "dfDistrHist = pd.DataFrame(distr_hist)\n",
    "dfDistrHist.plot(title=\"pasos\")\n",
    "plt.show()"
   ]
  },
  {
   "cell_type": "code",
   "execution_count": null,
   "id": "b8061bed-5f7a-4c1d-8e49-8f0d3f6ba10e",
   "metadata": {},
   "outputs": [],
   "source": []
  }
 ],
 "metadata": {
  "kernelspec": {
   "display_name": "Python 3 (ipykernel)",
   "language": "python",
   "name": "python3"
  },
  "language_info": {
   "codemirror_mode": {
    "name": "ipython",
    "version": 3
   },
   "file_extension": ".py",
   "mimetype": "text/x-python",
   "name": "python",
   "nbconvert_exporter": "python",
   "pygments_lexer": "ipython3",
   "version": "3.8.5"
  }
 },
 "nbformat": 4,
 "nbformat_minor": 5
}
