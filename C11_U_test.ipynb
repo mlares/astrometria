{
 "cells": [
  {
   "cell_type": "code",
   "execution_count": 11,
   "id": "9c6d5945-7059-4ec2-9b0c-47668873c16f",
   "metadata": {},
   "outputs": [],
   "source": [
    "import scipy.stats as st\n",
    "from matplotlib import pyplot as plt\n",
    "import numpy as np"
   ]
  },
  {
   "cell_type": "code",
   "execution_count": 125,
   "id": "53c89b41-44bc-4a54-9907-30870e7aa2cb",
   "metadata": {},
   "outputs": [],
   "source": [
    "F = st.beta(20, 2)"
   ]
  },
  {
   "cell_type": "code",
   "execution_count": 126,
   "id": "1f0e2146-0ce6-4c3c-8b5d-89c1dd83258a",
   "metadata": {},
   "outputs": [],
   "source": [
    "x = F.rvs(size=1000)"
   ]
  },
  {
   "cell_type": "code",
   "execution_count": 127,
   "id": "9a6978ed-859b-4218-8aff-74e18fbc6c84",
   "metadata": {},
   "outputs": [
    {
     "data": {
      "text/plain": [
       "(array([  4.,   4.,   9.,  32.,  48.,  97., 150., 228., 238., 190.]),\n",
       " array([0.65637241, 0.69068957, 0.72500672, 0.75932388, 0.79364104,\n",
       "        0.82795819, 0.86227535, 0.89659251, 0.93090966, 0.96522682,\n",
       "        0.99954398]),\n",
       " <BarContainer object of 10 artists>)"
      ]
     },
     "execution_count": 127,
     "metadata": {},
     "output_type": "execute_result"
    },
    {
     "data": {
      "image/png": "[encoded data removed]",
      "text/plain": [
       "<Figure size 432x288 with 1 Axes>"
      ]
     },
     "metadata": {
      "needs_background": "light"
     },
     "output_type": "display_data"
    }
   ],
   "source": [
    "plt.hist(x)"
   ]
  },
  {
   "cell_type": "code",
   "execution_count": 131,
   "id": "8f130778-a050-4c16-888a-73e50d6702c4",
   "metadata": {},
   "outputs": [],
   "source": [
    "t = np.linspace(0.6, 1, 100)\n",
    "y = F.pdf(t)"
   ]
  },
  {
   "cell_type": "code",
   "execution_count": 132,
   "id": "81ff09bc-279d-4d32-a4e2-28af3b487f11",
   "metadata": {},
   "outputs": [
    {
     "data": {
      "text/plain": [
       "[<matplotlib.lines.Line2D at 0x7fdf654541c0>]"
      ]
     },
     "execution_count": 132,
     "metadata": {},
     "output_type": "execute_result"
    },
    {
     "data": {
      "image/png": "[encoded data removed]",
      "text/plain": [
       "<Figure size 432x288 with 1 Axes>"
      ]
     },
     "metadata": {
      "needs_background": "light"
     },
     "output_type": "display_data"
    }
   ],
   "source": [
    "plt.plot(t, y)"
   ]
  },
  {
   "cell_type": "code",
   "execution_count": 202,
   "id": "65043f5b-25d7-4dee-aa17-0af498a4fa06",
   "metadata": {},
   "outputs": [],
   "source": [
    "x1 = F.rvs(4)\n",
    "x2 = F.rvs(3)"
   ]
  },
  {
   "cell_type": "code",
   "execution_count": 232,
   "id": "ee8c3ab4-6e25-419e-be56-021adeff5e7d",
   "metadata": {},
   "outputs": [
    {
     "data": {
      "text/plain": [
       "MannwhitneyuResult(statistic=7.0, pvalue=0.8571428571428571)"
      ]
     },
     "execution_count": 232,
     "metadata": {},
     "output_type": "execute_result"
    }
   ],
   "source": [
    "st.mannwhitneyu(x1, x2)"
   ]
  },
  {
   "cell_type": "code",
   "execution_count": null,
   "id": "b06afe20-d6cc-4ed8-a50f-43d2c92964e1",
   "metadata": {},
   "outputs": [],
   "source": []
  },
  {
   "cell_type": "code",
   "execution_count": null,
   "id": "a0797980-20ad-4260-9a0e-014f541d1b62",
   "metadata": {},
   "outputs": [],
   "source": []
  },
  {
   "cell_type": "code",
   "execution_count": null,
   "id": "9ea524dc-7e83-44da-97ba-e8e16fa2f11d",
   "metadata": {},
   "outputs": [],
   "source": []
  },
  {
   "cell_type": "code",
   "execution_count": null,
   "id": "a6021fcf-ebe8-4a7c-a4e1-cdecb98574fd",
   "metadata": {},
   "outputs": [],
   "source": []
  },
  {
   "cell_type": "code",
   "execution_count": null,
   "id": "69474850-21ea-499e-bc3c-9a90d963cff0",
   "metadata": {},
   "outputs": [],
   "source": []
  },
  {
   "cell_type": "code",
   "execution_count": null,
   "id": "dea724f9-0f5d-457d-b26c-a7cf8ede7a24",
   "metadata": {},
   "outputs": [],
   "source": []
  },
  {
   "cell_type": "code",
   "execution_count": null,
   "id": "caa0ba8c-ea1c-4fd6-9d83-1b510a4690d2",
   "metadata": {},
   "outputs": [],
   "source": []
  },
  {
   "cell_type": "code",
   "execution_count": null,
   "id": "3d33e271-47ca-4e87-b1c8-6ab382457520",
   "metadata": {},
   "outputs": [],
   "source": []
  },
  {
   "cell_type": "code",
   "execution_count": null,
   "id": "aa3e4453-d033-44bd-888d-a186248b7ab3",
   "metadata": {},
   "outputs": [],
   "source": []
  },
  {
   "cell_type": "code",
   "execution_count": null,
   "id": "b3368aaf-d50e-44e3-82ee-568fb51c8d6f",
   "metadata": {},
   "outputs": [],
   "source": []
  },
  {
   "cell_type": "code",
   "execution_count": 204,
   "id": "909d8ca1-72e7-473e-b418-5419dbfe4450",
   "metadata": {},
   "outputs": [],
   "source": [
    "xx = np.concatenate((x1, x2))"
   ]
  },
  {
   "cell_type": "code",
   "execution_count": 205,
   "id": "cf5a1b13-9cb9-4c13-9b37-a8282ac3d747",
   "metadata": {},
   "outputs": [
    {
     "data": {
      "text/plain": [
       "array([0.97073442, 0.89090726, 0.96495104, 0.87825438, 0.92046285,\n",
       "       0.9077664 , 0.88218601])"
      ]
     },
     "execution_count": 205,
     "metadata": {},
     "output_type": "execute_result"
    }
   ],
   "source": [
    "xx"
   ]
  },
  {
   "cell_type": "code",
   "execution_count": 206,
   "id": "e24b0bff-7c68-4712-bb46-f0f20358f2c9",
   "metadata": {},
   "outputs": [],
   "source": [
    "samples1 = [0]*len(x1) + [1]*len(x2)\n",
    "samples2 = [1]*len(x1) + [0]*len(x2)"
   ]
  },
  {
   "cell_type": "code",
   "execution_count": 207,
   "id": "fadb9918-5496-4b58-8fc4-acda3e923546",
   "metadata": {},
   "outputs": [
    {
     "data": {
      "text/plain": [
       "[0, 0, 0, 0, 1, 1, 1]"
      ]
     },
     "execution_count": 207,
     "metadata": {},
     "output_type": "execute_result"
    }
   ],
   "source": [
    "samples1"
   ]
  },
  {
   "cell_type": "code",
   "execution_count": 208,
   "id": "73de3e19-3511-4309-bd89-4e335040a9d5",
   "metadata": {},
   "outputs": [
    {
     "data": {
      "text/plain": [
       "[1, 1, 1, 1, 0, 0, 0]"
      ]
     },
     "execution_count": 208,
     "metadata": {},
     "output_type": "execute_result"
    }
   ],
   "source": [
    "samples2"
   ]
  },
  {
   "cell_type": "code",
   "execution_count": 209,
   "id": "838d3f3d-9dac-4fdb-9c04-f4b2a8a45a44",
   "metadata": {},
   "outputs": [],
   "source": [
    "samples1 = np.array(samples1)\n",
    "samples2 = np.array(samples2)"
   ]
  },
  {
   "cell_type": "code",
   "execution_count": 210,
   "id": "42e76ca7-aa93-4a78-b999-6a5fa07e1bcd",
   "metadata": {},
   "outputs": [],
   "source": [
    "ids = np.argsort(xx)"
   ]
  },
  {
   "cell_type": "code",
   "execution_count": 211,
   "id": "199db263-6afa-4a4e-9b39-96dda0c17c21",
   "metadata": {},
   "outputs": [
    {
     "data": {
      "text/plain": [
       "array([3, 6, 1, 5, 4, 2, 0])"
      ]
     },
     "execution_count": 211,
     "metadata": {},
     "output_type": "execute_result"
    }
   ],
   "source": [
    "ids"
   ]
  },
  {
   "cell_type": "code",
   "execution_count": 212,
   "id": "a5cda87b-78c9-44da-94a5-96c47c66986e",
   "metadata": {},
   "outputs": [
    {
     "data": {
      "text/plain": [
       "array([0.87825438, 0.88218601, 0.89090726, 0.9077664 , 0.92046285,\n",
       "       0.96495104, 0.97073442])"
      ]
     },
     "execution_count": 212,
     "metadata": {},
     "output_type": "execute_result"
    }
   ],
   "source": [
    "xx[ids]"
   ]
  },
  {
   "cell_type": "code",
   "execution_count": 213,
   "id": "42a35199-4e59-4836-8b85-e160a66ebcd5",
   "metadata": {},
   "outputs": [
    {
     "data": {
      "text/plain": [
       "array([0, 1, 0, 1, 1, 0, 0])"
      ]
     },
     "execution_count": 213,
     "metadata": {},
     "output_type": "execute_result"
    }
   ],
   "source": [
    "samples1[ids]"
   ]
  },
  {
   "cell_type": "code",
   "execution_count": 214,
   "id": "bb3be471-37c3-445f-8705-e645a1dadc7e",
   "metadata": {},
   "outputs": [
    {
     "data": {
      "text/plain": [
       "array([1, 0, 1, 0, 0, 1, 1])"
      ]
     },
     "execution_count": 214,
     "metadata": {},
     "output_type": "execute_result"
    }
   ],
   "source": [
    "samples2[ids]"
   ]
  },
  {
   "cell_type": "code",
   "execution_count": 233,
   "id": "a0d1912b-6556-47f9-8d88-6b96dcf023f3",
   "metadata": {},
   "outputs": [
    {
     "name": "stdout",
     "output_type": "stream",
     "text": [
      "   1   0.878  0  1\n",
      "   2   0.882  1  0\n",
      "   3   0.891  0  1\n",
      "   4   0.908  1  0\n",
      "   5   0.920  1  0\n",
      "   6   0.965  0  1\n",
      "   7   0.971  0  1\n"
     ]
    }
   ],
   "source": [
    "for i in range(len(xx)):\n",
    "    print(f'{i+1:4}   {xx[ids[i]]:.3f}  {samples1[ids[i]]}  {samples2[ids[i]]}')"
   ]
  },
  {
   "cell_type": "code",
   "execution_count": 228,
   "id": "31b520f5-731c-46b3-87e4-1c52c4fe8d4e",
   "metadata": {},
   "outputs": [
    {
     "data": {
      "text/plain": [
       "[2, 4, 5]"
      ]
     },
     "execution_count": 228,
     "metadata": {},
     "output_type": "execute_result"
    }
   ],
   "source": [
    "[i+1 for i in range(len(xx)) if samples1[ids][i]]"
   ]
  },
  {
   "cell_type": "code",
   "execution_count": 229,
   "id": "6a712c21-4f9e-4d51-9a3d-2548dd27d77c",
   "metadata": {},
   "outputs": [
    {
     "data": {
      "text/plain": [
       "[1, 3, 6, 7]"
      ]
     },
     "execution_count": 229,
     "metadata": {},
     "output_type": "execute_result"
    }
   ],
   "source": [
    "[i+1 for i in range(len(xx)) if samples2[ids][i]]"
   ]
  },
  {
   "cell_type": "code",
   "execution_count": 230,
   "id": "95e09c2a-1e94-4843-afd9-333d85e9f9e2",
   "metadata": {},
   "outputs": [
    {
     "data": {
      "text/plain": [
       "18"
      ]
     },
     "execution_count": 230,
     "metadata": {},
     "output_type": "execute_result"
    }
   ],
   "source": [
    "np.dot(ids+1, samples1[ids])"
   ]
  },
  {
   "cell_type": "code",
   "execution_count": 231,
   "id": "d5fc30e3-f941-46c1-9ae1-23ea6acab20c",
   "metadata": {},
   "outputs": [
    {
     "data": {
      "text/plain": [
       "10"
      ]
     },
     "execution_count": 231,
     "metadata": {},
     "output_type": "execute_result"
    }
   ],
   "source": [
    "np.dot(ids+1, samples2[ids])"
   ]
  },
  {
   "cell_type": "code",
   "execution_count": null,
   "id": "da3614c4-9c63-4dc9-b419-4f0abd96a10a",
   "metadata": {},
   "outputs": [],
   "source": []
  },
  {
   "cell_type": "code",
   "execution_count": null,
   "id": "d9fec338-c7bc-4f7e-8b2d-012d12acfc93",
   "metadata": {},
   "outputs": [],
   "source": []
  }
 ],
 "metadata": {
  "kernelspec": {
   "display_name": "Python 3 (ipykernel)",
   "language": "python",
   "name": "python3"
  },
  "language_info": {
   "codemirror_mode": {
    "name": "ipython",
    "version": 3
   },
   "file_extension": ".py",
   "mimetype": "text/x-python",
   "name": "python",
   "nbconvert_exporter": "python",
   "pygments_lexer": "ipython3",
   "version": "3.8.5"
  }
 },
 "nbformat": 4,
 "nbformat_minor": 5
}
