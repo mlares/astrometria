{
 "cells": [
  {
   "cell_type": "markdown",
   "id": "ebbe088c-03ef-4e28-a5f9-0d90f8fc4b43",
   "metadata": {},
   "source": [
    "Se leen dos muestras misteriosas:"
   ]
  },
  {
   "cell_type": "code",
   "execution_count": 1,
   "id": "f833faa4-e6c2-4496-881f-93769829bd4a",
   "metadata": {},
   "outputs": [],
   "source": [
    "with open('params_1.txt', 'r') as f:\n",
    "    data = f.read()"
   ]
  },
  {
   "cell_type": "code",
   "execution_count": 5,
   "id": "99f8f4cc-5bb4-485a-a146-94323fc885b4",
   "metadata": {},
   "outputs": [],
   "source": [
    "mu1, sd1 = [float(x) for x in data.split('\\n')]"
   ]
  },
  {
   "cell_type": "code",
   "execution_count": 6,
   "id": "92621de2-5c58-4572-bb39-d38f2028971f",
   "metadata": {},
   "outputs": [],
   "source": [
    "with open('params_2.txt', 'r') as f:\n",
    "    data = f.read()    "
   ]
  },
  {
   "cell_type": "code",
   "execution_count": 23,
   "id": "ab02eee5-18d5-45cd-abe8-bdf7ba2e513c",
   "metadata": {},
   "outputs": [],
   "source": [
    "mu2, sd2 = [float(x) for x in data.split('\\n')]"
   ]
  },
  {
   "cell_type": "code",
   "execution_count": 24,
   "id": "788124b3-5a0e-4ad3-ac2a-52920d020f7d",
   "metadata": {},
   "outputs": [
    {
     "name": "stdout",
     "output_type": "stream",
     "text": [
      "21.0 21.0 8.0 8.0\n"
     ]
    }
   ],
   "source": [
    "print(mu1, mu2, sd1, sd2)"
   ]
  },
  {
   "cell_type": "markdown",
   "id": "6f4a604d-3a8f-4dd6-8d43-272de1eaa56c",
   "metadata": {},
   "source": [
    "...¿son iguales?\n",
    "\n",
    "quiere decir: ¿se puede decir que las diferencias entre ambas son significativas?"
   ]
  },
  {
   "cell_type": "code",
   "execution_count": 9,
   "id": "a3f752c0-c0d5-4648-8441-f39d5f21046a",
   "metadata": {},
   "outputs": [
    {
     "name": "stdout",
     "output_type": "stream",
     "text": [
      "<class 'float'>\n",
      "<class 'float'>\n",
      "<class 'float'>\n",
      "<class 'float'>\n"
     ]
    }
   ],
   "source": [
    "for x in [mu1, sd1, mu2, sd2]:\n",
    "    print(type(x))"
   ]
  },
  {
   "cell_type": "code",
   "execution_count": 10,
   "id": "ed3d3610-c8e5-4b63-bf6a-36c7ce7dc0b7",
   "metadata": {},
   "outputs": [],
   "source": [
    "from scipy import stats as st"
   ]
  },
  {
   "cell_type": "code",
   "execution_count": 12,
   "id": "7cf44807-8722-4764-88bd-ad918b582fee",
   "metadata": {},
   "outputs": [],
   "source": [
    "f1 = st.norm(mu1, sd1)\n",
    "f2 = st.norm(mu2, sd2)"
   ]
  },
  {
   "cell_type": "code",
   "execution_count": 13,
   "id": "ac4faea0-050b-40ea-9efe-432222f5f23f",
   "metadata": {},
   "outputs": [],
   "source": [
    "from matplotlib import pyplot as plt"
   ]
  },
  {
   "cell_type": "code",
   "execution_count": 28,
   "id": "4e24ef5d-bb07-4494-89d3-e3d8e732318a",
   "metadata": {},
   "outputs": [
    {
     "data": {
      "text/plain": [
       "<matplotlib.legend.Legend at 0x7f905ae56550>"
      ]
     },
     "execution_count": 28,
     "metadata": {},
     "output_type": "execute_result"
    },
    {
     "data": {
      "image/png": "[encoded data removed]",
      "text/plain": [
       "<Figure size 1080x576 with 1 Axes>"
      ]
     },
     "metadata": {
      "needs_background": "light"
     },
     "output_type": "display_data"
    }
   ],
   "source": [
    "fig = plt.figure(figsize=(15,8))\n",
    "N=50\n",
    "nbins=12\n",
    "X1 = f1.rvs(size=N)\n",
    "X2 = f2.rvs(size=N)\n",
    "plt.hist(X1, histtype='step', lw=3, label='muestra 1', bins=nbins)\n",
    "plt.hist(X2, histtype='step', lw=3, label='muestra 2', bins=nbins)\n",
    "plt.legend()"
   ]
  },
  {
   "cell_type": "code",
   "execution_count": 29,
   "id": "0dd33213-cca3-4ba3-92aa-f1f3c729755f",
   "metadata": {},
   "outputs": [
    {
     "data": {
      "text/plain": [
       "(20.4356790377096, 21.138909310064818)"
      ]
     },
     "execution_count": 29,
     "metadata": {},
     "output_type": "execute_result"
    }
   ],
   "source": [
    "X1.mean(), X2.mean()"
   ]
  },
  {
   "cell_type": "code",
   "execution_count": 30,
   "id": "464f265b-3bf7-4f75-8e1f-15b69ccf69cd",
   "metadata": {},
   "outputs": [
    {
     "data": {
      "text/plain": [
       "(8.484283671648896, 8.962408473937666)"
      ]
     },
     "execution_count": 30,
     "metadata": {},
     "output_type": "execute_result"
    }
   ],
   "source": [
    "X1.std(), X2.std()"
   ]
  },
  {
   "cell_type": "code",
   "execution_count": null,
   "id": "8440129e-3ea3-4afd-a3dc-4651f6215e47",
   "metadata": {},
   "outputs": [],
   "source": []
  }
 ],
 "metadata": {
  "kernelspec": {
   "display_name": "Python 3 (ipykernel)",
   "language": "python",
   "name": "python3"
  },
  "language_info": {
   "codemirror_mode": {
    "name": "ipython",
    "version": 3
   },
   "file_extension": ".py",
   "mimetype": "text/x-python",
   "name": "python",
   "nbconvert_exporter": "python",
   "pygments_lexer": "ipython3",
   "version": "3.8.5"
  }
 },
 "nbformat": 4,
 "nbformat_minor": 5
}
